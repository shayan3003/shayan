{
  "nbformat": 4,
  "nbformat_minor": 0,
  "metadata": {
    "colab": {
      "provenance": [],
      "authorship_tag": "ABX9TyMttOO5coGFKUQXw3CA9iNz",
      "include_colab_link": true
    },
    "kernelspec": {
      "name": "python3",
      "display_name": "Python 3"
    },
    "language_info": {
      "name": "python"
    }
  },
  "cells": [
    {
      "cell_type": "markdown",
      "metadata": {
        "id": "view-in-github",
        "colab_type": "text"
      },
      "source": [
        "<a href=\"https://colab.research.google.com/github/shayan3003/shayan/blob/main/shayan.ipynb\" target=\"_parent\"><img src=\"https://colab.research.google.com/assets/colab-badge.svg\" alt=\"Open In Colab\"/></a>"
      ]
    },
    {
      "cell_type": "markdown",
      "source": [
        "# **Movie Recomendation System**"
      ],
      "metadata": {
        "id": "mTD34N_lNM5U"
      }
    },
    {
      "cell_type": "markdown",
      "source": [
        "**objective**  to recommend movies based on what u have seen and also shows u recomendation based on your favourite movie top 10"
      ],
      "metadata": {
        "id": "2iZH_KqKNeh-"
      }
    },
    {
      "cell_type": "markdown",
      "source": [
        "**data source** was gotten from ybi foundation from the given link:- https://github.com/YBIFoundation/Dataset/blob/main/Movies%20Recommendation.csv"
      ],
      "metadata": {
        "id": "Cl1-Zy9qNevu"
      }
    },
    {
      "cell_type": "markdown",
      "source": [
        "# Import Libraries"
      ],
      "metadata": {
        "id": "YkPDmQTQOMOj"
      }
    },
    {
      "cell_type": "code",
      "execution_count": 4,
      "metadata": {
        "id": "NpaCTF2Ygitr"
      },
      "outputs": [],
      "source": [
        "import pandas as pd"
      ]
    },
    {
      "cell_type": "code",
      "source": [
        "import numpy as np"
      ],
      "metadata": {
        "id": "qFrk05p0N25Q"
      },
      "execution_count": 5,
      "outputs": []
    },
    {
      "cell_type": "markdown",
      "source": [
        "# Import dataset"
      ],
      "metadata": {
        "id": "Zx3whUG3OYqa"
      }
    },
    {
      "cell_type": "code",
      "source": [
        "df = pd.read_csv(\"https://raw.githubusercontent.com/YBIFoundation/Dataset/main/Movies%20Recommendation.csv\")"
      ],
      "metadata": {
        "id": "fd2oj-XqOX6n"
      },
      "execution_count": 6,
      "outputs": []
    },
    {
      "cell_type": "code",
      "source": [
        "df.head()"
      ],
      "metadata": {
        "colab": {
          "base_uri": "https://localhost:8080/",
          "height": 655
        },
        "id": "HaDvxr5hOzDQ",
        "outputId": "4fefb8d0-4693-4d2b-ac6f-4d0fd7e8a67a"
      },
      "execution_count": 7,
      "outputs": [
        {
          "output_type": "execute_result",
          "data": {
            "text/plain": [
              "   Movie_ID      Movie_Title                       Movie_Genre Movie_Language  \\\n",
              "0         1       Four Rooms                      Crime Comedy             en   \n",
              "1         2        Star Wars  Adventure Action Science Fiction             en   \n",
              "2         3     Finding Nemo                  Animation Family             en   \n",
              "3         4     Forrest Gump              Comedy Drama Romance             en   \n",
              "4         5  American Beauty                             Drama             en   \n",
              "\n",
              "   Movie_Budget  Movie_Popularity Movie_Release_Date  Movie_Revenue  \\\n",
              "0       4000000         22.876230         09-12-1995        4300000   \n",
              "1      11000000        126.393695         25-05-1977      775398007   \n",
              "2      94000000         85.688789         30-05-2003      940335536   \n",
              "3      55000000        138.133331         06-07-1994      677945399   \n",
              "4      15000000         80.878605         15-09-1999      356296601   \n",
              "\n",
              "   Movie_Runtime  Movie_Vote  ...  \\\n",
              "0           98.0         6.5  ...   \n",
              "1          121.0         8.1  ...   \n",
              "2          100.0         7.6  ...   \n",
              "3          142.0         8.2  ...   \n",
              "4          122.0         7.9  ...   \n",
              "\n",
              "                                      Movie_Homepage  \\\n",
              "0                                                NaN   \n",
              "1  http://www.starwars.com/films/star-wars-episod...   \n",
              "2              http://movies.disney.com/finding-nemo   \n",
              "3                                                NaN   \n",
              "4                      http://www.dreamworks.com/ab/   \n",
              "\n",
              "                                      Movie_Keywords  \\\n",
              "0          hotel new year's eve witch bet hotel room   \n",
              "1        android galaxy hermit death star lightsaber   \n",
              "2  father son relationship harbor underwater fish...   \n",
              "3  vietnam veteran hippie mentally disabled runni...   \n",
              "4  male nudity female nudity adultery midlife cri...   \n",
              "\n",
              "                                      Movie_Overview  \\\n",
              "0  It's Ted the Bellhop's first night on the job....   \n",
              "1  Princess Leia is captured and held hostage by ...   \n",
              "2  Nemo, an adventurous young clownfish, is unexp...   \n",
              "3  A man with a low IQ has accomplished great thi...   \n",
              "4  Lester Burnham, a depressed suburban father in...   \n",
              "\n",
              "                              Movie_Production_House  \\\n",
              "0  [{\"name\": \"Miramax Films\", \"id\": 14}, {\"name\":...   \n",
              "1  [{\"name\": \"Lucasfilm\", \"id\": 1}, {\"name\": \"Twe...   \n",
              "2     [{\"name\": \"Pixar Animation Studios\", \"id\": 3}]   \n",
              "3          [{\"name\": \"Paramount Pictures\", \"id\": 4}]   \n",
              "4  [{\"name\": \"DreamWorks SKG\", \"id\": 27}, {\"name\"...   \n",
              "\n",
              "                            Movie_Production_Country  \\\n",
              "0  [{\"iso_3166_1\": \"US\", \"name\": \"United States o...   \n",
              "1  [{\"iso_3166_1\": \"US\", \"name\": \"United States o...   \n",
              "2  [{\"iso_3166_1\": \"US\", \"name\": \"United States o...   \n",
              "3  [{\"iso_3166_1\": \"US\", \"name\": \"United States o...   \n",
              "4  [{\"iso_3166_1\": \"US\", \"name\": \"United States o...   \n",
              "\n",
              "                      Movie_Spoken_Language  \\\n",
              "0  [{\"iso_639_1\": \"en\", \"name\": \"English\"}]   \n",
              "1  [{\"iso_639_1\": \"en\", \"name\": \"English\"}]   \n",
              "2  [{\"iso_639_1\": \"en\", \"name\": \"English\"}]   \n",
              "3  [{\"iso_639_1\": \"en\", \"name\": \"English\"}]   \n",
              "4  [{\"iso_639_1\": \"en\", \"name\": \"English\"}]   \n",
              "\n",
              "                                       Movie_Tagline  \\\n",
              "0  Twelve outrageous guests. Four scandalous requ...   \n",
              "1       A long time ago in a galaxy far, far away...   \n",
              "2  There are 3.7 trillion fish in the ocean, they...   \n",
              "3  The world will never be the same, once you've ...   \n",
              "4                                       Look closer.   \n",
              "\n",
              "                                          Movie_Cast  \\\n",
              "0  Tim Roth Antonio Banderas Jennifer Beals Madon...   \n",
              "1  Mark Hamill Harrison Ford Carrie Fisher Peter ...   \n",
              "2  Albert Brooks Ellen DeGeneres Alexander Gould ...   \n",
              "3  Tom Hanks Robin Wright Gary Sinise Mykelti Wil...   \n",
              "4  Kevin Spacey Annette Bening Thora Birch Wes Be...   \n",
              "\n",
              "                                          Movie_Crew   Movie_Director  \n",
              "0  [{'name': 'Allison Anders', 'gender': 1, 'depa...   Allison Anders  \n",
              "1  [{'name': 'George Lucas', 'gender': 2, 'depart...     George Lucas  \n",
              "2  [{'name': 'Andrew Stanton', 'gender': 2, 'depa...   Andrew Stanton  \n",
              "3  [{'name': 'Alan Silvestri', 'gender': 2, 'depa...  Robert Zemeckis  \n",
              "4  [{'name': 'Thomas Newman', 'gender': 2, 'depar...       Sam Mendes  \n",
              "\n",
              "[5 rows x 21 columns]"
            ],
            "text/html": [
              "\n",
              "  <div id=\"df-09c08702-89a0-4826-94f4-c4f1892a1de4\" class=\"colab-df-container\">\n",
              "    <div>\n",
              "<style scoped>\n",
              "    .dataframe tbody tr th:only-of-type {\n",
              "        vertical-align: middle;\n",
              "    }\n",
              "\n",
              "    .dataframe tbody tr th {\n",
              "        vertical-align: top;\n",
              "    }\n",
              "\n",
              "    .dataframe thead th {\n",
              "        text-align: right;\n",
              "    }\n",
              "</style>\n",
              "<table border=\"1\" class=\"dataframe\">\n",
              "  <thead>\n",
              "    <tr style=\"text-align: right;\">\n",
              "      <th></th>\n",
              "      <th>Movie_ID</th>\n",
              "      <th>Movie_Title</th>\n",
              "      <th>Movie_Genre</th>\n",
              "      <th>Movie_Language</th>\n",
              "      <th>Movie_Budget</th>\n",
              "      <th>Movie_Popularity</th>\n",
              "      <th>Movie_Release_Date</th>\n",
              "      <th>Movie_Revenue</th>\n",
              "      <th>Movie_Runtime</th>\n",
              "      <th>Movie_Vote</th>\n",
              "      <th>...</th>\n",
              "      <th>Movie_Homepage</th>\n",
              "      <th>Movie_Keywords</th>\n",
              "      <th>Movie_Overview</th>\n",
              "      <th>Movie_Production_House</th>\n",
              "      <th>Movie_Production_Country</th>\n",
              "      <th>Movie_Spoken_Language</th>\n",
              "      <th>Movie_Tagline</th>\n",
              "      <th>Movie_Cast</th>\n",
              "      <th>Movie_Crew</th>\n",
              "      <th>Movie_Director</th>\n",
              "    </tr>\n",
              "  </thead>\n",
              "  <tbody>\n",
              "    <tr>\n",
              "      <th>0</th>\n",
              "      <td>1</td>\n",
              "      <td>Four Rooms</td>\n",
              "      <td>Crime Comedy</td>\n",
              "      <td>en</td>\n",
              "      <td>4000000</td>\n",
              "      <td>22.876230</td>\n",
              "      <td>09-12-1995</td>\n",
              "      <td>4300000</td>\n",
              "      <td>98.0</td>\n",
              "      <td>6.5</td>\n",
              "      <td>...</td>\n",
              "      <td>NaN</td>\n",
              "      <td>hotel new year's eve witch bet hotel room</td>\n",
              "      <td>It's Ted the Bellhop's first night on the job....</td>\n",
              "      <td>[{\"name\": \"Miramax Films\", \"id\": 14}, {\"name\":...</td>\n",
              "      <td>[{\"iso_3166_1\": \"US\", \"name\": \"United States o...</td>\n",
              "      <td>[{\"iso_639_1\": \"en\", \"name\": \"English\"}]</td>\n",
              "      <td>Twelve outrageous guests. Four scandalous requ...</td>\n",
              "      <td>Tim Roth Antonio Banderas Jennifer Beals Madon...</td>\n",
              "      <td>[{'name': 'Allison Anders', 'gender': 1, 'depa...</td>\n",
              "      <td>Allison Anders</td>\n",
              "    </tr>\n",
              "    <tr>\n",
              "      <th>1</th>\n",
              "      <td>2</td>\n",
              "      <td>Star Wars</td>\n",
              "      <td>Adventure Action Science Fiction</td>\n",
              "      <td>en</td>\n",
              "      <td>11000000</td>\n",
              "      <td>126.393695</td>\n",
              "      <td>25-05-1977</td>\n",
              "      <td>775398007</td>\n",
              "      <td>121.0</td>\n",
              "      <td>8.1</td>\n",
              "      <td>...</td>\n",
              "      <td>http://www.starwars.com/films/star-wars-episod...</td>\n",
              "      <td>android galaxy hermit death star lightsaber</td>\n",
              "      <td>Princess Leia is captured and held hostage by ...</td>\n",
              "      <td>[{\"name\": \"Lucasfilm\", \"id\": 1}, {\"name\": \"Twe...</td>\n",
              "      <td>[{\"iso_3166_1\": \"US\", \"name\": \"United States o...</td>\n",
              "      <td>[{\"iso_639_1\": \"en\", \"name\": \"English\"}]</td>\n",
              "      <td>A long time ago in a galaxy far, far away...</td>\n",
              "      <td>Mark Hamill Harrison Ford Carrie Fisher Peter ...</td>\n",
              "      <td>[{'name': 'George Lucas', 'gender': 2, 'depart...</td>\n",
              "      <td>George Lucas</td>\n",
              "    </tr>\n",
              "    <tr>\n",
              "      <th>2</th>\n",
              "      <td>3</td>\n",
              "      <td>Finding Nemo</td>\n",
              "      <td>Animation Family</td>\n",
              "      <td>en</td>\n",
              "      <td>94000000</td>\n",
              "      <td>85.688789</td>\n",
              "      <td>30-05-2003</td>\n",
              "      <td>940335536</td>\n",
              "      <td>100.0</td>\n",
              "      <td>7.6</td>\n",
              "      <td>...</td>\n",
              "      <td>http://movies.disney.com/finding-nemo</td>\n",
              "      <td>father son relationship harbor underwater fish...</td>\n",
              "      <td>Nemo, an adventurous young clownfish, is unexp...</td>\n",
              "      <td>[{\"name\": \"Pixar Animation Studios\", \"id\": 3}]</td>\n",
              "      <td>[{\"iso_3166_1\": \"US\", \"name\": \"United States o...</td>\n",
              "      <td>[{\"iso_639_1\": \"en\", \"name\": \"English\"}]</td>\n",
              "      <td>There are 3.7 trillion fish in the ocean, they...</td>\n",
              "      <td>Albert Brooks Ellen DeGeneres Alexander Gould ...</td>\n",
              "      <td>[{'name': 'Andrew Stanton', 'gender': 2, 'depa...</td>\n",
              "      <td>Andrew Stanton</td>\n",
              "    </tr>\n",
              "    <tr>\n",
              "      <th>3</th>\n",
              "      <td>4</td>\n",
              "      <td>Forrest Gump</td>\n",
              "      <td>Comedy Drama Romance</td>\n",
              "      <td>en</td>\n",
              "      <td>55000000</td>\n",
              "      <td>138.133331</td>\n",
              "      <td>06-07-1994</td>\n",
              "      <td>677945399</td>\n",
              "      <td>142.0</td>\n",
              "      <td>8.2</td>\n",
              "      <td>...</td>\n",
              "      <td>NaN</td>\n",
              "      <td>vietnam veteran hippie mentally disabled runni...</td>\n",
              "      <td>A man with a low IQ has accomplished great thi...</td>\n",
              "      <td>[{\"name\": \"Paramount Pictures\", \"id\": 4}]</td>\n",
              "      <td>[{\"iso_3166_1\": \"US\", \"name\": \"United States o...</td>\n",
              "      <td>[{\"iso_639_1\": \"en\", \"name\": \"English\"}]</td>\n",
              "      <td>The world will never be the same, once you've ...</td>\n",
              "      <td>Tom Hanks Robin Wright Gary Sinise Mykelti Wil...</td>\n",
              "      <td>[{'name': 'Alan Silvestri', 'gender': 2, 'depa...</td>\n",
              "      <td>Robert Zemeckis</td>\n",
              "    </tr>\n",
              "    <tr>\n",
              "      <th>4</th>\n",
              "      <td>5</td>\n",
              "      <td>American Beauty</td>\n",
              "      <td>Drama</td>\n",
              "      <td>en</td>\n",
              "      <td>15000000</td>\n",
              "      <td>80.878605</td>\n",
              "      <td>15-09-1999</td>\n",
              "      <td>356296601</td>\n",
              "      <td>122.0</td>\n",
              "      <td>7.9</td>\n",
              "      <td>...</td>\n",
              "      <td>http://www.dreamworks.com/ab/</td>\n",
              "      <td>male nudity female nudity adultery midlife cri...</td>\n",
              "      <td>Lester Burnham, a depressed suburban father in...</td>\n",
              "      <td>[{\"name\": \"DreamWorks SKG\", \"id\": 27}, {\"name\"...</td>\n",
              "      <td>[{\"iso_3166_1\": \"US\", \"name\": \"United States o...</td>\n",
              "      <td>[{\"iso_639_1\": \"en\", \"name\": \"English\"}]</td>\n",
              "      <td>Look closer.</td>\n",
              "      <td>Kevin Spacey Annette Bening Thora Birch Wes Be...</td>\n",
              "      <td>[{'name': 'Thomas Newman', 'gender': 2, 'depar...</td>\n",
              "      <td>Sam Mendes</td>\n",
              "    </tr>\n",
              "  </tbody>\n",
              "</table>\n",
              "<p>5 rows × 21 columns</p>\n",
              "</div>\n",
              "    <div class=\"colab-df-buttons\">\n",
              "\n",
              "  <div class=\"colab-df-container\">\n",
              "    <button class=\"colab-df-convert\" onclick=\"convertToInteractive('df-09c08702-89a0-4826-94f4-c4f1892a1de4')\"\n",
              "            title=\"Convert this dataframe to an interactive table.\"\n",
              "            style=\"display:none;\">\n",
              "\n",
              "  <svg xmlns=\"http://www.w3.org/2000/svg\" height=\"24px\" viewBox=\"0 -960 960 960\">\n",
              "    <path d=\"M120-120v-720h720v720H120Zm60-500h600v-160H180v160Zm220 220h160v-160H400v160Zm0 220h160v-160H400v160ZM180-400h160v-160H180v160Zm440 0h160v-160H620v160ZM180-180h160v-160H180v160Zm440 0h160v-160H620v160Z\"/>\n",
              "  </svg>\n",
              "    </button>\n",
              "\n",
              "  <style>\n",
              "    .colab-df-container {\n",
              "      display:flex;\n",
              "      gap: 12px;\n",
              "    }\n",
              "\n",
              "    .colab-df-convert {\n",
              "      background-color: #E8F0FE;\n",
              "      border: none;\n",
              "      border-radius: 50%;\n",
              "      cursor: pointer;\n",
              "      display: none;\n",
              "      fill: #1967D2;\n",
              "      height: 32px;\n",
              "      padding: 0 0 0 0;\n",
              "      width: 32px;\n",
              "    }\n",
              "\n",
              "    .colab-df-convert:hover {\n",
              "      background-color: #E2EBFA;\n",
              "      box-shadow: 0px 1px 2px rgba(60, 64, 67, 0.3), 0px 1px 3px 1px rgba(60, 64, 67, 0.15);\n",
              "      fill: #174EA6;\n",
              "    }\n",
              "\n",
              "    .colab-df-buttons div {\n",
              "      margin-bottom: 4px;\n",
              "    }\n",
              "\n",
              "    [theme=dark] .colab-df-convert {\n",
              "      background-color: #3B4455;\n",
              "      fill: #D2E3FC;\n",
              "    }\n",
              "\n",
              "    [theme=dark] .colab-df-convert:hover {\n",
              "      background-color: #434B5C;\n",
              "      box-shadow: 0px 1px 3px 1px rgba(0, 0, 0, 0.15);\n",
              "      filter: drop-shadow(0px 1px 2px rgba(0, 0, 0, 0.3));\n",
              "      fill: #FFFFFF;\n",
              "    }\n",
              "  </style>\n",
              "\n",
              "    <script>\n",
              "      const buttonEl =\n",
              "        document.querySelector('#df-09c08702-89a0-4826-94f4-c4f1892a1de4 button.colab-df-convert');\n",
              "      buttonEl.style.display =\n",
              "        google.colab.kernel.accessAllowed ? 'block' : 'none';\n",
              "\n",
              "      async function convertToInteractive(key) {\n",
              "        const element = document.querySelector('#df-09c08702-89a0-4826-94f4-c4f1892a1de4');\n",
              "        const dataTable =\n",
              "          await google.colab.kernel.invokeFunction('convertToInteractive',\n",
              "                                                    [key], {});\n",
              "        if (!dataTable) return;\n",
              "\n",
              "        const docLinkHtml = 'Like what you see? Visit the ' +\n",
              "          '<a target=\"_blank\" href=https://colab.research.google.com/notebooks/data_table.ipynb>data table notebook</a>'\n",
              "          + ' to learn more about interactive tables.';\n",
              "        element.innerHTML = '';\n",
              "        dataTable['output_type'] = 'display_data';\n",
              "        await google.colab.output.renderOutput(dataTable, element);\n",
              "        const docLink = document.createElement('div');\n",
              "        docLink.innerHTML = docLinkHtml;\n",
              "        element.appendChild(docLink);\n",
              "      }\n",
              "    </script>\n",
              "  </div>\n",
              "\n",
              "\n",
              "<div id=\"df-a2da3d49-db8b-4ecf-8da5-87e598445478\">\n",
              "  <button class=\"colab-df-quickchart\" onclick=\"quickchart('df-a2da3d49-db8b-4ecf-8da5-87e598445478')\"\n",
              "            title=\"Suggest charts\"\n",
              "            style=\"display:none;\">\n",
              "\n",
              "<svg xmlns=\"http://www.w3.org/2000/svg\" height=\"24px\"viewBox=\"0 0 24 24\"\n",
              "     width=\"24px\">\n",
              "    <g>\n",
              "        <path d=\"M19 3H5c-1.1 0-2 .9-2 2v14c0 1.1.9 2 2 2h14c1.1 0 2-.9 2-2V5c0-1.1-.9-2-2-2zM9 17H7v-7h2v7zm4 0h-2V7h2v10zm4 0h-2v-4h2v4z\"/>\n",
              "    </g>\n",
              "</svg>\n",
              "  </button>\n",
              "\n",
              "<style>\n",
              "  .colab-df-quickchart {\n",
              "      --bg-color: #E8F0FE;\n",
              "      --fill-color: #1967D2;\n",
              "      --hover-bg-color: #E2EBFA;\n",
              "      --hover-fill-color: #174EA6;\n",
              "      --disabled-fill-color: #AAA;\n",
              "      --disabled-bg-color: #DDD;\n",
              "  }\n",
              "\n",
              "  [theme=dark] .colab-df-quickchart {\n",
              "      --bg-color: #3B4455;\n",
              "      --fill-color: #D2E3FC;\n",
              "      --hover-bg-color: #434B5C;\n",
              "      --hover-fill-color: #FFFFFF;\n",
              "      --disabled-bg-color: #3B4455;\n",
              "      --disabled-fill-color: #666;\n",
              "  }\n",
              "\n",
              "  .colab-df-quickchart {\n",
              "    background-color: var(--bg-color);\n",
              "    border: none;\n",
              "    border-radius: 50%;\n",
              "    cursor: pointer;\n",
              "    display: none;\n",
              "    fill: var(--fill-color);\n",
              "    height: 32px;\n",
              "    padding: 0;\n",
              "    width: 32px;\n",
              "  }\n",
              "\n",
              "  .colab-df-quickchart:hover {\n",
              "    background-color: var(--hover-bg-color);\n",
              "    box-shadow: 0 1px 2px rgba(60, 64, 67, 0.3), 0 1px 3px 1px rgba(60, 64, 67, 0.15);\n",
              "    fill: var(--button-hover-fill-color);\n",
              "  }\n",
              "\n",
              "  .colab-df-quickchart-complete:disabled,\n",
              "  .colab-df-quickchart-complete:disabled:hover {\n",
              "    background-color: var(--disabled-bg-color);\n",
              "    fill: var(--disabled-fill-color);\n",
              "    box-shadow: none;\n",
              "  }\n",
              "\n",
              "  .colab-df-spinner {\n",
              "    border: 2px solid var(--fill-color);\n",
              "    border-color: transparent;\n",
              "    border-bottom-color: var(--fill-color);\n",
              "    animation:\n",
              "      spin 1s steps(1) infinite;\n",
              "  }\n",
              "\n",
              "  @keyframes spin {\n",
              "    0% {\n",
              "      border-color: transparent;\n",
              "      border-bottom-color: var(--fill-color);\n",
              "      border-left-color: var(--fill-color);\n",
              "    }\n",
              "    20% {\n",
              "      border-color: transparent;\n",
              "      border-left-color: var(--fill-color);\n",
              "      border-top-color: var(--fill-color);\n",
              "    }\n",
              "    30% {\n",
              "      border-color: transparent;\n",
              "      border-left-color: var(--fill-color);\n",
              "      border-top-color: var(--fill-color);\n",
              "      border-right-color: var(--fill-color);\n",
              "    }\n",
              "    40% {\n",
              "      border-color: transparent;\n",
              "      border-right-color: var(--fill-color);\n",
              "      border-top-color: var(--fill-color);\n",
              "    }\n",
              "    60% {\n",
              "      border-color: transparent;\n",
              "      border-right-color: var(--fill-color);\n",
              "    }\n",
              "    80% {\n",
              "      border-color: transparent;\n",
              "      border-right-color: var(--fill-color);\n",
              "      border-bottom-color: var(--fill-color);\n",
              "    }\n",
              "    90% {\n",
              "      border-color: transparent;\n",
              "      border-bottom-color: var(--fill-color);\n",
              "    }\n",
              "  }\n",
              "</style>\n",
              "\n",
              "  <script>\n",
              "    async function quickchart(key) {\n",
              "      const quickchartButtonEl =\n",
              "        document.querySelector('#' + key + ' button');\n",
              "      quickchartButtonEl.disabled = true;  // To prevent multiple clicks.\n",
              "      quickchartButtonEl.classList.add('colab-df-spinner');\n",
              "      try {\n",
              "        const charts = await google.colab.kernel.invokeFunction(\n",
              "            'suggestCharts', [key], {});\n",
              "      } catch (error) {\n",
              "        console.error('Error during call to suggestCharts:', error);\n",
              "      }\n",
              "      quickchartButtonEl.classList.remove('colab-df-spinner');\n",
              "      quickchartButtonEl.classList.add('colab-df-quickchart-complete');\n",
              "    }\n",
              "    (() => {\n",
              "      let quickchartButtonEl =\n",
              "        document.querySelector('#df-a2da3d49-db8b-4ecf-8da5-87e598445478 button');\n",
              "      quickchartButtonEl.style.display =\n",
              "        google.colab.kernel.accessAllowed ? 'block' : 'none';\n",
              "    })();\n",
              "  </script>\n",
              "</div>\n",
              "\n",
              "    </div>\n",
              "  </div>\n"
            ],
            "application/vnd.google.colaboratory.intrinsic+json": {
              "type": "dataframe",
              "variable_name": "df"
            }
          },
          "metadata": {},
          "execution_count": 7
        }
      ]
    },
    {
      "cell_type": "code",
      "source": [
        "df.info()"
      ],
      "metadata": {
        "colab": {
          "base_uri": "https://localhost:8080/"
        },
        "id": "1BO0DRStO8Zf",
        "outputId": "2009d5a5-abe5-4247-8c45-994c7bb0285b"
      },
      "execution_count": 8,
      "outputs": [
        {
          "output_type": "stream",
          "name": "stdout",
          "text": [
            "<class 'pandas.core.frame.DataFrame'>\n",
            "RangeIndex: 4760 entries, 0 to 4759\n",
            "Data columns (total 21 columns):\n",
            " #   Column                    Non-Null Count  Dtype  \n",
            "---  ------                    --------------  -----  \n",
            " 0   Movie_ID                  4760 non-null   int64  \n",
            " 1   Movie_Title               4760 non-null   object \n",
            " 2   Movie_Genre               4760 non-null   object \n",
            " 3   Movie_Language            4760 non-null   object \n",
            " 4   Movie_Budget              4760 non-null   int64  \n",
            " 5   Movie_Popularity          4760 non-null   float64\n",
            " 6   Movie_Release_Date        4760 non-null   object \n",
            " 7   Movie_Revenue             4760 non-null   int64  \n",
            " 8   Movie_Runtime             4758 non-null   float64\n",
            " 9   Movie_Vote                4760 non-null   float64\n",
            " 10  Movie_Vote_Count          4760 non-null   int64  \n",
            " 11  Movie_Homepage            1699 non-null   object \n",
            " 12  Movie_Keywords            4373 non-null   object \n",
            " 13  Movie_Overview            4757 non-null   object \n",
            " 14  Movie_Production_House    4760 non-null   object \n",
            " 15  Movie_Production_Country  4760 non-null   object \n",
            " 16  Movie_Spoken_Language     4760 non-null   object \n",
            " 17  Movie_Tagline             3942 non-null   object \n",
            " 18  Movie_Cast                4733 non-null   object \n",
            " 19  Movie_Crew                4760 non-null   object \n",
            " 20  Movie_Director            4738 non-null   object \n",
            "dtypes: float64(3), int64(4), object(14)\n",
            "memory usage: 781.1+ KB\n"
          ]
        }
      ]
    },
    {
      "cell_type": "code",
      "source": [
        "df.shape"
      ],
      "metadata": {
        "colab": {
          "base_uri": "https://localhost:8080/"
        },
        "id": "HO4E2dEnPSU_",
        "outputId": "f7c286c8-a2a1-44c2-9803-03f13003df9f"
      },
      "execution_count": 12,
      "outputs": [
        {
          "output_type": "execute_result",
          "data": {
            "text/plain": [
              "(4760, 21)"
            ]
          },
          "metadata": {},
          "execution_count": 12
        }
      ]
    },
    {
      "cell_type": "code",
      "source": [
        "df.columns"
      ],
      "metadata": {
        "colab": {
          "base_uri": "https://localhost:8080/"
        },
        "id": "ohAVOYpYPPF4",
        "outputId": "e63e359c-2844-4c08-bda0-40f05277584d"
      },
      "execution_count": 13,
      "outputs": [
        {
          "output_type": "execute_result",
          "data": {
            "text/plain": [
              "Index(['Movie_ID', 'Movie_Title', 'Movie_Genre', 'Movie_Language',\n",
              "       'Movie_Budget', 'Movie_Popularity', 'Movie_Release_Date',\n",
              "       'Movie_Revenue', 'Movie_Runtime', 'Movie_Vote', 'Movie_Vote_Count',\n",
              "       'Movie_Homepage', 'Movie_Keywords', 'Movie_Overview',\n",
              "       'Movie_Production_House', 'Movie_Production_Country',\n",
              "       'Movie_Spoken_Language', 'Movie_Tagline', 'Movie_Cast', 'Movie_Crew',\n",
              "       'Movie_Director'],\n",
              "      dtype='object')"
            ]
          },
          "metadata": {},
          "execution_count": 13
        }
      ]
    },
    {
      "cell_type": "markdown",
      "source": [
        "# Get Feature Selection."
      ],
      "metadata": {
        "id": "cYw5-NZVQQT5"
      }
    },
    {
      "cell_type": "code",
      "source": [
        "df_feature = df[['Movie_Genre', 'Movie_Keywords', 'Movie_Tagline', 'Movie_Cast', 'Movie_Director']].fillna('')"
      ],
      "metadata": {
        "id": "47m4bFLaPjvf"
      },
      "execution_count": 15,
      "outputs": []
    },
    {
      "cell_type": "code",
      "source": [
        "df_feature.shape"
      ],
      "metadata": {
        "colab": {
          "base_uri": "https://localhost:8080/"
        },
        "id": "zLqy76tJRXPf",
        "outputId": "d9f3c1f6-a15b-4df9-e4ff-c276a74b653e"
      },
      "execution_count": 16,
      "outputs": [
        {
          "output_type": "execute_result",
          "data": {
            "text/plain": [
              "(4760, 5)"
            ]
          },
          "metadata": {},
          "execution_count": 16
        }
      ]
    },
    {
      "cell_type": "code",
      "source": [
        "df_feature"
      ],
      "metadata": {
        "colab": {
          "base_uri": "https://localhost:8080/",
          "height": 424
        },
        "id": "g0gr6wFQRmef",
        "outputId": "9af54ec2-f26e-4ef7-ae6d-79b5cccc3a86"
      },
      "execution_count": 17,
      "outputs": [
        {
          "output_type": "execute_result",
          "data": {
            "text/plain": [
              "                           Movie_Genre  \\\n",
              "0                         Crime Comedy   \n",
              "1     Adventure Action Science Fiction   \n",
              "2                     Animation Family   \n",
              "3                 Comedy Drama Romance   \n",
              "4                                Drama   \n",
              "...                                ...   \n",
              "4755                            Horror   \n",
              "4756               Comedy Family Drama   \n",
              "4757                    Thriller Drama   \n",
              "4758                            Family   \n",
              "4759                       Documentary   \n",
              "\n",
              "                                         Movie_Keywords  \\\n",
              "0             hotel new year's eve witch bet hotel room   \n",
              "1           android galaxy hermit death star lightsaber   \n",
              "2     father son relationship harbor underwater fish...   \n",
              "3     vietnam veteran hippie mentally disabled runni...   \n",
              "4     male nudity female nudity adultery midlife cri...   \n",
              "...                                                 ...   \n",
              "4755                                                      \n",
              "4756                                                      \n",
              "4757                     christian film sex trafficking   \n",
              "4758                                                      \n",
              "4759  music actors legendary perfomer classic hollyw...   \n",
              "\n",
              "                                          Movie_Tagline  \\\n",
              "0     Twelve outrageous guests. Four scandalous requ...   \n",
              "1          A long time ago in a galaxy far, far away...   \n",
              "2     There are 3.7 trillion fish in the ocean, they...   \n",
              "3     The world will never be the same, once you've ...   \n",
              "4                                          Look closer.   \n",
              "...                                                 ...   \n",
              "4755                The hot spot where Satan's waitin'.   \n",
              "4756           It’s better to stand out than to fit in.   \n",
              "4757           She never knew it could happen to her...   \n",
              "4758                                                      \n",
              "4759                                                      \n",
              "\n",
              "                                             Movie_Cast     Movie_Director  \n",
              "0     Tim Roth Antonio Banderas Jennifer Beals Madon...     Allison Anders  \n",
              "1     Mark Hamill Harrison Ford Carrie Fisher Peter ...       George Lucas  \n",
              "2     Albert Brooks Ellen DeGeneres Alexander Gould ...     Andrew Stanton  \n",
              "3     Tom Hanks Robin Wright Gary Sinise Mykelti Wil...    Robert Zemeckis  \n",
              "4     Kevin Spacey Annette Bening Thora Birch Wes Be...         Sam Mendes  \n",
              "...                                                 ...                ...  \n",
              "4755  Lisa Hart Carroll Michael Des Barres Paul Drak...         Pece Dingo  \n",
              "4756  Roni Akurati Brighton Sharbino Jason Lee Anjul...       Frank Lotito  \n",
              "4757  Nicole Smolen Kim Baldwin Ariana Stephens Brys...       Jaco Booyens  \n",
              "4758                                                                        \n",
              "4759                                    Tony Oppedisano  Simon Napier-Bell  \n",
              "\n",
              "[4760 rows x 5 columns]"
            ],
            "text/html": [
              "\n",
              "  <div id=\"df-686d9922-f757-4d46-9a27-ff6c7e527e54\" class=\"colab-df-container\">\n",
              "    <div>\n",
              "<style scoped>\n",
              "    .dataframe tbody tr th:only-of-type {\n",
              "        vertical-align: middle;\n",
              "    }\n",
              "\n",
              "    .dataframe tbody tr th {\n",
              "        vertical-align: top;\n",
              "    }\n",
              "\n",
              "    .dataframe thead th {\n",
              "        text-align: right;\n",
              "    }\n",
              "</style>\n",
              "<table border=\"1\" class=\"dataframe\">\n",
              "  <thead>\n",
              "    <tr style=\"text-align: right;\">\n",
              "      <th></th>\n",
              "      <th>Movie_Genre</th>\n",
              "      <th>Movie_Keywords</th>\n",
              "      <th>Movie_Tagline</th>\n",
              "      <th>Movie_Cast</th>\n",
              "      <th>Movie_Director</th>\n",
              "    </tr>\n",
              "  </thead>\n",
              "  <tbody>\n",
              "    <tr>\n",
              "      <th>0</th>\n",
              "      <td>Crime Comedy</td>\n",
              "      <td>hotel new year's eve witch bet hotel room</td>\n",
              "      <td>Twelve outrageous guests. Four scandalous requ...</td>\n",
              "      <td>Tim Roth Antonio Banderas Jennifer Beals Madon...</td>\n",
              "      <td>Allison Anders</td>\n",
              "    </tr>\n",
              "    <tr>\n",
              "      <th>1</th>\n",
              "      <td>Adventure Action Science Fiction</td>\n",
              "      <td>android galaxy hermit death star lightsaber</td>\n",
              "      <td>A long time ago in a galaxy far, far away...</td>\n",
              "      <td>Mark Hamill Harrison Ford Carrie Fisher Peter ...</td>\n",
              "      <td>George Lucas</td>\n",
              "    </tr>\n",
              "    <tr>\n",
              "      <th>2</th>\n",
              "      <td>Animation Family</td>\n",
              "      <td>father son relationship harbor underwater fish...</td>\n",
              "      <td>There are 3.7 trillion fish in the ocean, they...</td>\n",
              "      <td>Albert Brooks Ellen DeGeneres Alexander Gould ...</td>\n",
              "      <td>Andrew Stanton</td>\n",
              "    </tr>\n",
              "    <tr>\n",
              "      <th>3</th>\n",
              "      <td>Comedy Drama Romance</td>\n",
              "      <td>vietnam veteran hippie mentally disabled runni...</td>\n",
              "      <td>The world will never be the same, once you've ...</td>\n",
              "      <td>Tom Hanks Robin Wright Gary Sinise Mykelti Wil...</td>\n",
              "      <td>Robert Zemeckis</td>\n",
              "    </tr>\n",
              "    <tr>\n",
              "      <th>4</th>\n",
              "      <td>Drama</td>\n",
              "      <td>male nudity female nudity adultery midlife cri...</td>\n",
              "      <td>Look closer.</td>\n",
              "      <td>Kevin Spacey Annette Bening Thora Birch Wes Be...</td>\n",
              "      <td>Sam Mendes</td>\n",
              "    </tr>\n",
              "    <tr>\n",
              "      <th>...</th>\n",
              "      <td>...</td>\n",
              "      <td>...</td>\n",
              "      <td>...</td>\n",
              "      <td>...</td>\n",
              "      <td>...</td>\n",
              "    </tr>\n",
              "    <tr>\n",
              "      <th>4755</th>\n",
              "      <td>Horror</td>\n",
              "      <td></td>\n",
              "      <td>The hot spot where Satan's waitin'.</td>\n",
              "      <td>Lisa Hart Carroll Michael Des Barres Paul Drak...</td>\n",
              "      <td>Pece Dingo</td>\n",
              "    </tr>\n",
              "    <tr>\n",
              "      <th>4756</th>\n",
              "      <td>Comedy Family Drama</td>\n",
              "      <td></td>\n",
              "      <td>It’s better to stand out than to fit in.</td>\n",
              "      <td>Roni Akurati Brighton Sharbino Jason Lee Anjul...</td>\n",
              "      <td>Frank Lotito</td>\n",
              "    </tr>\n",
              "    <tr>\n",
              "      <th>4757</th>\n",
              "      <td>Thriller Drama</td>\n",
              "      <td>christian film sex trafficking</td>\n",
              "      <td>She never knew it could happen to her...</td>\n",
              "      <td>Nicole Smolen Kim Baldwin Ariana Stephens Brys...</td>\n",
              "      <td>Jaco Booyens</td>\n",
              "    </tr>\n",
              "    <tr>\n",
              "      <th>4758</th>\n",
              "      <td>Family</td>\n",
              "      <td></td>\n",
              "      <td></td>\n",
              "      <td></td>\n",
              "      <td></td>\n",
              "    </tr>\n",
              "    <tr>\n",
              "      <th>4759</th>\n",
              "      <td>Documentary</td>\n",
              "      <td>music actors legendary perfomer classic hollyw...</td>\n",
              "      <td></td>\n",
              "      <td>Tony Oppedisano</td>\n",
              "      <td>Simon Napier-Bell</td>\n",
              "    </tr>\n",
              "  </tbody>\n",
              "</table>\n",
              "<p>4760 rows × 5 columns</p>\n",
              "</div>\n",
              "    <div class=\"colab-df-buttons\">\n",
              "\n",
              "  <div class=\"colab-df-container\">\n",
              "    <button class=\"colab-df-convert\" onclick=\"convertToInteractive('df-686d9922-f757-4d46-9a27-ff6c7e527e54')\"\n",
              "            title=\"Convert this dataframe to an interactive table.\"\n",
              "            style=\"display:none;\">\n",
              "\n",
              "  <svg xmlns=\"http://www.w3.org/2000/svg\" height=\"24px\" viewBox=\"0 -960 960 960\">\n",
              "    <path d=\"M120-120v-720h720v720H120Zm60-500h600v-160H180v160Zm220 220h160v-160H400v160Zm0 220h160v-160H400v160ZM180-400h160v-160H180v160Zm440 0h160v-160H620v160ZM180-180h160v-160H180v160Zm440 0h160v-160H620v160Z\"/>\n",
              "  </svg>\n",
              "    </button>\n",
              "\n",
              "  <style>\n",
              "    .colab-df-container {\n",
              "      display:flex;\n",
              "      gap: 12px;\n",
              "    }\n",
              "\n",
              "    .colab-df-convert {\n",
              "      background-color: #E8F0FE;\n",
              "      border: none;\n",
              "      border-radius: 50%;\n",
              "      cursor: pointer;\n",
              "      display: none;\n",
              "      fill: #1967D2;\n",
              "      height: 32px;\n",
              "      padding: 0 0 0 0;\n",
              "      width: 32px;\n",
              "    }\n",
              "\n",
              "    .colab-df-convert:hover {\n",
              "      background-color: #E2EBFA;\n",
              "      box-shadow: 0px 1px 2px rgba(60, 64, 67, 0.3), 0px 1px 3px 1px rgba(60, 64, 67, 0.15);\n",
              "      fill: #174EA6;\n",
              "    }\n",
              "\n",
              "    .colab-df-buttons div {\n",
              "      margin-bottom: 4px;\n",
              "    }\n",
              "\n",
              "    [theme=dark] .colab-df-convert {\n",
              "      background-color: #3B4455;\n",
              "      fill: #D2E3FC;\n",
              "    }\n",
              "\n",
              "    [theme=dark] .colab-df-convert:hover {\n",
              "      background-color: #434B5C;\n",
              "      box-shadow: 0px 1px 3px 1px rgba(0, 0, 0, 0.15);\n",
              "      filter: drop-shadow(0px 1px 2px rgba(0, 0, 0, 0.3));\n",
              "      fill: #FFFFFF;\n",
              "    }\n",
              "  </style>\n",
              "\n",
              "    <script>\n",
              "      const buttonEl =\n",
              "        document.querySelector('#df-686d9922-f757-4d46-9a27-ff6c7e527e54 button.colab-df-convert');\n",
              "      buttonEl.style.display =\n",
              "        google.colab.kernel.accessAllowed ? 'block' : 'none';\n",
              "\n",
              "      async function convertToInteractive(key) {\n",
              "        const element = document.querySelector('#df-686d9922-f757-4d46-9a27-ff6c7e527e54');\n",
              "        const dataTable =\n",
              "          await google.colab.kernel.invokeFunction('convertToInteractive',\n",
              "                                                    [key], {});\n",
              "        if (!dataTable) return;\n",
              "\n",
              "        const docLinkHtml = 'Like what you see? Visit the ' +\n",
              "          '<a target=\"_blank\" href=https://colab.research.google.com/notebooks/data_table.ipynb>data table notebook</a>'\n",
              "          + ' to learn more about interactive tables.';\n",
              "        element.innerHTML = '';\n",
              "        dataTable['output_type'] = 'display_data';\n",
              "        await google.colab.output.renderOutput(dataTable, element);\n",
              "        const docLink = document.createElement('div');\n",
              "        docLink.innerHTML = docLinkHtml;\n",
              "        element.appendChild(docLink);\n",
              "      }\n",
              "    </script>\n",
              "  </div>\n",
              "\n",
              "\n",
              "<div id=\"df-c86d1342-65c1-4bee-8c38-fa9430d28f2d\">\n",
              "  <button class=\"colab-df-quickchart\" onclick=\"quickchart('df-c86d1342-65c1-4bee-8c38-fa9430d28f2d')\"\n",
              "            title=\"Suggest charts\"\n",
              "            style=\"display:none;\">\n",
              "\n",
              "<svg xmlns=\"http://www.w3.org/2000/svg\" height=\"24px\"viewBox=\"0 0 24 24\"\n",
              "     width=\"24px\">\n",
              "    <g>\n",
              "        <path d=\"M19 3H5c-1.1 0-2 .9-2 2v14c0 1.1.9 2 2 2h14c1.1 0 2-.9 2-2V5c0-1.1-.9-2-2-2zM9 17H7v-7h2v7zm4 0h-2V7h2v10zm4 0h-2v-4h2v4z\"/>\n",
              "    </g>\n",
              "</svg>\n",
              "  </button>\n",
              "\n",
              "<style>\n",
              "  .colab-df-quickchart {\n",
              "      --bg-color: #E8F0FE;\n",
              "      --fill-color: #1967D2;\n",
              "      --hover-bg-color: #E2EBFA;\n",
              "      --hover-fill-color: #174EA6;\n",
              "      --disabled-fill-color: #AAA;\n",
              "      --disabled-bg-color: #DDD;\n",
              "  }\n",
              "\n",
              "  [theme=dark] .colab-df-quickchart {\n",
              "      --bg-color: #3B4455;\n",
              "      --fill-color: #D2E3FC;\n",
              "      --hover-bg-color: #434B5C;\n",
              "      --hover-fill-color: #FFFFFF;\n",
              "      --disabled-bg-color: #3B4455;\n",
              "      --disabled-fill-color: #666;\n",
              "  }\n",
              "\n",
              "  .colab-df-quickchart {\n",
              "    background-color: var(--bg-color);\n",
              "    border: none;\n",
              "    border-radius: 50%;\n",
              "    cursor: pointer;\n",
              "    display: none;\n",
              "    fill: var(--fill-color);\n",
              "    height: 32px;\n",
              "    padding: 0;\n",
              "    width: 32px;\n",
              "  }\n",
              "\n",
              "  .colab-df-quickchart:hover {\n",
              "    background-color: var(--hover-bg-color);\n",
              "    box-shadow: 0 1px 2px rgba(60, 64, 67, 0.3), 0 1px 3px 1px rgba(60, 64, 67, 0.15);\n",
              "    fill: var(--button-hover-fill-color);\n",
              "  }\n",
              "\n",
              "  .colab-df-quickchart-complete:disabled,\n",
              "  .colab-df-quickchart-complete:disabled:hover {\n",
              "    background-color: var(--disabled-bg-color);\n",
              "    fill: var(--disabled-fill-color);\n",
              "    box-shadow: none;\n",
              "  }\n",
              "\n",
              "  .colab-df-spinner {\n",
              "    border: 2px solid var(--fill-color);\n",
              "    border-color: transparent;\n",
              "    border-bottom-color: var(--fill-color);\n",
              "    animation:\n",
              "      spin 1s steps(1) infinite;\n",
              "  }\n",
              "\n",
              "  @keyframes spin {\n",
              "    0% {\n",
              "      border-color: transparent;\n",
              "      border-bottom-color: var(--fill-color);\n",
              "      border-left-color: var(--fill-color);\n",
              "    }\n",
              "    20% {\n",
              "      border-color: transparent;\n",
              "      border-left-color: var(--fill-color);\n",
              "      border-top-color: var(--fill-color);\n",
              "    }\n",
              "    30% {\n",
              "      border-color: transparent;\n",
              "      border-left-color: var(--fill-color);\n",
              "      border-top-color: var(--fill-color);\n",
              "      border-right-color: var(--fill-color);\n",
              "    }\n",
              "    40% {\n",
              "      border-color: transparent;\n",
              "      border-right-color: var(--fill-color);\n",
              "      border-top-color: var(--fill-color);\n",
              "    }\n",
              "    60% {\n",
              "      border-color: transparent;\n",
              "      border-right-color: var(--fill-color);\n",
              "    }\n",
              "    80% {\n",
              "      border-color: transparent;\n",
              "      border-right-color: var(--fill-color);\n",
              "      border-bottom-color: var(--fill-color);\n",
              "    }\n",
              "    90% {\n",
              "      border-color: transparent;\n",
              "      border-bottom-color: var(--fill-color);\n",
              "    }\n",
              "  }\n",
              "</style>\n",
              "\n",
              "  <script>\n",
              "    async function quickchart(key) {\n",
              "      const quickchartButtonEl =\n",
              "        document.querySelector('#' + key + ' button');\n",
              "      quickchartButtonEl.disabled = true;  // To prevent multiple clicks.\n",
              "      quickchartButtonEl.classList.add('colab-df-spinner');\n",
              "      try {\n",
              "        const charts = await google.colab.kernel.invokeFunction(\n",
              "            'suggestCharts', [key], {});\n",
              "      } catch (error) {\n",
              "        console.error('Error during call to suggestCharts:', error);\n",
              "      }\n",
              "      quickchartButtonEl.classList.remove('colab-df-spinner');\n",
              "      quickchartButtonEl.classList.add('colab-df-quickchart-complete');\n",
              "    }\n",
              "    (() => {\n",
              "      let quickchartButtonEl =\n",
              "        document.querySelector('#df-c86d1342-65c1-4bee-8c38-fa9430d28f2d button');\n",
              "      quickchartButtonEl.style.display =\n",
              "        google.colab.kernel.accessAllowed ? 'block' : 'none';\n",
              "    })();\n",
              "  </script>\n",
              "</div>\n",
              "\n",
              "  <div id=\"id_0b701fe5-d420-455d-9cce-5b7e90b792ae\">\n",
              "    <style>\n",
              "      .colab-df-generate {\n",
              "        background-color: #E8F0FE;\n",
              "        border: none;\n",
              "        border-radius: 50%;\n",
              "        cursor: pointer;\n",
              "        display: none;\n",
              "        fill: #1967D2;\n",
              "        height: 32px;\n",
              "        padding: 0 0 0 0;\n",
              "        width: 32px;\n",
              "      }\n",
              "\n",
              "      .colab-df-generate:hover {\n",
              "        background-color: #E2EBFA;\n",
              "        box-shadow: 0px 1px 2px rgba(60, 64, 67, 0.3), 0px 1px 3px 1px rgba(60, 64, 67, 0.15);\n",
              "        fill: #174EA6;\n",
              "      }\n",
              "\n",
              "      [theme=dark] .colab-df-generate {\n",
              "        background-color: #3B4455;\n",
              "        fill: #D2E3FC;\n",
              "      }\n",
              "\n",
              "      [theme=dark] .colab-df-generate:hover {\n",
              "        background-color: #434B5C;\n",
              "        box-shadow: 0px 1px 3px 1px rgba(0, 0, 0, 0.15);\n",
              "        filter: drop-shadow(0px 1px 2px rgba(0, 0, 0, 0.3));\n",
              "        fill: #FFFFFF;\n",
              "      }\n",
              "    </style>\n",
              "    <button class=\"colab-df-generate\" onclick=\"generateWithVariable('df_feature')\"\n",
              "            title=\"Generate code using this dataframe.\"\n",
              "            style=\"display:none;\">\n",
              "\n",
              "  <svg xmlns=\"http://www.w3.org/2000/svg\" height=\"24px\"viewBox=\"0 0 24 24\"\n",
              "       width=\"24px\">\n",
              "    <path d=\"M7,19H8.4L18.45,9,17,7.55,7,17.6ZM5,21V16.75L18.45,3.32a2,2,0,0,1,2.83,0l1.4,1.43a1.91,1.91,0,0,1,.58,1.4,1.91,1.91,0,0,1-.58,1.4L9.25,21ZM18.45,9,17,7.55Zm-12,3A5.31,5.31,0,0,0,4.9,8.1,5.31,5.31,0,0,0,1,6.5,5.31,5.31,0,0,0,4.9,4.9,5.31,5.31,0,0,0,6.5,1,5.31,5.31,0,0,0,8.1,4.9,5.31,5.31,0,0,0,12,6.5,5.46,5.46,0,0,0,6.5,12Z\"/>\n",
              "  </svg>\n",
              "    </button>\n",
              "    <script>\n",
              "      (() => {\n",
              "      const buttonEl =\n",
              "        document.querySelector('#id_0b701fe5-d420-455d-9cce-5b7e90b792ae button.colab-df-generate');\n",
              "      buttonEl.style.display =\n",
              "        google.colab.kernel.accessAllowed ? 'block' : 'none';\n",
              "\n",
              "      buttonEl.onclick = () => {\n",
              "        google.colab.notebook.generateWithVariable('df_feature');\n",
              "      }\n",
              "      })();\n",
              "    </script>\n",
              "  </div>\n",
              "\n",
              "    </div>\n",
              "  </div>\n"
            ],
            "application/vnd.google.colaboratory.intrinsic+json": {
              "type": "dataframe",
              "variable_name": "df_feature",
              "summary": "{\n  \"name\": \"df_feature\",\n  \"rows\": 4760,\n  \"fields\": [\n    {\n      \"column\": \"Movie_Genre\",\n      \"properties\": {\n        \"dtype\": \"category\",\n        \"num_unique_values\": 1164,\n        \"samples\": [\n          \"Family Animation Adventure\",\n          \"Adventure Science Fiction Action\",\n          \"Action Crime Drama Romance Thriller\"\n        ],\n        \"semantic_type\": \"\",\n        \"description\": \"\"\n      }\n    },\n    {\n      \"column\": \"Movie_Keywords\",\n      \"properties\": {\n        \"dtype\": \"string\",\n        \"num_unique_values\": 4203,\n        \"samples\": [\n          \"canada nazis sequel spin off ancient evil\",\n          \"sex professor wedding woman director columbia university\",\n          \"prophecy sea beach gold small town\"\n        ],\n        \"semantic_type\": \"\",\n        \"description\": \"\"\n      }\n    },\n    {\n      \"column\": \"Movie_Tagline\",\n      \"properties\": {\n        \"dtype\": \"string\",\n        \"num_unique_values\": 3928,\n        \"samples\": [\n          \"The messenger must be silenced.\",\n          \"It's not the house that's haunted.\",\n          \"The final hunt begins.\"\n        ],\n        \"semantic_type\": \"\",\n        \"description\": \"\"\n      }\n    },\n    {\n      \"column\": \"Movie_Cast\",\n      \"properties\": {\n        \"dtype\": \"string\",\n        \"num_unique_values\": 4715,\n        \"samples\": [\n          \"Robin Tunney Fairuza Balk Neve Campbell Rachel True Skeet Ulrich\",\n          \"Peter Sellers Christopher Plummer Herbert Lom Catherine Schell Peter Arne\",\n          \"John Wayne Laraine Day Cedric Hardwicke Judith Anderson Anthony Quinn\"\n        ],\n        \"semantic_type\": \"\",\n        \"description\": \"\"\n      }\n    },\n    {\n      \"column\": \"Movie_Director\",\n      \"properties\": {\n        \"dtype\": \"category\",\n        \"num_unique_values\": 2332,\n        \"samples\": [\n          \"Rob McKittrick\",\n          \"Terron R. Parsons\",\n          \"Cyrus Nowrasteh\"\n        ],\n        \"semantic_type\": \"\",\n        \"description\": \"\"\n      }\n    }\n  ]\n}"
            }
          },
          "metadata": {},
          "execution_count": 17
        }
      ]
    },
    {
      "cell_type": "code",
      "source": [
        "x= df_feature['Movie_Genre'] + ' ' + df_feature['Movie_Keywords'] + ' ' + df_feature['Movie_Tagline'] + ' ' + df_feature['Movie_Cast'] + ' ' + df_feature['Movie_Director']"
      ],
      "metadata": {
        "id": "ifubmV_ERqWf"
      },
      "execution_count": 18,
      "outputs": []
    },
    {
      "cell_type": "code",
      "source": [
        "x.shape"
      ],
      "metadata": {
        "colab": {
          "base_uri": "https://localhost:8080/"
        },
        "id": "mEHCnTedR8GJ",
        "outputId": "ef173add-8db4-46e6-e70a-405044431fa5"
      },
      "execution_count": 19,
      "outputs": [
        {
          "output_type": "execute_result",
          "data": {
            "text/plain": [
              "(4760,)"
            ]
          },
          "metadata": {},
          "execution_count": 19
        }
      ]
    },
    {
      "cell_type": "markdown",
      "source": [
        "# Get Feature Text Conversion to Tokens"
      ],
      "metadata": {
        "id": "8E0VQeo0SC05"
      }
    },
    {
      "cell_type": "code",
      "source": [
        "from sklearn.feature_extraction.text import TfidfVectorizer"
      ],
      "metadata": {
        "id": "tyyRbIXvR-aQ"
      },
      "execution_count": 20,
      "outputs": []
    },
    {
      "cell_type": "code",
      "source": [
        "tfidf= TfidfVectorizer()"
      ],
      "metadata": {
        "id": "3AlyUrnoSVnP"
      },
      "execution_count": 21,
      "outputs": []
    },
    {
      "cell_type": "code",
      "source": [
        "x= tfidf.fit_transform(x)"
      ],
      "metadata": {
        "id": "-eJ72E3TSZMH"
      },
      "execution_count": 22,
      "outputs": []
    },
    {
      "cell_type": "code",
      "source": [
        "x.shape"
      ],
      "metadata": {
        "colab": {
          "base_uri": "https://localhost:8080/"
        },
        "id": "efZ_qpBGSe9Q",
        "outputId": "31c5fc59-d182-47e8-8e00-9bf46a3cda27"
      },
      "execution_count": 23,
      "outputs": [
        {
          "output_type": "execute_result",
          "data": {
            "text/plain": [
              "(4760, 17258)"
            ]
          },
          "metadata": {},
          "execution_count": 23
        }
      ]
    },
    {
      "cell_type": "code",
      "source": [
        "print(x)"
      ],
      "metadata": {
        "colab": {
          "base_uri": "https://localhost:8080/"
        },
        "id": "J2rishQGSgsY",
        "outputId": "75b06528-9e34-47a3-c734-a993dfc2f931"
      },
      "execution_count": 24,
      "outputs": [
        {
          "output_type": "stream",
          "name": "stdout",
          "text": [
            "  (0, 617)\t0.1633382144407513\n",
            "  (0, 492)\t0.1432591540388685\n",
            "  (0, 15413)\t0.1465525095337543\n",
            "  (0, 9675)\t0.14226057295252661\n",
            "  (0, 9465)\t0.1659841367820977\n",
            "  (0, 1390)\t0.16898383612799558\n",
            "  (0, 7825)\t0.09799561597509843\n",
            "  (0, 1214)\t0.13865857545144072\n",
            "  (0, 729)\t0.13415063359531618\n",
            "  (0, 13093)\t0.1432591540388685\n",
            "  (0, 15355)\t0.10477815972666779\n",
            "  (0, 9048)\t0.0866842116160778\n",
            "  (0, 11161)\t0.06250380151644369\n",
            "  (0, 16773)\t0.17654247479915475\n",
            "  (0, 5612)\t0.08603537588547631\n",
            "  (0, 16735)\t0.10690083751525419\n",
            "  (0, 7904)\t0.13348000542112332\n",
            "  (0, 15219)\t0.09800472886453934\n",
            "  (0, 11242)\t0.07277788238484746\n",
            "  (0, 3878)\t0.11998399582562203\n",
            "  (0, 5499)\t0.11454057510303811\n",
            "  (0, 7071)\t0.19822417598406614\n",
            "  (0, 7454)\t0.14745635785412262\n",
            "  (0, 1495)\t0.19712637387361423\n",
            "  (0, 9206)\t0.15186283580984414\n",
            "  :\t:\n",
            "  (4757, 5455)\t0.12491480594769522\n",
            "  (4757, 2967)\t0.16273475835631626\n",
            "  (4757, 8464)\t0.23522565554066333\n",
            "  (4757, 6938)\t0.17088173678136628\n",
            "  (4757, 8379)\t0.17480603856721913\n",
            "  (4757, 15303)\t0.07654356007668191\n",
            "  (4757, 15384)\t0.09754322497537371\n",
            "  (4757, 7649)\t0.11479421494340192\n",
            "  (4757, 10896)\t0.14546473055066447\n",
            "  (4757, 4494)\t0.05675298448720501\n",
            "  (4758, 5238)\t1.0\n",
            "  (4759, 11264)\t0.33947721804318337\n",
            "  (4759, 11708)\t0.33947721804318337\n",
            "  (4759, 205)\t0.3237911628497312\n",
            "  (4759, 8902)\t0.3040290704566037\n",
            "  (4759, 14062)\t0.3237911628497312\n",
            "  (4759, 3058)\t0.2812896191863103\n",
            "  (4759, 7130)\t0.26419662449963793\n",
            "  (4759, 10761)\t0.3126617295732147\n",
            "  (4759, 4358)\t0.18306542312175342\n",
            "  (4759, 14051)\t0.20084315377640435\n",
            "  (4759, 5690)\t0.19534291014627303\n",
            "  (4759, 15431)\t0.19628653185946862\n",
            "  (4759, 1490)\t0.21197258705292082\n",
            "  (4759, 10666)\t0.15888268987343043\n"
          ]
        }
      ]
    },
    {
      "cell_type": "markdown",
      "source": [
        "# Data pre-processing using sklearn"
      ],
      "metadata": {
        "id": "E6Kk5jX8StmC"
      }
    },
    {
      "cell_type": "code",
      "source": [
        "from sklearn.metrics.pairwise import cosine_similarity"
      ],
      "metadata": {
        "id": "moVLrUNTSisI"
      },
      "execution_count": 25,
      "outputs": []
    },
    {
      "cell_type": "code",
      "source": [
        "Similarity_score= cosine_similarity(x)"
      ],
      "metadata": {
        "id": "Ujwgn4wHS8vQ"
      },
      "execution_count": 27,
      "outputs": []
    },
    {
      "cell_type": "code",
      "source": [
        "Similarity_score"
      ],
      "metadata": {
        "colab": {
          "base_uri": "https://localhost:8080/"
        },
        "id": "QjjtZtDnTBx5",
        "outputId": "161f1444-0533-486d-c7d3-12a4cdfeea31"
      },
      "execution_count": 28,
      "outputs": [
        {
          "output_type": "execute_result",
          "data": {
            "text/plain": [
              "array([[1.        , 0.01351235, 0.03570468, ..., 0.        , 0.        ,\n",
              "        0.        ],\n",
              "       [0.01351235, 1.        , 0.00806674, ..., 0.        , 0.        ,\n",
              "        0.        ],\n",
              "       [0.03570468, 0.00806674, 1.        , ..., 0.        , 0.08014876,\n",
              "        0.        ],\n",
              "       ...,\n",
              "       [0.        , 0.        , 0.        , ..., 1.        , 0.        ,\n",
              "        0.        ],\n",
              "       [0.        , 0.        , 0.08014876, ..., 0.        , 1.        ,\n",
              "        0.        ],\n",
              "       [0.        , 0.        , 0.        , ..., 0.        , 0.        ,\n",
              "        1.        ]])"
            ]
          },
          "metadata": {},
          "execution_count": 28
        }
      ]
    },
    {
      "cell_type": "code",
      "source": [
        "Similarity_score.shape"
      ],
      "metadata": {
        "colab": {
          "base_uri": "https://localhost:8080/"
        },
        "id": "sm-WZNScTIUA",
        "outputId": "f032ebc4-79d4-4abb-f341-26e61d043050"
      },
      "execution_count": 29,
      "outputs": [
        {
          "output_type": "execute_result",
          "data": {
            "text/plain": [
              "(4760, 4760)"
            ]
          },
          "metadata": {},
          "execution_count": 29
        }
      ]
    },
    {
      "cell_type": "markdown",
      "source": [
        "# Getting Movie name as Input from User and Validate for Closest Spelling"
      ],
      "metadata": {
        "id": "OuZSmehYTM43"
      }
    },
    {
      "cell_type": "code",
      "source": [
        "Favourite_Movie_Name = input('Enter your favourite movie name: ')"
      ],
      "metadata": {
        "colab": {
          "base_uri": "https://localhost:8080/"
        },
        "id": "GVSK_H00TMII",
        "outputId": "6b5e0a99-c7fd-4a4d-f220-9c7961f960ac"
      },
      "execution_count": 40,
      "outputs": [
        {
          "name": "stdout",
          "output_type": "stream",
          "text": [
            "Enter your favourite movie name: shazm\n"
          ]
        }
      ]
    },
    {
      "cell_type": "code",
      "source": [
        "All_Movie_Title_List = df['Movie_Title'].tolist()"
      ],
      "metadata": {
        "id": "qjYH7F5ZTfA-"
      },
      "execution_count": 41,
      "outputs": []
    },
    {
      "cell_type": "code",
      "source": [
        "import difflib"
      ],
      "metadata": {
        "id": "hMaxE7RnTlaI"
      },
      "execution_count": 42,
      "outputs": []
    },
    {
      "cell_type": "code",
      "source": [
        "Movie_Recommendation = difflib.get_close_matches(Favourite_Movie_Name, All_Movie_Title_List)\n",
        "print(Movie_Recommendation)"
      ],
      "metadata": {
        "colab": {
          "base_uri": "https://localhost:8080/"
        },
        "id": "6XhLJCh9Tnof",
        "outputId": "f87956bc-5055-40e0-a51f-1285197b31de"
      },
      "execution_count": 43,
      "outputs": [
        {
          "output_type": "stream",
          "name": "stdout",
          "text": [
            "['Shame', 'Osama']\n"
          ]
        }
      ]
    },
    {
      "cell_type": "code",
      "source": [
        "Close_Match = Movie_Recommendation[0]\n",
        "print(Close_Match)"
      ],
      "metadata": {
        "colab": {
          "base_uri": "https://localhost:8080/"
        },
        "id": "SZomkvbhTsCQ",
        "outputId": "a1d0b749-1785-47a7-e0c9-4e1b17e4af50"
      },
      "execution_count": 44,
      "outputs": [
        {
          "output_type": "stream",
          "name": "stdout",
          "text": [
            "Shame\n"
          ]
        }
      ]
    },
    {
      "cell_type": "code",
      "source": [
        "Index_of_Close_Match_Movie = df[df.Movie_Title == Close_Match]['Movie_ID'].values[0]\n",
        "print(Index_of_Close_Match_Movie)"
      ],
      "metadata": {
        "colab": {
          "base_uri": "https://localhost:8080/"
        },
        "id": "Kw9VWpXFUDkI",
        "outputId": "42f58977-05b8-470d-e458-7e840feffff3"
      },
      "execution_count": 46,
      "outputs": [
        {
          "output_type": "stream",
          "name": "stdout",
          "text": [
            "3784\n"
          ]
        }
      ]
    },
    {
      "cell_type": "code",
      "source": [
        "recommendation_score = list(enumerate(Similarity_score[Index_of_Close_Match_Movie]))\n",
        "print(recommendation_score)"
      ],
      "metadata": {
        "colab": {
          "base_uri": "https://localhost:8080/"
        },
        "id": "tbTZ2Pk3UgHJ",
        "outputId": "b10ca08d-19b5-4ffb-d3d9-0ef69bc5c9b1"
      },
      "execution_count": 47,
      "outputs": [
        {
          "output_type": "stream",
          "name": "stdout",
          "text": [
            "[(0, 0.011535196763481036), (1, 0.0), (2, 0.003797333507780437), (3, 0.020445299512736055), (4, 0.002933183788514393), (5, 0.00278823359696946), (6, 0.0), (7, 0.011534474104438676), (8, 0.09354659719720244), (9, 0.01075855475264886), (10, 0.004716211126675654), (11, 0.007461600468748809), (12, 0.007694636089654337), (13, 0.0), (14, 0.0040496343293230045), (15, 0.02460693108945501), (16, 0.0023170638474197297), (17, 0.0), (18, 0.006909283024944604), (19, 0.00962913994258917), (20, 0.012793873960328078), (21, 0.0029728516350694275), (22, 0.007149255988333291), (23, 0.0028969576688732445), (24, 0.0018156681053115406), (25, 0.0119164211358644), (26, 0.002720046694543454), (27, 0.0), (28, 0.004493302289388027), (29, 0.038397020538975195), (30, 0.0), (31, 0.0026144740864385623), (32, 0.02199944872353874), (33, 0.006367839170870381), (34, 0.012727870359052566), (35, 0.03177122689851159), (36, 0.0), (37, 0.012120056728022839), (38, 0.021005434661299702), (39, 0.018377917705725395), (40, 0.023730936298040482), (41, 0.0030933212451044498), (42, 0.0), (43, 0.0856723394357578), (44, 0.008307795061226052), (45, 0.01317051264828537), (46, 0.0), (47, 0.0), (48, 0.007939400188308339), (49, 0.0), (50, 0.017101273430483024), (51, 0.0029248465207769806), (52, 0.017101960082912475), (53, 0.0), (54, 0.0), (55, 0.0), (56, 0.016342533766336487), (57, 0.02282613464612236), (58, 0.003710772837001624), (59, 0.0), (60, 0.012323069672652346), (61, 0.0027446057061425587), (62, 0.018968138111667924), (63, 0.02123217000125166), (64, 0.003706579294271486), (65, 0.004388640080349507), (66, 0.0027745394705383326), (67, 0.025097407333921802), (68, 0.012972287801042797), (69, 0.0), (70, 0.0), (71, 0.012530912088669218), (72, 0.004292038967187842), (73, 0.008182826970354655), (74, 0.012370068454995298), (75, 0.014868323676198471), (76, 0.0), (77, 0.0), (78, 0.009772463433856878), (79, 0.028272315254020363), (80, 0.004055001718639466), (81, 0.009364696621681419), (82, 0.02692655925779054), (83, 0.011781034723305545), (84, 0.004333153733564808), (85, 0.009601065044350699), (86, 0.018126787717204086), (87, 0.016155054868362235), (88, 0.003650162606747424), (89, 0.0), (90, 0.009242523174018087), (91, 0.01228547268799407), (92, 0.015740702813270196), (93, 0.009052722923346091), (94, 0.012743797240356992), (95, 0.009722566818374039), (96, 0.0066688837457323045), (97, 0.019580236878089716), (98, 0.04519623791503308), (99, 0.0), (100, 0.0), (101, 0.08205343684491717), (102, 0.030407084003233498), (103, 0.0024078461313670396), (104, 0.014496693581454476), (105, 0.04637549305637338), (106, 0.016631958639324332), (107, 0.0031529326659216913), (108, 0.05882353686408942), (109, 0.009949956351136099), (110, 0.004523020290888076), (111, 0.002582430649560654), (112, 0.006936997935398641), (113, 0.008207000358288896), (114, 0.002782606151391564), (115, 0.0028425714011485114), (116, 0.002623739222435401), (117, 0.0), (118, 0.0), (119, 0.018475216010605748), (120, 0.0028670505815032166), (121, 0.015380842998303135), (122, 0.025566876575982927), (123, 0.018224255769662065), (124, 0.02376973137540417), (125, 0.019063302092672645), (126, 0.002622913340593471), (127, 0.03967163197919811), (128, 0.010485414483294713), (129, 0.0019412466808256402), (130, 0.02512635666519327), (131, 0.028695810682607674), (132, 0.023216307621743915), (133, 0.0), (134, 0.0), (135, 0.008843496996876647), (136, 0.002567174738359241), (137, 0.011969377969592705), (138, 0.004249301582999588), (139, 0.0), (140, 0.002604070965961757), (141, 0.0), (142, 0.00825720441049209), (143, 0.0), (144, 0.015824566118142216), (145, 0.0), (146, 0.015052831421092162), (147, 0.008634484859271534), (148, 0.004016032458646163), (149, 0.0022956544973305286), (150, 0.004332166975030204), (151, 0.0), (152, 0.004297751183241623), (153, 0.00520142808203785), (154, 0.01570842648660198), (155, 0.005372918967837756), (156, 0.011702610413517625), (157, 0.002647614496362511), (158, 0.002493640373955478), (159, 0.014738322378348299), (160, 0.0), (161, 0.015442674641212167), (162, 0.03534452942439847), (163, 0.0), (164, 0.009496556457048192), (165, 0.02311352038162913), (166, 0.032289432958539324), (167, 0.0026856068867388326), (168, 0.009137036529251194), (169, 0.007079379494793289), (170, 0.016583404000437313), (171, 0.017447464395365524), (172, 0.0027887770172322114), (173, 0.010459758461197108), (174, 0.009857933601464555), (175, 0.026264018731687763), (176, 0.0028565262584161325), (177, 0.013683481742711234), (178, 0.0029244131270286544), (179, 0.0042538504738612), (180, 0.0), (181, 0.0), (182, 0.01898146474772315), (183, 0.009152987679933994), (184, 0.019647515655494233), (185, 0.006807099160506579), (186, 0.00370093744964222), (187, 0.0), (188, 0.0), (189, 0.004582844326542624), (190, 0.021877725670579804), (191, 0.007897172896198654), (192, 0.007793266204023011), (193, 0.02530645916349588), (194, 0.002230431041178218), (195, 0.0060564696237028065), (196, 0.03555886163989591), (197, 0.01834777591232647), (198, 0.002820600880252485), (199, 0.00910009417285796), (200, 0.0024563918848488184), (201, 0.004617319493994348), (202, 0.007631989088028441), (203, 0.00263038755235219), (204, 0.0029043001546325037), (205, 0.0), (206, 0.012975118979627694), (207, 0.030235450121816866), (208, 0.010595602835134438), (209, 0.014536246354858775), (210, 0.0029961009934527925), (211, 0.007531566873741749), (212, 0.019168174054685624), (213, 0.0025873723786421967), (214, 0.027029053078216167), (215, 0.021919817005263756), (216, 0.00747022061362362), (217, 0.0), (218, 0.0025379769191477383), (219, 0.0), (220, 0.009357598318901922), (221, 0.020045153303403864), (222, 0.026807122128236147), (223, 0.004261586797319583), (224, 0.0021269460281390317), (225, 0.005089702758681667), (226, 0.002779581034405203), (227, 0.0029709863169962427), (228, 0.03169062574137357), (229, 0.0025917401642976783), (230, 0.007011939655363041), (231, 0.0151006954608776), (232, 0.01251719704457304), (233, 0.0), (234, 0.015819205091512623), (235, 0.003137760755492994), (236, 0.002611262124404978), (237, 0.00359035736542792), (238, 0.0028353650569734818), (239, 0.00469417428647436), (240, 0.004096302205444752), (241, 0.009428463832707823), (242, 0.008640890662639874), (243, 0.013257812016011766), (244, 0.013651734662608798), (245, 0.017762547025704668), (246, 0.0029564182384095253), (247, 0.0027486876475293046), (248, 0.006661017400126569), (249, 0.014081579986451811), (250, 0.02056768875413983), (251, 0.01614034664590672), (252, 0.015218143921410267), (253, 0.0030393927978574846), (254, 0.0030640884814292415), (255, 0.0029110815897211125), (256, 0.002076871071431489), (257, 0.0), (258, 0.0), (259, 0.008800429273016419), (260, 0.004197599038416476), (261, 0.004269812683107035), (262, 0.05440346050478562), (263, 0.01937781460447921), (264, 0.0044316457912850675), (265, 0.0), (266, 0.04236580617217614), (267, 0.01515766992446004), (268, 0.0024794530351339803), (269, 0.05145313676661613), (270, 0.0029073922821226676), (271, 0.007648615376808921), (272, 0.00442423173161787), (273, 0.0069871699336129045), (274, 0.003191957554794726), (275, 0.06074487467555053), (276, 0.0026211951321411533), (277, 0.01410941458950191), (278, 0.00239427980632666), (279, 0.006745507613354069), (280, 0.053819668952092156), (281, 0.0031382943987981944), (282, 0.06097996377682081), (283, 0.007303528619328273), (284, 0.04558802082891958), (285, 0.002517748073635882), (286, 0.0023855381306645174), (287, 0.021822341829892948), (288, 0.013631427787423288), (289, 0.0), (290, 0.0), (291, 0.004033928738243042), (292, 0.01397668029278874), (293, 0.005123316631328397), (294, 0.0035237241054819524), (295, 0.0), (296, 0.01287636302378347), (297, 0.009364034649985753), (298, 0.004622976379642874), (299, 0.004424840568499152), (300, 0.01586432193998565), (301, 0.02229597558880798), (302, 0.036050573380106615), (303, 0.02539949490394136), (304, 0.0), (305, 0.004421259671976966), (306, 0.008155028077012023), (307, 0.009361370924961464), (308, 0.0031086430220681658), (309, 0.014977898537265291), (310, 0.008503983401143883), (311, 0.0), (312, 0.0), (313, 0.007461961848391442), (314, 0.007923086882532739), (315, 0.0), (316, 0.0), (317, 0.015043579627374796), (318, 0.018288510470816043), (319, 0.018686596596750184), (320, 0.0), (321, 0.006988599990816036), (322, 0.007090161070360369), (323, 0.0), (324, 0.04662078180947275), (325, 0.0026269719586679316), (326, 0.0034044854246726808), (327, 0.023980313107795352), (328, 0.02258225959783), (329, 0.041806013320695466), (330, 0.03837479366745248), (331, 0.0), (332, 0.010782588294130487), (333, 0.0), (334, 0.05311697595197715), (335, 0.004091349027156716), (336, 0.011511815170822684), (337, 0.004016717607400435), (338, 0.008075309258278766), (339, 0.0), (340, 0.017891425688357), (341, 0.017283027929690605), (342, 0.030895077651852235), (343, 0.021769829458413992), (344, 0.004654556953851696), (345, 0.004289203412215922), (346, 0.09045789017547734), (347, 0.00444053981552242), (348, 0.022086919537201957), (349, 0.002696211705759182), (350, 0.003026434720854146), (351, 0.0021209395628949165), (352, 0.004022300285339498), (353, 0.014630856178184163), (354, 0.010639102837786633), (355, 0.002563389610050039), (356, 0.013741011333918137), (357, 0.010036888567419097), (358, 0.016709176417845438), (359, 0.0025511872217463824), (360, 0.0), (361, 0.004697799168184979), (362, 0.0), (363, 0.00786786901070287), (364, 0.002391615907300379), (365, 0.0), (366, 0.0), (367, 0.009054493318069325), (368, 0.01665739528619483), (369, 0.010620594893302639), (370, 0.002775459080974864), (371, 0.053326499419241634), (372, 0.024912497138934637), (373, 0.0026346301682600368), (374, 0.03185504004752635), (375, 0.0), (376, 0.0), (377, 0.017242734830341014), (378, 0.0027918681678933844), (379, 0.0), (380, 0.0050840972945559604), (381, 0.003614593432529902), (382, 0.0), (383, 0.0), (384, 0.0), (385, 0.0), (386, 0.0232274861426046), (387, 0.021042776229153078), (388, 0.00680214796380864), (389, 0.0), (390, 0.02252829856296002), (391, 0.0), (392, 0.004700994723458113), (393, 0.0), (394, 0.020003401402442438), (395, 0.002982617342899535), (396, 0.0026714490758962947), (397, 0.008641894176964055), (398, 0.0), (399, 0.0025759259974709775), (400, 0.03154902113875021), (401, 0.0), (402, 0.012166459955479807), (403, 0.028765286827789813), (404, 0.0), (405, 0.0), (406, 0.010182456090234113), (407, 0.0378355489864845), (408, 0.006812480586139449), (409, 0.01692228146693542), (410, 0.07409575648954203), (411, 0.004062074585010183), (412, 0.015384685543047269), (413, 0.007688592763380461), (414, 0.0054069977948293674), (415, 0.0), (416, 0.006602941867873432), (417, 0.004110766826955604), (418, 0.009362290906716031), (419, 0.020144762184901303), (420, 0.03262539064872619), (421, 0.0034226710691860093), (422, 0.0), (423, 0.0), (424, 0.005024923821423676), (425, 0.005020564141132131), (426, 0.004139393567532089), (427, 0.004244915093858885), (428, 0.030640140594409247), (429, 0.0029134751670143876), (430, 0.002992149624592622), (431, 0.0032784776547926343), (432, 0.014236721777189081), (433, 0.014053484396377864), (434, 0.0026299842152184504), (435, 0.021013836289251978), (436, 0.0031103005297882097), (437, 0.01630186451362793), (438, 0.0), (439, 0.004399509777957963), (440, 0.0), (441, 0.02804492965827038), (442, 0.005974619684335653), (443, 0.014147548196503976), (444, 0.0030974837910240187), (445, 0.008543740852705584), (446, 0.018955945266108897), (447, 0.0028866313935258297), (448, 0.008316944715260741), (449, 0.009026201123460902), (450, 0.003050420099873584), (451, 0.0), (452, 0.02293931972529891), (453, 0.0021257459698925886), (454, 0.0128793445620281), (455, 0.0019726667207739766), (456, 0.002945331468377133), (457, 0.0025514773499665574), (458, 0.003101897756125545), (459, 0.016965085786056152), (460, 0.008809967911706235), (461, 0.0), (462, 0.02236715962492185), (463, 0.009249355164877628), (464, 0.009864933527085163), (465, 0.015684925850570238), (466, 0.0027483979160777493), (467, 0.0), (468, 0.006737715441188432), (469, 0.007314676557898229), (470, 0.059562802839752516), (471, 0.0156280382759753), (472, 0.014830761769741425), (473, 0.0025150544218334398), (474, 0.0), (475, 0.003488972526515981), (476, 0.003051582816464122), (477, 0.01280374119616846), (478, 0.003146206686517123), (479, 0.0027766795606582236), (480, 0.002439410981993802), (481, 0.0030232296354036196), (482, 0.020282426427111762), (483, 0.00760782857919627), (484, 0.005899680852462652), (485, 0.0029791483621647847), (486, 0.022403262928863923), (487, 0.0026611977469093917), (488, 0.017300618368727063), (489, 0.003325530579610385), (490, 0.012112150797792662), (491, 0.005173755391922344), (492, 0.00413187234201695), (493, 0.017768193334363715), (494, 0.009495070313860147), (495, 0.006373006885856321), (496, 0.03889982639693217), (497, 0.012349206182890775), (498, 0.004219086251811038), (499, 0.034972444327666975), (500, 0.008630356167242947), (501, 0.0), (502, 0.03993540236001866), (503, 0.0), (504, 0.007249062585104098), (505, 0.002640910308475508), (506, 0.021001061826312593), (507, 0.023025787367989794), (508, 0.008285113914606875), (509, 0.002850906154537451), (510, 0.005759647367685583), (511, 0.017145570314084035), (512, 0.005260017524866843), (513, 0.0), (514, 0.0), (515, 0.0025058227686622254), (516, 0.014546175460046851), (517, 0.0), (518, 0.0032590317470342104), (519, 0.04986403500925304), (520, 0.0), (521, 0.011193314136757105), (522, 0.002698509285053578), (523, 0.03442596639799541), (524, 0.010670050531951723), (525, 0.0044018608724435485), (526, 0.0034957563554274614), (527, 0.013601139868300565), (528, 0.10025814626115806), (529, 0.004452907748550314), (530, 0.008712836967374047), (531, 0.0), (532, 0.0), (533, 0.0031267585562555164), (534, 0.0027456666409396346), (535, 0.0), (536, 0.0), (537, 0.038666174942038896), (538, 0.03069148412828448), (539, 0.0), (540, 0.008168989794337195), (541, 0.025329082864057318), (542, 0.001949437880688061), (543, 0.002895367562732228), (544, 0.019765911862586957), (545, 0.017158129112575866), (546, 0.029150602333310103), (547, 0.0723413800743459), (548, 0.004150038913500847), (549, 0.004106047306441578), (550, 0.0), (551, 0.08482876185491087), (552, 0.0), (553, 0.026776354731302875), (554, 0.0), (555, 0.0264048109525276), (556, 0.0), (557, 0.0), (558, 0.0025634529682932714), (559, 0.0), (560, 0.004438938747872656), (561, 0.021626585674417647), (562, 0.01692694217192179), (563, 0.0025067502988866054), (564, 0.018738639672662837), (565, 0.0), (566, 0.038225998239302186), (567, 0.0), (568, 0.02365330017102163), (569, 0.00810999001213918), (570, 0.0), (571, 0.002143394049090711), (572, 0.0), (573, 0.01752830658548392), (574, 0.03954610314823212), (575, 0.003712637500449104), (576, 0.0031338096252516417), (577, 0.003963610508150711), (578, 0.002623714625181964), (579, 0.002818048133720625), (580, 0.0029049482610839514), (581, 0.0025051910251665858), (582, 0.01961731052383852), (583, 0.01053941319873537), (584, 0.002876488081352413), (585, 0.00425733250769447), (586, 0.0), (587, 0.0030573519900675143), (588, 0.007487445338124955), (589, 0.002576388675173835), (590, 0.02927536323051112), (591, 0.010379777924978361), (592, 0.0), (593, 0.01824352960765416), (594, 0.010396050778728367), (595, 0.0), (596, 0.020040807408970348), (597, 0.07017417066780449), (598, 0.016665133740247317), (599, 0.004655865950930245), (600, 0.012233125541212371), (601, 0.0), (602, 0.0), (603, 0.0047071176671786875), (604, 0.011249334090600778), (605, 0.014725394118321638), (606, 0.002870654196640956), (607, 0.013782594860203662), (608, 0.002519957680367009), (609, 0.04443715731402097), (610, 0.004400125495973857), (611, 0.004466410350405195), (612, 0.0029515590851673158), (613, 0.004362159196678617), (614, 0.008267279085110558), (615, 0.02933999143091559), (616, 0.008316934787060377), (617, 0.002347095022741464), (618, 0.026097286358126096), (619, 0.0), (620, 0.016501196171273352), (621, 0.0), (622, 0.002953946112064893), (623, 0.0029525403167627445), (624, 0.04506992537036122), (625, 0.0), (626, 0.015157890076304647), (627, 0.0037642995030123362), (628, 0.012332219274855578), (629, 0.006217503300711993), (630, 0.0), (631, 0.030344072159277348), (632, 0.015650752165954834), (633, 0.0), (634, 0.0), (635, 0.04607398506394431), (636, 0.0028075405669501364), (637, 0.012666405108149105), (638, 0.0025621840052121704), (639, 0.003737018170970416), (640, 0.007409745634053105), (641, 0.007146798626082868), (642, 0.0024012307117428815), (643, 0.013959556874300302), (644, 0.006844932626026902), (645, 0.0022705110439840666), (646, 0.002673357581216783), (647, 0.0024391416733130044), (648, 0.013458053043601837), (649, 0.0), (650, 0.0), (651, 0.02421989444577924), (652, 0.03287009023641272), (653, 0.013970122739186422), (654, 0.014626161702836237), (655, 0.0025960073173214486), (656, 0.0), (657, 0.02065256907219014), (658, 0.019195543263457765), (659, 0.002589511343683537), (660, 0.04766141907823715), (661, 0.018322746002389333), (662, 0.0), (663, 0.0), (664, 0.01889364935783988), (665, 0.0), (666, 0.00497999585941084), (667, 0.0), (668, 0.0035012263772299943), (669, 0.028618816894982014), (670, 0.024767002092273754), (671, 0.007434847926767034), (672, 0.0024788951646892783), (673, 0.00303366610099256), (674, 0.017165764042859303), (675, 0.007857875819923484), (676, 0.002695108443883944), (677, 0.004850051372866187), (678, 0.0), (679, 0.0), (680, 0.007662943909822578), (681, 0.005010395308395548), (682, 0.0), (683, 0.01880475518696998), (684, 0.01706556035217056), (685, 0.009092369027684032), (686, 0.0), (687, 0.004909992829939768), (688, 0.035599190588781325), (689, 0.014326737034666064), (690, 0.004117564459990831), (691, 0.028715413222677757), (692, 0.013873092672036114), (693, 0.01740867326849117), (694, 0.0026141989717715984), (695, 0.0), (696, 0.018003631703076096), (697, 0.010021914707203412), (698, 0.019014069171212743), (699, 0.007959672186207403), (700, 0.004855461792236482), (701, 0.008043350151259156), (702, 0.0), (703, 0.0024693753991585307), (704, 0.004785256178485349), (705, 0.008835472658734713), (706, 0.03562881717228064), (707, 0.015044254571933046), (708, 0.0), (709, 0.0), (710, 0.006689031035799224), (711, 0.0), (712, 0.010806577707700275), (713, 0.029183207332287527), (714, 0.0), (715, 0.011013063535457179), (716, 0.0029151707743935535), (717, 0.007514150968464826), (718, 0.01867501863584416), (719, 0.0186840639024917), (720, 0.0), (721, 0.031323607309083734), (722, 0.020048174303440303), (723, 0.011239320097180637), (724, 0.0), (725, 0.003764727514353484), (726, 0.007400898530682971), (727, 0.011427306380122054), (728, 0.018049754306399365), (729, 0.018661368685875597), (730, 0.0), (731, 0.015359330987299122), (732, 0.008909318140768192), (733, 0.018241371328515044), (734, 0.024984772327474574), (735, 0.027442187316883977), (736, 0.004455228618003117), (737, 0.01624815224538939), (738, 0.007291533353083371), (739, 0.003172188268070263), (740, 0.0018649119932009624), (741, 0.0), (742, 0.022425927758517122), (743, 0.0028566653129690205), (744, 0.006663558881729316), (745, 0.0), (746, 0.0), (747, 0.03382679960858475), (748, 0.06433853951519035), (749, 0.02675355392269948), (750, 0.029233828524947134), (751, 0.011405458967964546), (752, 0.03554685725191177), (753, 0.0), (754, 0.010126047874784055), (755, 0.002701644782716016), (756, 0.012185799778263659), (757, 0.037666668097933315), (758, 0.0072560854272651), (759, 0.015236686738491313), (760, 0.0), (761, 0.016737447079277438), (762, 0.020153975283802784), (763, 0.015153524509859333), (764, 0.01379418905271742), (765, 0.00467719849321046), (766, 0.009234422268697078), (767, 0.00683517976958537), (768, 0.009029444382147629), (769, 0.007111189303774376), (770, 0.0), (771, 0.0), (772, 0.0), (773, 0.004281184641525801), (774, 0.0028804481717256683), (775, 0.017788261957536303), (776, 0.012665878990889971), (777, 0.003341203894143496), (778, 0.011964343042236352), (779, 0.025935454651777462), (780, 0.008421163839524107), (781, 0.004660690622193239), (782, 0.013823493815854775), (783, 0.0029284607943806506), (784, 0.0), (785, 0.008856354206063184), (786, 0.0), (787, 0.01151856057705129), (788, 0.022390288962130224), (789, 0.007142937532553563), (790, 0.013450264943070226), (791, 0.02754123952114452), (792, 0.023733812307945676), (793, 0.0), (794, 0.03661220165248019), (795, 0.0), (796, 0.002307984321287256), (797, 0.0), (798, 0.025515592316816067), (799, 0.1705833798488727), (800, 0.021513734550954258), (801, 0.0), (802, 0.0), (803, 0.011866310436477045), (804, 0.08052824754513688), (805, 0.0066631289252208955), (806, 0.002868854563817486), (807, 0.0035137660164207946), (808, 0.015145957363315404), (809, 0.007391988160556574), (810, 0.004134751762352707), (811, 0.0), (812, 0.006808079221608794), (813, 0.013063347799860826), (814, 0.01479274801848076), (815, 0.015979584502349747), (816, 0.002262640567886768), (817, 0.009658007583998363), (818, 0.002626248283850529), (819, 0.013226828343827183), (820, 0.003909263414945214), (821, 0.010647325793920828), (822, 0.009491674488645123), (823, 0.003204327254889776), (824, 0.0019358747009913069), (825, 0.009166871808918663), (826, 0.03395854363563908), (827, 0.0), (828, 0.03999161979117765), (829, 0.028121246435173573), (830, 0.012857829120725523), (831, 0.0019625350438199846), (832, 0.01693676653460388), (833, 0.006738521499163331), (834, 0.007141609983536616), (835, 0.006807811374995432), (836, 0.0), (837, 0.0), (838, 0.009280181596102107), (839, 0.0), (840, 0.012853989833307438), (841, 0.0), (842, 0.0), (843, 0.008207403844682692), (844, 0.013753582234466042), (845, 0.0029103633143517053), (846, 0.009678110353737501), (847, 0.01651954100401284), (848, 0.002803597964433531), (849, 0.0), (850, 0.030044438547926332), (851, 0.002435347624788186), (852, 0.015359376966483472), (853, 0.011138194121284832), (854, 0.020194609201673888), (855, 0.0), (856, 0.024402371956809447), (857, 0.01975158849794105), (858, 0.012076836572036533), (859, 0.0), (860, 0.0032209730178548316), (861, 0.0023938954272645784), (862, 0.007710907583865849), (863, 0.01118074100989538), (864, 0.024107151838524833), (865, 0.002854461140803274), (866, 0.0066985548309605614), (867, 0.016932086804024755), (868, 0.002581086679731304), (869, 0.0), (870, 0.014086207977683656), (871, 0.0028563594093989806), (872, 0.002976109387540249), (873, 0.0), (874, 0.01623965957301448), (875, 0.010373666116572743), (876, 0.036680348519240825), (877, 0.0), (878, 0.01573293991512416), (879, 0.002900290305777547), (880, 0.0027400425124808545), (881, 0.013964234122871127), (882, 0.003922966031374831), (883, 0.006883075440405008), (884, 0.0028922906846311153), (885, 0.006463011727346208), (886, 0.0026062318971443207), (887, 0.0030227460231717837), (888, 0.0030810367288330786), (889, 0.003577720113383245), (890, 0.04909679068092483), (891, 0.0046617440273779565), (892, 0.0), (893, 0.0), (894, 0.1017532305470213), (895, 0.04137692360285142), (896, 0.003036905583518318), (897, 0.014515307316963343), (898, 0.00797343244963751), (899, 0.019916715249007486), (900, 0.009331329635275845), (901, 0.0023025748190432073), (902, 0.0), (903, 0.011465553240703655), (904, 0.005209545346855837), (905, 0.0), (906, 0.01434030122970588), (907, 0.06117027024548592), (908, 0.0045211024988312575), (909, 0.009552876288991855), (910, 0.002544770135247082), (911, 0.011019086850033503), (912, 0.008311193969607174), (913, 0.004694325532419856), (914, 0.011702716749053191), (915, 0.004258514370450112), (916, 0.01077242090010248), (917, 0.014979339647151962), (918, 0.0045798834711365775), (919, 0.004497390328513545), (920, 0.015897121863486602), (921, 0.024828825751168862), (922, 0.0031189383181646035), (923, 0.011779346995618728), (924, 0.012548081703934033), (925, 0.02310793010352366), (926, 0.011782302717095433), (927, 0.013688378006350645), (928, 0.014481621108056425), (929, 0.008390244314056085), (930, 0.012345360983587654), (931, 0.03375816779263061), (932, 0.0), (933, 0.0028391100905086793), (934, 0.046106335917561206), (935, 0.014934691201605106), (936, 0.08746776775000809), (937, 0.0032479011190988806), (938, 0.004436046028687665), (939, 0.0026220970801729563), (940, 0.006984705337964452), (941, 0.0026037108387824636), (942, 0.0022600161489403155), (943, 0.009474340833313718), (944, 0.0025900351945303004), (945, 0.0044811490626641345), (946, 0.0), (947, 0.003749975721671784), (948, 0.0425350169989955), (949, 0.07016257649570458), (950, 0.0), (951, 0.002346810696274482), (952, 0.026355207775879234), (953, 0.013474251201754182), (954, 0.0), (955, 0.0), (956, 0.0), (957, 0.019728824361985885), (958, 0.0065811435429507575), (959, 0.002700188205464727), (960, 0.0), (961, 0.0), (962, 0.01785614628051129), (963, 0.017602678441899285), (964, 0.0), (965, 0.0), (966, 0.01360157407296312), (967, 0.0030692336118186116), (968, 0.03068869792291483), (969, 0.05862940920804762), (970, 0.023930315516028738), (971, 0.004555260042819362), (972, 0.0), (973, 0.04772697358607932), (974, 0.004142883134554828), (975, 0.0026024707427707502), (976, 0.0), (977, 0.0), (978, 0.004093421627178497), (979, 0.006366866716606327), (980, 0.029657095754317332), (981, 0.010471186027933524), (982, 0.044136878917036444), (983, 0.0), (984, 0.011634812595788229), (985, 0.003180070677918242), (986, 0.01787271811034421), (987, 0.002883416171140559), (988, 0.03602239482610891), (989, 0.0027343018680169476), (990, 0.0), (991, 0.0029840851928812596), (992, 0.01011160991043768), (993, 0.007258510581770019), (994, 0.002825112574509253), (995, 0.013006306354563058), (996, 0.0), (997, 0.0), (998, 0.022782357173414574), (999, 0.0031488751822367957), (1000, 0.01903260684570809), (1001, 0.011085305073119157), (1002, 0.020087557016990436), (1003, 0.0), (1004, 0.06816230296158014), (1005, 0.01439365768569752), (1006, 0.015050329838566027), (1007, 0.02115691177069514), (1008, 0.0), (1009, 0.008853692472383568), (1010, 0.018389494138063688), (1011, 0.004997983815884872), (1012, 0.007132795160669941), (1013, 0.0), (1014, 0.0083419344387776), (1015, 0.010788312201729182), (1016, 0.0), (1017, 0.018887400306233957), (1018, 0.010137996168538213), (1019, 0.012108557929971694), (1020, 0.009574888103722956), (1021, 0.009941105147837633), (1022, 0.004405313531880261), (1023, 0.011218423913877059), (1024, 0.0), (1025, 0.0193753172018151), (1026, 0.02815773147212223), (1027, 0.0160025113653177), (1028, 0.0), (1029, 0.008375845999573887), (1030, 0.01619929204280302), (1031, 0.004705349174215104), (1032, 0.0026256927990977947), (1033, 0.06976799342415635), (1034, 0.002662246686931343), (1035, 0.006999981101031591), (1036, 0.002621916842357169), (1037, 0.008118524252985688), (1038, 0.0), (1039, 0.008046699524361208), (1040, 0.0021712697852853185), (1041, 0.01091779369449385), (1042, 0.0023217796898859946), (1043, 0.0339898135511271), (1044, 0.002693008342271272), (1045, 0.0), (1046, 0.003758900031656164), (1047, 0.004610918947694334), (1048, 0.04547558362579278), (1049, 0.01984382163051604), (1050, 0.002368318695764096), (1051, 0.0), (1052, 0.006670710904226086), (1053, 0.0032697758993992083), (1054, 0.02053057662243676), (1055, 0.0), (1056, 0.004815057911574374), (1057, 0.010141715912801216), (1058, 0.0), (1059, 0.03619126327922688), (1060, 0.025797137362944325), (1061, 0.0), (1062, 0.0), (1063, 0.0), (1064, 0.0033680187140423708), (1065, 0.011179668211905441), (1066, 0.008151898986471567), (1067, 0.0), (1068, 0.010751523344335136), (1069, 0.018630835480592134), (1070, 0.0), (1071, 0.05318494489890172), (1072, 0.0027534226698875263), (1073, 0.02463792608047277), (1074, 0.0072223487294692705), (1075, 0.010513433084578224), (1076, 0.0), (1077, 0.014717102910789023), (1078, 0.0023151046577807037), (1079, 0.002556435273435915), (1080, 0.002502612556714169), (1081, 0.0), (1082, 0.0), (1083, 0.002892434938056885), (1084, 0.011985417655491902), (1085, 0.0), (1086, 0.0), (1087, 0.03333226370397081), (1088, 0.0023764219487119034), (1089, 0.03888335062916087), (1090, 0.024281357001893687), (1091, 0.010347474044577101), (1092, 0.0), (1093, 0.0), (1094, 0.007046405211884126), (1095, 0.014344637899084398), (1096, 0.009709359836455872), (1097, 0.013685782923671487), (1098, 0.0022668958751027564), (1099, 0.03876323754529292), (1100, 0.029059436823869314), (1101, 0.019214080305318296), (1102, 0.002759056929180012), (1103, 0.0), (1104, 0.02455477955054345), (1105, 0.008982532402141676), (1106, 0.012542523546939707), (1107, 0.029899487705859318), (1108, 0.0), (1109, 0.01289715505531605), (1110, 0.01202292285688544), (1111, 0.0164026272276565), (1112, 0.012182737747872317), (1113, 0.00854452421292801), (1114, 0.019900468771584977), (1115, 0.0), (1116, 0.035082187738790335), (1117, 0.01718262968887476), (1118, 0.033083137095446094), (1119, 0.002968072345571667), (1120, 0.025867435613759808), (1121, 0.035950415531605856), (1122, 0.00283025159212038), (1123, 0.01699903807437796), (1124, 0.010346939199809245), (1125, 0.009082579165895924), (1126, 0.022570477901321138), (1127, 0.028893471019364247), (1128, 0.007055259200717539), (1129, 0.023260352348318695), (1130, 0.03497960109879768), (1131, 0.017946063239996823), (1132, 0.006847869955895628), (1133, 0.009431358422417357), (1134, 0.008519679014773782), (1135, 0.0), (1136, 0.029752676447145087), (1137, 0.0), (1138, 0.04345090485998723), (1139, 0.0), (1140, 0.007715123179801466), (1141, 0.010665555525241757), (1142, 0.0), (1143, 0.0), (1144, 0.011485226077636006), (1145, 0.0038441569154892075), (1146, 0.011240988896884425), (1147, 0.0), (1148, 0.003138761176973575), (1149, 0.0), (1150, 0.0047733497461918), (1151, 0.0), (1152, 0.024025906744826468), (1153, 0.0), (1154, 0.0), (1155, 0.004590002960467918), (1156, 0.0), (1157, 0.017273477423308165), (1158, 0.0), (1159, 0.009353838694129056), (1160, 0.016977126572945585), (1161, 0.002509448809876359), (1162, 0.01571072589390548), (1163, 0.012210086949898103), (1164, 0.007685398054108529), (1165, 0.0), (1166, 0.0), (1167, 0.0), (1168, 0.008652593946365557), (1169, 0.0032535601643620274), (1170, 0.007213612562590146), (1171, 0.004008823994416088), (1172, 0.007208982696134099), (1173, 0.019074351659266242), (1174, 0.002841956442059225), (1175, 0.002805537309666661), (1176, 0.002837697359290626), (1177, 0.018348159529639342), (1178, 0.018470064211927036), (1179, 0.007204517576823915), (1180, 0.0), (1181, 0.0), (1182, 0.010182503482223373), (1183, 0.002580358838925151), (1184, 0.01395422423105023), (1185, 0.004662532760936567), (1186, 0.00632688173412242), (1187, 0.003266189910563317), (1188, 0.0029178535710285966), (1189, 0.0), (1190, 0.0), (1191, 0.021165901986097958), (1192, 0.019730050098149675), (1193, 0.01814581518234191), (1194, 0.010157473656290848), (1195, 0.02184834999155335), (1196, 0.009389987246565165), (1197, 0.008690269587505564), (1198, 0.0), (1199, 0.015778371551457206), (1200, 0.008590988499631256), (1201, 0.0), (1202, 0.002358026726969966), (1203, 0.0026101499341717174), (1204, 0.0028205463616565313), (1205, 0.0), (1206, 0.04212141705998858), (1207, 0.0), (1208, 0.009186384512251507), (1209, 0.014905163036784068), (1210, 0.012872326270728216), (1211, 0.0158221244540671), (1212, 0.0), (1213, 0.0), (1214, 0.007421820427994449), (1215, 0.024275762487171136), (1216, 0.03170168774587541), (1217, 0.0024134595707594273), (1218, 0.013238606272806878), (1219, 0.010973061450545234), (1220, 0.0366038172685159), (1221, 0.003679300736773338), (1222, 0.01451676917699225), (1223, 0.030178946846065393), (1224, 0.002901915685602413), (1225, 0.0029327009803099204), (1226, 0.007127739974993245), (1227, 0.009442092441019451), (1228, 0.0), (1229, 0.0029022661643699726), (1230, 0.0), (1231, 0.01659387803678095), (1232, 0.0028014068504469683), (1233, 0.0), (1234, 0.017721189774133183), (1235, 0.0), (1236, 0.0), (1237, 0.00252353464266369), (1238, 0.011546535398461476), (1239, 0.01865500198797634), (1240, 0.0), (1241, 0.04587101208674988), (1242, 0.01276616134280623), (1243, 0.01334134791176141), (1244, 0.0097492357003009), (1245, 0.0026947161459304177), (1246, 0.023488324671491763), (1247, 0.0026850636144762417), (1248, 0.0026709540334941195), (1249, 0.020678915829821155), (1250, 0.011849331536799481), (1251, 0.014808688120444693), (1252, 0.0027542838406145087), (1253, 0.013760250579552335), (1254, 0.026679321741461804), (1255, 0.018463254126175527), (1256, 0.0), (1257, 0.02565170268553383), (1258, 0.011434022123061136), (1259, 0.03896626657235831), (1260, 0.019316786503393305), (1261, 0.0026915577309108304), (1262, 0.011594798730879942), (1263, 0.0), (1264, 0.0033486728008935256), (1265, 0.010272564883764292), (1266, 0.02150361290172184), (1267, 0.011238642770726424), (1268, 0.0), (1269, 0.0), (1270, 0.016779315749432422), (1271, 0.009916716061634247), (1272, 0.0), (1273, 0.030230002048951234), (1274, 0.013178989882692536), (1275, 0.05975418472835729), (1276, 0.0), (1277, 0.0053883219399757576), (1278, 0.02599918507930333), (1279, 0.024367875930776082), (1280, 0.0), (1281, 0.012737080630968508), (1282, 0.004731268676496685), (1283, 0.0), (1284, 0.00270615805752143), (1285, 0.0), (1286, 0.0027253349089049394), (1287, 0.0), (1288, 0.016723775189319324), (1289, 0.0), (1290, 0.0024628526935329643), (1291, 0.008198771622866386), (1292, 0.0), (1293, 0.02725450300321331), (1294, 0.002853826273197228), (1295, 0.017147069975995417), (1296, 0.011469633279475287), (1297, 0.021760582178042037), (1298, 0.002764560872510312), (1299, 0.03712610828605652), (1300, 0.0), (1301, 0.006295093677140982), (1302, 0.007302761337351072), (1303, 0.0022413672181308317), (1304, 0.0116349362744783), (1305, 0.00961554382879551), (1306, 0.03691258053975874), (1307, 0.015105291702954736), (1308, 0.013216707134590546), (1309, 0.0), (1310, 0.012997149812046836), (1311, 0.0), (1312, 0.01215697845471667), (1313, 0.048555242399571555), (1314, 0.004353494878258207), (1315, 0.0), (1316, 0.028576863333053128), (1317, 0.008086213550541968), (1318, 0.002479283620300627), (1319, 0.015753147364563756), (1320, 0.0), (1321, 0.0050933483036828), (1322, 0.004505087390174747), (1323, 0.0), (1324, 0.017851273777983595), (1325, 0.023502155764323542), (1326, 0.0), (1327, 0.006846888179457203), (1328, 0.018261238153450956), (1329, 0.01583969107507465), (1330, 0.0), (1331, 0.0), (1332, 0.010530784609948314), (1333, 0.0), (1334, 0.0028537801982343224), (1335, 0.03245587935018609), (1336, 0.004646828634806646), (1337, 0.0028369682277653865), (1338, 0.007086955902031715), (1339, 0.013001244061433902), (1340, 0.0023608644102109046), (1341, 0.01317405357354718), (1342, 0.0), (1343, 0.005260941742486448), (1344, 0.0), (1345, 0.0071842707100983885), (1346, 0.021866586298301037), (1347, 0.00427464090903629), (1348, 0.0), (1349, 0.025139838355061), (1350, 0.0027079257627473066), (1351, 0.0053138673101161705), (1352, 0.01895259654673318), (1353, 0.0), (1354, 0.02103841899113191), (1355, 0.0028468231789947392), (1356, 0.002352927068562802), (1357, 0.0025618662462206653), (1358, 0.0), (1359, 0.010724229475318994), (1360, 0.006557882821172768), (1361, 0.0), (1362, 0.0), (1363, 0.0), (1364, 0.007481901302279596), (1365, 0.027659278378486446), (1366, 0.0025076478667900404), (1367, 0.01678264796207419), (1368, 0.004269950201336844), (1369, 0.017683853633828347), (1370, 0.002397012733964111), (1371, 0.01550159872541539), (1372, 0.015698411830580364), (1373, 0.004287470582010236), (1374, 0.011634190617748626), (1375, 0.006848449477337757), (1376, 0.013674036451987517), (1377, 0.01162067688062297), (1378, 0.0027776011223594756), (1379, 0.006240834681552662), (1380, 0.0046673359923542), (1381, 0.021092758009109487), (1382, 0.010301400966533803), (1383, 0.0031381005131567996), (1384, 0.012350895772128981), (1385, 0.009992746098752425), (1386, 0.014187471969925102), (1387, 0.0025095898153152615), (1388, 0.0), (1389, 0.018235138442120484), (1390, 0.004761293424561434), (1391, 0.019319370998983856), (1392, 0.006406420440763493), (1393, 0.0), (1394, 0.0063839331882484095), (1395, 0.003562323270567977), (1396, 0.03489571023471386), (1397, 0.027789992481566776), (1398, 0.0664951182746131), (1399, 0.0), (1400, 0.002930388018893736), (1401, 0.03992248827270952), (1402, 0.025065329946426025), (1403, 0.049364779611518195), (1404, 0.021090710037250587), (1405, 0.0), (1406, 0.0), (1407, 0.007651715545555864), (1408, 0.0027074869517405343), (1409, 0.002974066444003513), (1410, 0.0028096715005847587), (1411, 0.007120260208534106), (1412, 0.022131233670937153), (1413, 0.12563763127873026), (1414, 0.03804911762993263), (1415, 0.002277646352090837), (1416, 0.017092452058754155), (1417, 0.020824747646555637), (1418, 0.017872616662335215), (1419, 0.0), (1420, 0.02039354468909555), (1421, 0.006946364327062648), (1422, 0.007015681076486715), (1423, 0.010855477418610045), (1424, 0.0), (1425, 0.038428495470108064), (1426, 0.02303528764006299), (1427, 0.0022788428081309572), (1428, 0.029643751352510163), (1429, 0.003342003770738843), (1430, 0.0041150596417106056), (1431, 0.004531697606541474), (1432, 0.009845355244563684), (1433, 0.02669618537547557), (1434, 0.0025380987019362573), (1435, 0.014267105530164524), (1436, 0.004682543669764247), (1437, 0.0), (1438, 0.002753109729754662), (1439, 0.0029107305741305823), (1440, 0.002822878301873479), (1441, 0.0), (1442, 0.009885760109952678), (1443, 0.02398922745592086), (1444, 0.0), (1445, 0.023881907303683468), (1446, 0.013805012284719925), (1447, 0.004365111869776889), (1448, 0.00256870479775837), (1449, 0.0), (1450, 0.010540738669436722), (1451, 0.008313965325083134), (1452, 0.009990313531094062), (1453, 0.012914915114576889), (1454, 0.003053425814223804), (1455, 0.013938042182267312), (1456, 0.006688077478386857), (1457, 0.0), (1458, 0.007999654708664912), (1459, 0.00871234470425213), (1460, 0.0), (1461, 0.011755869808614674), (1462, 0.0025498390236783288), (1463, 0.006947260232335552), (1464, 0.02320542456671743), (1465, 0.022568815676035036), (1466, 0.0), (1467, 0.006963100387757891), (1468, 0.003922758096408376), (1469, 0.017927104754859167), (1470, 0.0), (1471, 0.05323724710316447), (1472, 0.01624330347021743), (1473, 0.0), (1474, 0.008035676768741493), (1475, 0.010404172462606531), (1476, 0.012392301181162682), (1477, 0.01736922382418081), (1478, 0.002662081801776903), (1479, 0.03147239074420345), (1480, 0.008785147600556115), (1481, 0.0026906223248628854), (1482, 0.0038683058742106447), (1483, 0.01774763883268545), (1484, 0.0029406428006085172), (1485, 0.0), (1486, 0.012803329321839097), (1487, 0.008391871237632909), (1488, 0.0027869516764222856), (1489, 0.0031237446424597277), (1490, 0.0), (1491, 0.0), (1492, 0.006231012200831932), (1493, 0.018149984972841975), (1494, 0.03660181249953618), (1495, 0.023202490850730704), (1496, 0.024589826495001847), (1497, 0.003172685370129164), (1498, 0.035727085449838526), (1499, 0.013692414619237765), (1500, 0.039477303737345606), (1501, 0.011611069918979065), (1502, 0.004673446904962064), (1503, 0.010545515839594129), (1504, 0.0), (1505, 0.007221074275973854), (1506, 0.015926599809659617), (1507, 0.0), (1508, 0.0), (1509, 0.02124839382943329), (1510, 0.021812024918969546), (1511, 0.004805635505050747), (1512, 0.0), (1513, 0.017432855727759006), (1514, 0.06186939005869826), (1515, 0.01170153926404635), (1516, 0.002862977573837045), (1517, 0.00881219564367218), (1518, 0.0029940230795748525), (1519, 0.009228986714375184), (1520, 0.004750748444453241), (1521, 0.0038222000885162217), (1522, 0.00893793657250377), (1523, 0.0), (1524, 0.019912841024137762), (1525, 0.0222924749171019), (1526, 0.04099326334156092), (1527, 0.0027206712237136618), (1528, 0.002524989827492297), (1529, 0.0), (1530, 0.0036242791050048856), (1531, 0.06418884862602246), (1532, 0.0), (1533, 0.0028199445697448112), (1534, 0.0), (1535, 0.003721366180047805), (1536, 0.0), (1537, 0.007714449002667198), (1538, 0.009058923649086614), (1539, 0.01284543438645747), (1540, 0.0), (1541, 0.0), (1542, 0.0), (1543, 0.026437183379307144), (1544, 0.009073082531343323), (1545, 0.0), (1546, 0.0038072057243148947), (1547, 0.02083210192317013), (1548, 0.005601900078276559), (1549, 0.0), (1550, 0.0027412272645905584), (1551, 0.011426283755533095), (1552, 0.006884142875745549), (1553, 0.031356593551389984), (1554, 0.019065862274745493), (1555, 0.006707808979479618), (1556, 0.00885263827619921), (1557, 0.0), (1558, 0.0025841939850501042), (1559, 0.003830139567860431), (1560, 0.0), (1561, 0.0), (1562, 0.0), (1563, 0.0), (1564, 0.004532509269031653), (1565, 0.006159004848150228), (1566, 0.0), (1567, 0.006522331170250555), (1568, 0.004038579627190325), (1569, 0.008486359925495571), (1570, 0.018810603839454605), (1571, 0.011910142843744547), (1572, 0.010619370286146802), (1573, 0.0), (1574, 0.007271322809736607), (1575, 0.0), (1576, 0.0), (1577, 0.013998381196307835), (1578, 0.014615846373608288), (1579, 0.012479651296175554), (1580, 0.01973693087176927), (1581, 0.007147449975352625), (1582, 0.0026688794296104595), (1583, 0.012736850785608683), (1584, 0.012124839593778637), (1585, 0.0), (1586, 0.014142585152821213), (1587, 0.004504836487034698), (1588, 0.009875736789395372), (1589, 0.0), (1590, 0.0), (1591, 0.027108412740988012), (1592, 0.009166728390674004), (1593, 0.003368968272231093), (1594, 0.013022420649100452), (1595, 0.006520777649677028), (1596, 0.0), (1597, 0.016045709460193104), (1598, 0.0027442250074526235), (1599, 0.0), (1600, 0.02796380945786659), (1601, 0.0), (1602, 0.009806441691000475), (1603, 0.0), (1604, 0.02569417576272775), (1605, 0.0025114891308447578), (1606, 0.024325995887592666), (1607, 0.0), (1608, 0.010266551239325544), (1609, 0.0), (1610, 0.021162455110477037), (1611, 0.01750026169418121), (1612, 0.04046203271937545), (1613, 0.022615462485944912), (1614, 0.0), (1615, 0.0), (1616, 0.002443004785724578), (1617, 0.007034467388102511), (1618, 0.0), (1619, 0.015352009491595053), (1620, 0.006737569973709345), (1621, 0.002740548006634043), (1622, 0.0), (1623, 0.0), (1624, 0.0022621875615114464), (1625, 0.002499776484324911), (1626, 0.00401000897880717), (1627, 0.0023763335431596093), (1628, 0.0025436519822472485), (1629, 0.010302026564036833), (1630, 0.017366598021174913), (1631, 0.0), (1632, 0.004243164164302422), (1633, 0.0), (1634, 0.0027552787602111873), (1635, 0.0), (1636, 0.004559778111389189), (1637, 0.013120413184118095), (1638, 0.0), (1639, 0.011813801409227807), (1640, 0.004779889011490267), (1641, 0.015518674855522371), (1642, 0.0066688060301695745), (1643, 0.007564761015943165), (1644, 0.0071920927243561165), (1645, 0.006960956894326346), (1646, 0.0), (1647, 0.0068062321198364625), (1648, 0.021155710203140332), (1649, 0.00880861573226342), (1650, 0.01746191834599038), (1651, 0.0), (1652, 0.0), (1653, 0.0070265983198188695), (1654, 0.01374575679277127), (1655, 0.012140100652800861), (1656, 0.003187200463601077), (1657, 0.008536343957246138), (1658, 0.011049421182340317), (1659, 0.0), (1660, 0.0075285512720713365), (1661, 0.0), (1662, 0.010835432797449775), (1663, 0.0026189266921206266), (1664, 0.006819291234741371), (1665, 0.0026029028923481084), (1666, 0.011469875348913973), (1667, 0.0025620337051346586), (1668, 0.00852206138235103), (1669, 0.005445289869487522), (1670, 0.012873928849782834), (1671, 0.002691475779393342), (1672, 0.0025448892044357472), (1673, 0.0), (1674, 0.016478952222370988), (1675, 0.01462753856794528), (1676, 0.0), (1677, 0.002187103749842905), (1678, 0.03759639729646447), (1679, 0.009590237027003007), (1680, 0.0025247517533295172), (1681, 0.00485869967535619), (1682, 0.020275387910664487), (1683, 0.013088971566374192), (1684, 0.006307084218515947), (1685, 0.010559199533984627), (1686, 0.0), (1687, 0.007639775047170021), (1688, 0.019202484027341305), (1689, 0.02745466072102058), (1690, 0.00899180864102309), (1691, 0.00992430960851087), (1692, 0.011502849138376691), (1693, 0.002610147731941199), (1694, 0.0), (1695, 0.009409909759037228), (1696, 0.020744792578076328), (1697, 0.009728928523685136), (1698, 0.023454710163475105), (1699, 0.0), (1700, 0.03074269262058795), (1701, 0.044778208713165665), (1702, 0.022598160276673756), (1703, 0.01850628009968513), (1704, 0.0045112448561777235), (1705, 0.0), (1706, 0.002805281428228438), (1707, 0.03374161081567718), (1708, 0.010719224576405804), (1709, 0.01244638013788614), (1710, 0.02946316563062261), (1711, 0.020986020658250996), (1712, 0.010667819207720116), (1713, 0.008176065096576542), (1714, 0.032478649055204374), (1715, 0.006448652701879618), (1716, 0.00808092933943466), (1717, 0.0028630544383658686), (1718, 0.012185985372493501), (1719, 0.006502941531664636), (1720, 0.0), (1721, 0.022319585243436642), (1722, 0.0028072706689158083), (1723, 0.010913790464180121), (1724, 0.0), (1725, 0.05907082021953176), (1726, 0.004541348586334455), (1727, 0.0028904001402883274), (1728, 0.011669492498671987), (1729, 0.0), (1730, 0.009098824893064857), (1731, 0.0), (1732, 0.0), (1733, 0.026209074857149857), (1734, 0.0), (1735, 0.0), (1736, 0.0029102293899746653), (1737, 0.00768052304034172), (1738, 0.013174028230824256), (1739, 0.0024996010122374655), (1740, 0.0028358433958968806), (1741, 0.0), (1742, 0.021096606113266234), (1743, 0.012262025452974211), (1744, 0.002652028753762814), (1745, 0.0), (1746, 0.03916672824160347), (1747, 0.007766849453423768), (1748, 0.020941262255122384), (1749, 0.015661154094111323), (1750, 0.0), (1751, 0.004477566322882805), (1752, 0.0), (1753, 0.0), (1754, 0.01347426435524114), (1755, 0.00842259546701594), (1756, 0.013086315961035926), (1757, 0.017058884077010873), (1758, 0.005117516114776674), (1759, 0.002626673446351877), (1760, 0.011308945709803042), (1761, 0.0073580436399865775), (1762, 0.012851402656546971), (1763, 0.0023806091560554916), (1764, 0.04151396895478069), (1765, 0.0028752138046307754), (1766, 0.0382184172732143), (1767, 0.0), (1768, 0.007408283866588227), (1769, 0.017499299681605577), (1770, 0.007742167935494281), (1771, 0.0), (1772, 0.003840336444273033), (1773, 0.007054504204188299), (1774, 0.007620304257827466), (1775, 0.015762790279009606), (1776, 0.0024482617099698904), (1777, 0.0), (1778, 0.004122120945029158), (1779, 0.01062556742762151), (1780, 0.011667941774610679), (1781, 0.007531092367593889), (1782, 0.01935364477355895), (1783, 0.0), (1784, 0.004018611452374111), (1785, 0.0), (1786, 0.0), (1787, 0.059784673440459055), (1788, 0.04372894272196695), (1789, 0.0), (1790, 0.008583344773830968), (1791, 0.0), (1792, 0.0032669391806803443), (1793, 0.01350201001597961), (1794, 0.01989496287896168), (1795, 0.0), (1796, 0.002536457334494802), (1797, 0.008286246475647385), (1798, 0.015465091517907738), (1799, 0.017580126477260656), (1800, 0.0), (1801, 0.01405420027560774), (1802, 0.019870017562791754), (1803, 0.0), (1804, 0.021808365732703262), (1805, 0.0030288199156186008), (1806, 0.0), (1807, 0.05292890198736527), (1808, 0.02001004716526554), (1809, 0.023118592193113623), (1810, 0.00903631396913358), (1811, 0.03377794524705654), (1812, 0.017146700887848546), (1813, 0.002698917346326957), (1814, 0.01126232013696148), (1815, 0.0), (1816, 0.01959923670106978), (1817, 0.007943190828621119), (1818, 0.031033925079582997), (1819, 0.002589922691132742), (1820, 0.0), (1821, 0.012835488937798156), (1822, 0.002934587147127691), (1823, 0.00818926287710042), (1824, 0.004159948894782115), (1825, 0.00846672096679223), (1826, 0.002513814469547537), (1827, 0.002513869126255346), (1828, 0.027407623251280835), (1829, 0.0), (1830, 0.0024632236282005897), (1831, 0.0027486878690325535), (1832, 0.0), (1833, 0.008545919587951338), (1834, 0.0), (1835, 0.0), (1836, 0.0), (1837, 0.0), (1838, 0.0), (1839, 0.0), (1840, 0.021296666243082227), (1841, 0.021922174291452875), (1842, 0.0), (1843, 0.019486224334921826), (1844, 0.010376893472551336), (1845, 0.020174943804616235), (1846, 0.028597194731095076), (1847, 0.0), (1848, 0.01316725031300043), (1849, 0.024135864818518614), (1850, 0.011969511851681837), (1851, 0.007501552857047034), (1852, 0.011464544303706053), (1853, 0.0029425523768757487), (1854, 0.002654214508172111), (1855, 0.0), (1856, 0.0), (1857, 0.004356786641537203), (1858, 0.018638608026079154), (1859, 0.014632922437542021), (1860, 0.027436092353302882), (1861, 0.002107186410510704), (1862, 0.0031134441467840137), (1863, 0.006218428689624361), (1864, 0.00959914253169227), (1865, 0.0025219616192228914), (1866, 0.0030355045302805635), (1867, 0.007110892565095399), (1868, 0.0), (1869, 0.0025169772886306134), (1870, 0.012870837078781318), (1871, 0.015995344232490806), (1872, 0.0028117104266512103), (1873, 0.00720735863156483), (1874, 0.0030043382774674666), (1875, 0.013228781685328607), (1876, 0.010037527446096019), (1877, 0.006875806249231824), (1878, 0.024342217197879108), (1879, 0.0), (1880, 0.0), (1881, 0.014514738324042273), (1882, 0.002723769120518723), (1883, 0.007792387097055267), (1884, 0.016717833650646247), (1885, 0.014331808713653405), (1886, 0.01773400211188928), (1887, 0.008165562937408909), (1888, 0.004347360050634239), (1889, 0.0), (1890, 0.0030846749002937106), (1891, 0.002755841288177724), (1892, 0.0025243328564154054), (1893, 0.007599857179032785), (1894, 0.0), (1895, 0.0041689564862008015), (1896, 0.0336965849494155), (1897, 0.025951589929573683), (1898, 0.0), (1899, 0.013009480193595494), (1900, 0.0), (1901, 0.0), (1902, 0.002922028605823126), (1903, 0.010875338503011055), (1904, 0.0), (1905, 0.0030308001201794677), (1906, 0.0094837476824405), (1907, 0.007756017942833456), (1908, 0.011687572231784902), (1909, 0.003155357763420471), (1910, 0.003738708681619456), (1911, 0.007477232110291745), (1912, 0.0), (1913, 0.007105501357184038), (1914, 0.004159239442849527), (1915, 0.008417489423475562), (1916, 0.0029295102143598478), (1917, 0.0), (1918, 0.012920035538481173), (1919, 0.020976311116126238), (1920, 0.009227821940245363), (1921, 0.010931428896472686), (1922, 0.027597085024212792), (1923, 0.0030874105446246653), (1924, 0.0031759469130063877), (1925, 0.01159001915077324), (1926, 0.018400767299881566), (1927, 0.0), (1928, 0.024580581691439174), (1929, 0.0026502005150007757), (1930, 0.009554700467427634), (1931, 0.0028403354091642236), (1932, 0.0), (1933, 0.009213119598024004), (1934, 0.008911315762147851), (1935, 0.019132076584716905), (1936, 0.01020018711038206), (1937, 0.013707409749321149), (1938, 0.0), (1939, 0.0), (1940, 0.0), (1941, 0.0), (1942, 0.0101537963583123), (1943, 0.0024196940774388383), (1944, 0.0), (1945, 0.01677832036920687), (1946, 0.018379857604288025), (1947, 0.003227165423511845), (1948, 0.018964892023830268), (1949, 0.0), (1950, 0.011766854175698544), (1951, 0.015284159373502148), (1952, 0.004765564733832505), (1953, 0.00918358893756575), (1954, 0.002462565309332532), (1955, 0.009928049101354591), (1956, 0.0), (1957, 0.019533986992412784), (1958, 0.017675644373980313), (1959, 0.0030071384531579616), (1960, 0.0030779503378936353), (1961, 0.014296098557453969), (1962, 0.0), (1963, 0.0), (1964, 0.010513988424245752), (1965, 0.0), (1966, 0.0), (1967, 0.016257533591544308), (1968, 0.008461926558932926), (1969, 0.03065350531189508), (1970, 0.0), (1971, 0.006107382733940349), (1972, 0.0), (1973, 0.004163184433916428), (1974, 0.0), (1975, 0.0), (1976, 0.0), (1977, 0.0024751439325545587), (1978, 0.0), (1979, 0.0), (1980, 0.002493428782296706), (1981, 0.011589028491116628), (1982, 0.012160712293400367), (1983, 0.002895282563026425), (1984, 0.004067566343451778), (1985, 0.024107252949359198), (1986, 0.011497602298608375), (1987, 0.008124713945921484), (1988, 0.017840226270592625), (1989, 0.021957564332232067), (1990, 0.004031932491258572), (1991, 0.016939084884519253), (1992, 0.0), (1993, 0.028028340023468917), (1994, 0.01675062055698871), (1995, 0.0029892438749562584), (1996, 0.0), (1997, 0.012636760936081765), (1998, 0.0), (1999, 0.0), (2000, 0.036309019910889466), (2001, 0.0), (2002, 0.0), (2003, 0.004275510312736898), (2004, 0.00261280720509778), (2005, 0.02090755256268359), (2006, 0.0), (2007, 0.0), (2008, 0.009705682624414645), (2009, 0.0), (2010, 0.014125126033756881), (2011, 0.03654759271698868), (2012, 0.025004198865829105), (2013, 0.012788839816323437), (2014, 0.02602654210218012), (2015, 0.004621137956102179), (2016, 0.007480230944633551), (2017, 0.009033000972870756), (2018, 0.0), (2019, 0.0), (2020, 0.04365688835595279), (2021, 0.0), (2022, 0.01272983207149451), (2023, 0.006785398699763117), (2024, 0.011712965034998524), (2025, 0.0), (2026, 0.0), (2027, 0.029958483674789295), (2028, 0.01994706846873966), (2029, 0.007034706717830426), (2030, 0.0), (2031, 0.023018231754276825), (2032, 0.005186016660955521), (2033, 0.012693596206216077), (2034, 0.0022903359859623943), (2035, 0.01515251250863126), (2036, 0.020760569975095514), (2037, 0.023546125173191775), (2038, 0.0), (2039, 0.054154924338504246), (2040, 0.01102576203887512), (2041, 0.0), (2042, 0.0), (2043, 0.012022709732280002), (2044, 0.010039628951907712), (2045, 0.014640259911640217), (2046, 0.01835764111095221), (2047, 0.022609510389035165), (2048, 0.0172245449411462), (2049, 0.011002616719840728), (2050, 0.0), (2051, 0.011339106255088957), (2052, 0.04572907491510544), (2053, 0.017197225917141748), (2054, 0.0), (2055, 0.019582062939805796), (2056, 0.011203051361651544), (2057, 0.0), (2058, 0.014485014291999478), (2059, 0.0), (2060, 0.016565031553124637), (2061, 0.011780532197695384), (2062, 0.03230997217507244), (2063, 0.0), (2064, 0.012265147167370413), (2065, 0.01044959323401834), (2066, 0.0156986908050049), (2067, 0.017993909371127294), (2068, 0.011622924798071466), (2069, 0.0027313595490781667), (2070, 0.012321901283902446), (2071, 0.017027229499132226), (2072, 0.023119833313266256), (2073, 0.02668855049040914), (2074, 0.014170351973030728), (2075, 0.0036425844120964185), (2076, 0.006077126701463882), (2077, 0.0), (2078, 0.0035196742429924413), (2079, 0.005052036569665), (2080, 0.00268594294810201), (2081, 0.017335136500866374), (2082, 0.01878624846035276), (2083, 0.018718353228299168), (2084, 0.010200379690323596), (2085, 0.0), (2086, 0.0047134623281047585), (2087, 0.032654715612233015), (2088, 0.0029125845905614033), (2089, 0.0032665786194818725), (2090, 0.0), (2091, 0.002818655222577995), (2092, 0.0), (2093, 0.0), (2094, 0.01100146073141035), (2095, 0.00695378714770529), (2096, 0.010637590871642573), (2097, 0.013310464218612518), (2098, 0.006158983383198599), (2099, 0.018784035335307786), (2100, 0.0), (2101, 0.007879315527132153), (2102, 0.011370652861261503), (2103, 0.030286415237088353), (2104, 0.0029689122423611565), (2105, 0.002960248808010796), (2106, 0.0), (2107, 0.058372892891709265), (2108, 0.0030855463605802946), (2109, 0.01452139516324779), (2110, 0.015278346795769965), (2111, 0.0027230876151441725), (2112, 0.015899926515150486), (2113, 0.005634424006622525), (2114, 0.03738522539868891), (2115, 0.0), (2116, 0.010771451330396382), (2117, 0.0026665767799718856), (2118, 0.024295176630780367), (2119, 0.006679399827845489), (2120, 0.014076646432524629), (2121, 0.018499447221843726), (2122, 0.0028064418417529224), (2123, 0.00287743905038466), (2124, 0.0), (2125, 0.0), (2126, 0.007430956857499271), (2127, 0.018730724730049764), (2128, 0.0043519108432949665), (2129, 0.09107853582020294), (2130, 0.017504643461481752), (2131, 0.006921906177350308), (2132, 0.0023224696808772315), (2133, 0.00262944078198112), (2134, 0.013681597347130979), (2135, 0.0), (2136, 0.06063357646481718), (2137, 0.003940109214206452), (2138, 0.0), (2139, 0.028475782403997014), (2140, 0.0), (2141, 0.01861720037313825), (2142, 0.003242229933880004), (2143, 0.029737957655981213), (2144, 0.033122719343071254), (2145, 0.020650241352486904), (2146, 0.002375739486717893), (2147, 0.00469743381385702), (2148, 0.012678027084888653), (2149, 0.0025974492253080157), (2150, 0.0), (2151, 0.0029639603957296577), (2152, 0.012846074059894252), (2153, 0.0), (2154, 0.012783587354337074), (2155, 0.010154656399613847), (2156, 0.010352169989063041), (2157, 0.016898619482388518), (2158, 0.0), (2159, 0.0030654592336725297), (2160, 0.015104112356802972), (2161, 0.026689854818319397), (2162, 0.002985341754020196), (2163, 0.002480518573284771), (2164, 0.0), (2165, 0.0), (2166, 0.002618120160386871), (2167, 0.008505260308210322), (2168, 0.008088074702575703), (2169, 0.062266843579989156), (2170, 0.0), (2171, 0.0), (2172, 0.0), (2173, 0.0027374671078923304), (2174, 0.009892525716773879), (2175, 0.03432792353406139), (2176, 0.04673437536624406), (2177, 0.01573497307506153), (2178, 0.013498091539628665), (2179, 0.0162677900580269), (2180, 0.005058830806977477), (2181, 0.010728357622934519), (2182, 0.0), (2183, 0.0), (2184, 0.0), (2185, 0.006450337587348346), (2186, 0.0), (2187, 0.0031905362318502693), (2188, 0.01492773574438983), (2189, 0.003902331198338295), (2190, 0.0029965406840899078), (2191, 0.0024931306721390264), (2192, 0.02023854403047113), (2193, 0.014536793036781761), (2194, 0.0), (2195, 0.02110472144944089), (2196, 0.0029398002112294356), (2197, 0.006089827586837834), (2198, 0.011647936906943263), (2199, 0.015922168721319442), (2200, 0.0), (2201, 0.002586049043677858), (2202, 0.0199299946843627), (2203, 0.021867736680511986), (2204, 0.015581313546384715), (2205, 0.0067397303948121936), (2206, 0.0), (2207, 0.0), (2208, 0.0), (2209, 0.011110885101252396), (2210, 0.007326056925353779), (2211, 0.01207078602365965), (2212, 0.0027739356075285547), (2213, 0.0024790623891694846), (2214, 0.0030225899404817697), (2215, 0.00830791517903056), (2216, 0.0027245121441100877), (2217, 0.014609194194998964), (2218, 0.00492002157614646), (2219, 0.0), (2220, 0.0), (2221, 0.03552263193803563), (2222, 0.014333879109894613), (2223, 0.003160838463395505), (2224, 0.011036809402792716), (2225, 0.0), (2226, 0.041396142620586836), (2227, 0.0), (2228, 0.0), (2229, 0.0030380336592527447), (2230, 0.002854980325947112), (2231, 0.0), (2232, 0.0), (2233, 0.004856623383656112), (2234, 0.01714977672722216), (2235, 0.0), (2236, 0.017088079489371858), (2237, 0.01849978365012343), (2238, 0.0), (2239, 0.01997419685254196), (2240, 0.0024395555170583835), (2241, 0.004602017149260654), (2242, 0.00264234568996562), (2243, 0.018574429054678324), (2244, 0.007918904206785971), (2245, 0.052951317311583986), (2246, 0.030283648785208575), (2247, 0.04271661331967444), (2248, 0.0024992450142926224), (2249, 0.0), (2250, 0.01662124424238097), (2251, 0.02488655347527828), (2252, 0.00953658327561604), (2253, 0.011263709509584769), (2254, 0.0029831654312072933), (2255, 0.003586618499358462), (2256, 0.008492365828144301), (2257, 0.0035791525255042915), (2258, 0.0), (2259, 0.004600686845058473), (2260, 0.002973845041667144), (2261, 0.0), (2262, 0.003987025953902097), (2263, 0.004749789964893797), (2264, 0.0024697474727282697), (2265, 0.00906022378060227), (2266, 0.003423021352621532), (2267, 0.019744839829816903), (2268, 0.006958939406191032), (2269, 0.0032264633343982428), (2270, 0.01736397797556072), (2271, 0.0), (2272, 0.00877919069422651), (2273, 0.0), (2274, 0.0), (2275, 0.0), (2276, 0.024547799061421845), (2277, 0.014602928515811284), (2278, 0.02205762208900215), (2279, 0.0027086462392284286), (2280, 0.0), (2281, 0.0), (2282, 0.0), (2283, 0.0047162032143924), (2284, 0.016825254659965958), (2285, 0.025449630818615697), (2286, 0.015631535025861096), (2287, 0.009703683524721417), (2288, 0.002940473285037334), (2289, 0.0027607115012654535), (2290, 0.017039508229920532), (2291, 0.009960226522247697), (2292, 0.0028313715704413873), (2293, 0.00303021744544214), (2294, 0.043739510224471034), (2295, 0.002824160661130933), (2296, 0.011657334251246383), (2297, 0.0), (2298, 0.0), (2299, 0.031147132030537684), (2300, 0.0), (2301, 0.03039862840846062), (2302, 0.0031575482872563255), (2303, 0.0135865562833677), (2304, 0.0), (2305, 0.0), (2306, 0.012626875428685284), (2307, 0.0), (2308, 0.021671457214299163), (2309, 0.04731872273033773), (2310, 0.016354029763035183), (2311, 0.004163044883043281), (2312, 0.0), (2313, 0.0028224151063917444), (2314, 0.0), (2315, 0.0), (2316, 0.031443742735530314), (2317, 0.006667043387904005), (2318, 0.02572606677627761), (2319, 0.012706768061364436), (2320, 0.013521384705072425), (2321, 0.017193589480514335), (2322, 0.004310936384118927), (2323, 0.0025087036531375607), (2324, 0.007173589120712715), (2325, 0.0), (2326, 0.0034750771961904467), (2327, 0.017137005921956695), (2328, 0.0), (2329, 0.004340830155178546), (2330, 0.004679128711339144), (2331, 0.0), (2332, 0.015567312995277275), (2333, 0.0), (2334, 0.007416440040900112), (2335, 0.00726385118007817), (2336, 0.0), (2337, 0.0), (2338, 0.010508465984651699), (2339, 0.0328722585812789), (2340, 0.0027868488873402683), (2341, 0.0), (2342, 0.1401449067727467), (2343, 0.0), (2344, 0.0027857405074894464), (2345, 0.009853208501188348), (2346, 0.0031607918492246832), (2347, 0.029270778715474816), (2348, 0.011521209720578957), (2349, 0.0038491061370342417), (2350, 0.02298389938028086), (2351, 0.005282426020176801), (2352, 0.0741417855634853), (2353, 0.0), (2354, 0.0027827337375897067), (2355, 0.002317641896114769), (2356, 0.0031076877312807235), (2357, 0.015842475311597572), (2358, 0.0), (2359, 0.002320309846334431), (2360, 0.0), (2361, 0.018972079554804955), (2362, 0.0025482948772064104), (2363, 0.00546907257053395), (2364, 0.01122009405903069), (2365, 0.0), (2366, 0.0), (2367, 0.011133578173165664), (2368, 0.020639400232567124), (2369, 0.0), (2370, 0.002896243562641224), (2371, 0.0), (2372, 0.0), (2373, 0.0), (2374, 0.0028173883976398487), (2375, 0.036729210876914206), (2376, 0.027223187413986237), (2377, 0.0035130854438301194), (2378, 0.021049558838913882), (2379, 0.0040120082258417195), (2380, 0.014596798026486033), (2381, 0.01930708884005478), (2382, 0.0023813784947941297), (2383, 0.0), (2384, 0.0), (2385, 0.012882996119738886), (2386, 0.046821410207109254), (2387, 0.012205046270250021), (2388, 0.006825977761362583), (2389, 0.0), (2390, 0.013408962079620411), (2391, 0.0029691485383609227), (2392, 0.003629742108889629), (2393, 0.002966711088983599), (2394, 0.0176336824684051), (2395, 0.0), (2396, 0.0028052282306656427), (2397, 0.01701997306668066), (2398, 0.014746587616110756), (2399, 0.00256612210438197), (2400, 0.0031442845798042448), (2401, 0.0027017517595488306), (2402, 0.002517595448329857), (2403, 0.022396323746470874), (2404, 0.01663676649608649), (2405, 0.017405399207595075), (2406, 0.01965724728227919), (2407, 0.0038427663723171737), (2408, 0.0), (2409, 0.0042149965309871565), (2410, 0.0030497017738267827), (2411, 0.003147855026315624), (2412, 0.028978293374462772), (2413, 0.0), (2414, 0.02191662352399494), (2415, 0.02170385805864691), (2416, 0.007101582940518127), (2417, 0.011685327467059088), (2418, 0.02528872040562858), (2419, 0.0029206344417745285), (2420, 0.0), (2421, 0.02147543812347074), (2422, 0.02595412042670551), (2423, 0.0035034403587219935), (2424, 0.0), (2425, 0.0036029319421758696), (2426, 0.006489861478168435), (2427, 0.02448909258244173), (2428, 0.003067926231671714), (2429, 0.0), (2430, 0.01180062189628646), (2431, 0.00455478936769827), (2432, 0.0042657778203791675), (2433, 0.0), (2434, 0.0033233933946269878), (2435, 0.0), (2436, 0.01610082690864031), (2437, 0.0031553919099353966), (2438, 0.0034433935353788804), (2439, 0.005911489212703013), (2440, 0.005646471435378526), (2441, 0.002251144332142851), (2442, 0.008790270801038542), (2443, 0.01891829855752356), (2444, 0.004514231261932527), (2445, 0.01284411297377271), (2446, 0.00669245207509742), (2447, 0.006179984699594837), (2448, 0.055288265079759244), (2449, 0.0), (2450, 0.0), (2451, 0.01498789007311771), (2452, 0.010369175002436802), (2453, 0.0025550290090805153), (2454, 0.0033568855973987845), (2455, 0.029709240406263923), (2456, 0.0), (2457, 0.01752110276659011), (2458, 0.004822843503980849), (2459, 0.020369181376444945), (2460, 0.0), (2461, 0.024857361645580105), (2462, 0.0), (2463, 0.03118193874222405), (2464, 0.0030488764755469346), (2465, 0.00910936774132782), (2466, 0.002854980363891199), (2467, 0.01938940897180491), (2468, 0.0), (2469, 0.007813884265393178), (2470, 0.004998322544698935), (2471, 0.0), (2472, 0.0), (2473, 0.009504824830019088), (2474, 0.034957091219201195), (2475, 0.0029896034290723475), (2476, 0.0), (2477, 0.0030035362283246303), (2478, 0.03138327893209551), (2479, 0.0), (2480, 0.011525865270947466), (2481, 0.05093278410361907), (2482, 0.02056606690068499), (2483, 0.018403777576318302), (2484, 0.0037169993610715103), (2485, 0.014858551632250135), (2486, 0.005052812630182836), (2487, 0.04347474252326049), (2488, 0.0033974194615786434), (2489, 0.0028330533023883907), (2490, 0.004006798631973407), (2491, 0.004080292331996775), (2492, 0.029129066453597075), (2493, 0.0), (2494, 0.03057685205113598), (2495, 0.012230563928005962), (2496, 0.002599750882759721), (2497, 0.004087321892076674), (2498, 0.018028534476837346), (2499, 0.01841174222193431), (2500, 0.0), (2501, 0.0044468400385244975), (2502, 0.0024527346088028417), (2503, 0.011528402449156618), (2504, 0.004320907880064211), (2505, 0.011083695050905396), (2506, 0.0), (2507, 0.013287222380505075), (2508, 0.0), (2509, 0.028341621342215274), (2510, 0.02347305507286593), (2511, 0.004587210414048996), (2512, 0.0027600140528126356), (2513, 0.03234721747273021), (2514, 0.01246756359302199), (2515, 0.0), (2516, 0.0), (2517, 0.0068446976047097955), (2518, 0.02074985880298149), (2519, 0.014394517802467506), (2520, 0.01550537186305242), (2521, 0.0), (2522, 0.002962807263228415), (2523, 0.0), (2524, 0.011603827347075078), (2525, 0.006785029858775203), (2526, 0.005895496131176365), (2527, 0.0023909793098730644), (2528, 0.0025816208177106984), (2529, 0.004035421680285464), (2530, 0.0035333091652907937), (2531, 0.017359797208300963), (2532, 0.004996164783171977), (2533, 0.002796012897467489), (2534, 0.01137899965530819), (2535, 0.0030811653153196535), (2536, 0.0), (2537, 0.0038135655720379336), (2538, 0.0016633365935787563), (2539, 0.0), (2540, 0.05068174965722241), (2541, 0.0), (2542, 0.0), (2543, 0.0), (2544, 0.0), (2545, 0.010397815517021274), (2546, 0.017340411819923414), (2547, 0.0058277624476874654), (2548, 0.0), (2549, 0.01753889287911227), (2550, 0.043621921039267486), (2551, 0.0), (2552, 0.0621896714871205), (2553, 0.0249440851407985), (2554, 0.0028044475793171245), (2555, 0.026014590902634634), (2556, 0.016585303066249692), (2557, 0.015170029232794178), (2558, 0.002780328215399939), (2559, 0.049182705563943115), (2560, 0.019117726461067228), (2561, 0.01276099585144876), (2562, 0.0066642379682649135), (2563, 0.024407939994563373), (2564, 0.0), (2565, 0.02061347268060434), (2566, 0.009992455329623149), (2567, 0.0), (2568, 0.01761871329793994), (2569, 0.0027469347901624545), (2570, 0.003271929020852109), (2571, 0.0069615809782232665), (2572, 0.009453965314216023), (2573, 0.0), (2574, 0.0), (2575, 0.061148131115488634), (2576, 0.0), (2577, 0.05417844132755294), (2578, 0.0), (2579, 0.003116057959273306), (2580, 0.0024826016912215068), (2581, 0.005530263112516965), (2582, 0.031066287318167848), (2583, 0.0), (2584, 0.012241878545973606), (2585, 0.003094699796908701), (2586, 0.009576446626449825), (2587, 0.012784061255567272), (2588, 0.01494749755491238), (2589, 0.0), (2590, 0.008798584337791506), (2591, 0.002494053443943163), (2592, 0.003077597056228082), (2593, 0.002564847818380173), (2594, 0.0), (2595, 0.02179756499329663), (2596, 0.0), (2597, 0.0), (2598, 0.0026301476140916775), (2599, 0.015082745246889788), (2600, 0.0), (2601, 0.024961957604225003), (2602, 0.0023066722729797647), (2603, 0.01209907762283252), (2604, 0.015186803572183615), (2605, 0.0), (2606, 0.002799161559667735), (2607, 0.008945701174120548), (2608, 0.016098863797389527), (2609, 0.007685560692331974), (2610, 0.007614929586722561), (2611, 0.019141629853620508), (2612, 0.006959004692437917), (2613, 0.003275027852767679), (2614, 0.03759244340162768), (2615, 0.004111035853315631), (2616, 0.008654195844313423), (2617, 0.02308763210766447), (2618, 0.0), (2619, 0.00334776801831107), (2620, 0.01331627151799559), (2621, 0.00868292138832841), (2622, 0.011773629427080046), (2623, 0.018945217221986863), (2624, 0.0030418792032191754), (2625, 0.01844759986260331), (2626, 0.0), (2627, 0.011678457637528285), (2628, 0.021907475117349622), (2629, 0.02211052454843475), (2630, 0.010066627913555176), (2631, 0.01745511354266365), (2632, 0.018388663935867057), (2633, 0.025046407013035264), (2634, 0.03231491855907342), (2635, 0.0), (2636, 0.05703490608383821), (2637, 0.004751473164492648), (2638, 0.12488960602934907), (2639, 0.025426466561167503), (2640, 0.015072888523135678), (2641, 0.0), (2642, 0.006942205064712787), (2643, 0.023132512352467226), (2644, 0.0), (2645, 0.00927315748674467), (2646, 0.0), (2647, 0.007297951849825557), (2648, 0.0), (2649, 0.05592544136209713), (2650, 0.012708344621714336), (2651, 0.0026301725822067564), (2652, 0.0028104435615011), (2653, 0.009630753329793499), (2654, 0.019815015776665952), (2655, 0.003684071686511508), (2656, 0.033039468935734395), (2657, 0.013844748009463467), (2658, 0.0), (2659, 0.0), (2660, 0.019150545362244736), (2661, 0.020909483448273383), (2662, 0.01041718804112287), (2663, 0.0), (2664, 0.002963722109601883), (2665, 0.013216976248153899), (2666, 0.004068282329418224), (2667, 0.0), (2668, 0.019376016294873906), (2669, 0.025609270779334153), (2670, 0.01616954010145884), (2671, 0.0), (2672, 0.02436973398652375), (2673, 0.009585296779654764), (2674, 0.016464854687273857), (2675, 0.004639277790526676), (2676, 0.0), (2677, 0.013596687170663242), (2678, 0.004527468782855666), (2679, 0.0026305889671310646), (2680, 0.015386132766127282), (2681, 0.0), (2682, 0.012947314966244086), (2683, 0.0), (2684, 0.0), (2685, 0.0), (2686, 0.0), (2687, 0.002735043291480646), (2688, 0.012354601716249414), (2689, 0.004691330361116489), (2690, 0.0), (2691, 0.01209527403814745), (2692, 0.008666453071715974), (2693, 0.0), (2694, 0.003703063556940686), (2695, 0.03217553961882642), (2696, 0.0032315977194537792), (2697, 0.0022758427133916354), (2698, 0.014035569842277542), (2699, 0.0), (2700, 0.0), (2701, 0.0), (2702, 0.003177299464295842), (2703, 0.0), (2704, 0.018458254490890585), (2705, 0.003010089219106999), (2706, 0.013695498772260591), (2707, 0.00326272484135407), (2708, 0.024990221056023967), (2709, 0.0), (2710, 0.0), (2711, 0.0), (2712, 0.0331835595054079), (2713, 0.004335477062157365), (2714, 0.05627906604530944), (2715, 0.0), (2716, 0.002677716023365289), (2717, 0.0), (2718, 0.0), (2719, 0.004696527404163947), (2720, 0.008445034335921968), (2721, 0.010628257048378508), (2722, 0.003902590937949997), (2723, 0.0029814472939456724), (2724, 0.010335342506784419), (2725, 0.007706053574630512), (2726, 0.007434821693936576), (2727, 0.02082810214222701), (2728, 0.0025303962014364676), (2729, 0.009442893123150402), (2730, 0.01705052230399061), (2731, 0.0037315683146492066), (2732, 0.01637004697567322), (2733, 0.0), (2734, 0.0035174478508885492), (2735, 0.002566737026330102), (2736, 0.0), (2737, 0.015803003216814538), (2738, 0.019657250874850762), (2739, 0.007907419301732213), (2740, 0.01621994395752194), (2741, 0.0025030464051520734), (2742, 0.006685086529015686), (2743, 0.015335115845589298), (2744, 0.027648955377720667), (2745, 0.002805984410662313), (2746, 0.0028265756560155834), (2747, 0.0024088113689000653), (2748, 0.0030229756556854805), (2749, 0.004027692333761174), (2750, 0.0), (2751, 0.006827956706067869), (2752, 0.002658897864442978), (2753, 0.010775622052201481), (2754, 0.0), (2755, 0.007619204458969353), (2756, 0.0), (2757, 0.004254939777904439), (2758, 0.0023609980791579744), (2759, 0.00701601682391465), (2760, 0.002133732135228972), (2761, 0.02056983001106629), (2762, 0.015997086790355615), (2763, 0.008643983607236673), (2764, 0.0039605862698164854), (2765, 0.0110557955883966), (2766, 0.009229010819970181), (2767, 0.01395445733364379), (2768, 0.017387185014136143), (2769, 0.04337550606477547), (2770, 0.012492010370337295), (2771, 0.03236863866412646), (2772, 0.014489309235566131), (2773, 0.0), (2774, 0.016842593583654822), (2775, 0.0037739701273448215), (2776, 0.0029940833084190345), (2777, 0.013329551392872964), (2778, 0.003361459277988226), (2779, 0.002653797772633667), (2780, 0.0), (2781, 0.0), (2782, 0.01361583215378609), (2783, 0.0027976741590929454), (2784, 0.007364864920500848), (2785, 0.0050670168353828355), (2786, 0.0029770287401968782), (2787, 0.008987444441413753), (2788, 0.004505490199913368), (2789, 0.00966354189165415), (2790, 0.014590783356186462), (2791, 0.008117394370465936), (2792, 0.09549550790965056), (2793, 0.022873478163748087), (2794, 0.017927663810788537), (2795, 0.015446975898158624), (2796, 0.003181406341048979), (2797, 0.003402643502582773), (2798, 0.03607875968829333), (2799, 0.0), (2800, 0.01689871121371981), (2801, 0.003796352058467976), (2802, 0.0027183103669145706), (2803, 0.02178201051736305), (2804, 0.04324514734816805), (2805, 0.003869949015020026), (2806, 0.0), (2807, 0.004341628250300428), (2808, 0.013958904722107845), (2809, 0.010510558958267819), (2810, 0.0), (2811, 0.0), (2812, 0.013576281761101216), (2813, 0.004434992635097512), (2814, 0.019426575425893274), (2815, 0.0), (2816, 0.01202919059451955), (2817, 0.014797394129131829), (2818, 0.030447175414936845), (2819, 0.0), (2820, 0.00629780185014494), (2821, 0.021334899880988745), (2822, 0.0), (2823, 0.0), (2824, 0.0), (2825, 0.0), (2826, 0.06864797575179682), (2827, 0.0), (2828, 0.0), (2829, 0.03530407718977969), (2830, 0.0030939281340860874), (2831, 0.00999166072161581), (2832, 0.003648284266175747), (2833, 0.015435528493943284), (2834, 0.008939385709258769), (2835, 0.0), (2836, 0.0), (2837, 0.020861932794588717), (2838, 0.003552728209301796), (2839, 0.0), (2840, 0.008036434829494466), (2841, 0.016763196913585705), (2842, 0.0038262744940985804), (2843, 0.007995606964205464), (2844, 0.036654102103237135), (2845, 0.0025587095145640057), (2846, 0.003252843486743231), (2847, 0.013777979335348947), (2848, 0.003393296525069282), (2849, 0.0029389522873100237), (2850, 0.0), (2851, 0.0), (2852, 0.0), (2853, 0.05291052223454856), (2854, 0.008002419861580956), (2855, 0.0037529689502276012), (2856, 0.0), (2857, 0.015098584631245004), (2858, 0.017337181614282167), (2859, 0.013657679267863501), (2860, 0.0), (2861, 0.0036847809530524598), (2862, 0.023844869129201147), (2863, 0.026433834742577114), (2864, 0.0), (2865, 0.0), (2866, 0.0), (2867, 0.02679143559105084), (2868, 0.03861585826181007), (2869, 0.011713360895574855), (2870, 0.022686269906433906), (2871, 0.0), (2872, 0.003200000066684933), (2873, 0.013204309257169308), (2874, 0.010790023595928547), (2875, 0.0), (2876, 0.016267563950503456), (2877, 0.0), (2878, 0.036301366809198404), (2879, 0.003385562103207092), (2880, 0.0), (2881, 0.0031484870152811155), (2882, 0.023562450478529413), (2883, 0.0037619570650896878), (2884, 0.0032091403147757962), (2885, 0.0), (2886, 0.03065944124230742), (2887, 0.020363287623337133), (2888, 0.003011352661579511), (2889, 0.003826905082176498), (2890, 0.00306756174562426), (2891, 0.0), (2892, 0.006839779893434983), (2893, 0.003152535446288967), (2894, 0.0028527954223292566), (2895, 0.03536864277904477), (2896, 0.0), (2897, 0.004227152309184133), (2898, 0.02550741583430606), (2899, 0.006773477039519971), (2900, 0.007182603318188777), (2901, 0.003569220101337822), (2902, 0.0020445869203654637), (2903, 0.013716958434217837), (2904, 0.0028914638644438294), (2905, 0.0), (2906, 0.0038962112988810177), (2907, 0.002578237381805433), (2908, 0.008020135287200341), (2909, 0.0027112491725381892), (2910, 0.020703830971897593), (2911, 0.025521578442322435), (2912, 0.0026918163957198693), (2913, 0.0), (2914, 0.0031439522910035617), (2915, 0.010853176714880914), (2916, 0.0031138664830833575), (2917, 0.013532288901530201), (2918, 0.0), (2919, 0.0028718467501100656), (2920, 0.029062509960008635), (2921, 0.010575964547600581), (2922, 0.0), (2923, 0.0037456292313943506), (2924, 0.003224036635264332), (2925, 0.0022320206637347242), (2926, 0.002907325829802454), (2927, 0.016910901557617843), (2928, 0.0), (2929, 0.01036877234611211), (2930, 0.010391933322584639), (2931, 0.017034450691276917), (2932, 0.0036755573768941126), (2933, 0.012233846711001146), (2934, 0.0028002161857447762), (2935, 0.019811174708099025), (2936, 0.021997039491562242), (2937, 0.003991910534080102), (2938, 0.004143003855579205), (2939, 0.0), (2940, 0.007701545585208235), (2941, 0.0222539846220467), (2942, 0.03224441900019179), (2943, 0.0027699708958170135), (2944, 0.05445226649444422), (2945, 0.002721229975334794), (2946, 0.017602490255156682), (2947, 0.0), (2948, 0.0), (2949, 0.021472955204596147), (2950, 0.008981976558216764), (2951, 0.009751105970629512), (2952, 0.0), (2953, 0.0029425274510931298), (2954, 0.0065792485685253884), (2955, 0.0), (2956, 0.03123922611644754), (2957, 0.0034009985688477438), (2958, 0.0), (2959, 0.13145214107413394), (2960, 0.0), (2961, 0.002736368909665683), (2962, 0.008422746735610269), (2963, 0.004725275060130375), (2964, 0.015393941685928902), (2965, 0.011619170708946492), (2966, 0.003379462546769691), (2967, 0.0), (2968, 0.0), (2969, 0.030448837641321783), (2970, 0.039878851717038775), (2971, 0.0), (2972, 0.027047912273545815), (2973, 0.0), (2974, 0.02008158008611426), (2975, 0.01654403195181299), (2976, 0.002490304638423979), (2977, 0.030217676223777433), (2978, 0.0), (2979, 0.0), (2980, 0.0485814135105281), (2981, 0.01608655383291125), (2982, 0.0), (2983, 0.0), (2984, 0.0), (2985, 0.01570740919075611), (2986, 0.0032882623975176934), (2987, 0.019319861311614506), (2988, 0.05496369953791936), (2989, 0.0038736356437681333), (2990, 0.0), (2991, 0.019155099031260347), (2992, 0.01965279463799137), (2993, 0.0033530746209529524), (2994, 0.0), (2995, 0.018460109588372985), (2996, 0.031857025601711046), (2997, 0.0026275780803626677), (2998, 0.00417344767463474), (2999, 0.0027641984679011265), (3000, 0.002846315532291457), (3001, 0.0), (3002, 0.0), (3003, 0.013587798093213522), (3004, 0.015065635993032338), (3005, 0.0), (3006, 0.0), (3007, 0.01306718868076897), (3008, 0.018615927784220204), (3009, 0.01323471052568618), (3010, 0.011215844466489641), (3011, 0.0042735116613938475), (3012, 0.003116757365474622), (3013, 0.018878383450578726), (3014, 0.01688523444584536), (3015, 0.003522746029738881), (3016, 0.002853886383895104), (3017, 0.0), (3018, 0.004621725009186698), (3019, 0.0032362241410951514), (3020, 0.003374846785376359), (3021, 0.0), (3022, 0.03228861813136452), (3023, 0.020015374005389983), (3024, 0.01479615180427583), (3025, 0.0), (3026, 0.0030714034040701128), (3027, 0.036882562604353825), (3028, 0.021561072696109133), (3029, 0.0), (3030, 0.0037660124446119076), (3031, 0.003395871628618403), (3032, 0.0031116826530545984), (3033, 0.01161919839840084), (3034, 0.0), (3035, 0.002646502080497917), (3036, 0.03055295026212196), (3037, 0.0029344052733131813), (3038, 0.0), (3039, 0.013155661017053911), (3040, 0.0038822684488421903), (3041, 0.0), (3042, 0.003766673830328231), (3043, 0.013846721841280588), (3044, 0.019496950084397273), (3045, 0.0), (3046, 0.0677408664600627), (3047, 0.0), (3048, 0.0), (3049, 0.0), (3050, 0.0025469670517633885), (3051, 0.017447665735215123), (3052, 0.0037971392519024626), (3053, 0.004246948147268272), (3054, 0.0), (3055, 0.0037828203468580606), (3056, 0.0023029896010135107), (3057, 0.006759513679995836), (3058, 0.0), (3059, 0.0), (3060, 0.0), (3061, 0.017458285537867577), (3062, 0.0030820360329424402), (3063, 0.020213398718062034), (3064, 0.01946252138105306), (3065, 0.00847712777383152), (3066, 0.028277435639918698), (3067, 0.045029496019054), (3068, 0.0), (3069, 0.002714772245198045), (3070, 0.0), (3071, 0.006749077624854787), (3072, 0.0032310592924356), (3073, 0.008732807561867183), (3074, 0.003410712628994473), (3075, 0.0026999122230228043), (3076, 0.01600780952012646), (3077, 0.0), (3078, 0.0), (3079, 0.00871071050806443), (3080, 0.050556376130746664), (3081, 0.0032716358843566614), (3082, 0.0), (3083, 0.0041139976875718175), (3084, 0.0029484566461828736), (3085, 0.006878476139835797), (3086, 0.03471535683798287), (3087, 0.03521137910455254), (3088, 0.0), (3089, 0.0), (3090, 0.0), (3091, 0.002326868396416241), (3092, 0.0), (3093, 0.0027358724173900018), (3094, 0.011677649933038868), (3095, 0.010714702174771724), (3096, 0.008675483204460547), (3097, 0.0030653976350876913), (3098, 0.0), (3099, 0.0), (3100, 0.0), (3101, 0.0030713045555163646), (3102, 0.0), (3103, 0.004675832276973952), (3104, 0.017276264005096745), (3105, 0.013325562712713047), (3106, 0.0), (3107, 0.0), (3108, 0.021412589033708112), (3109, 0.0), (3110, 0.0), (3111, 0.02139396562319121), (3112, 0.002989323436435033), (3113, 0.002835418693294935), (3114, 0.019557067020909265), (3115, 0.0), (3116, 0.0030548440341427304), (3117, 0.0), (3118, 0.0), (3119, 0.003811171793040897), (3120, 0.015493636734859421), (3121, 0.017165577549124122), (3122, 0.011095690634194726), (3123, 0.003390871306273352), (3124, 0.0), (3125, 0.007241107727742882), (3126, 0.0), (3127, 0.004286781145231976), (3128, 0.0035043082826048495), (3129, 0.015724955618501308), (3130, 0.0), (3131, 0.004734760021852166), (3132, 0.0), (3133, 0.004159739127889735), (3134, 0.0), (3135, 0.0), (3136, 0.0), (3137, 0.013932809734661012), (3138, 0.0), (3139, 0.003935902960785241), (3140, 0.032955799145046996), (3141, 0.017633489163281703), (3142, 0.00611874676024538), (3143, 0.027264174595462976), (3144, 0.011951473708423708), (3145, 0.005749592752904763), (3146, 0.0031095242426328134), (3147, 0.02386678677600301), (3148, 0.0031475146241199555), (3149, 0.004268738712995799), (3150, 0.007538915586071018), (3151, 0.013722497565455401), (3152, 0.040755379053830094), (3153, 0.0028626342947140173), (3154, 0.014970857676278676), (3155, 0.002798978792859223), (3156, 0.013440767769528305), (3157, 0.011108485682281836), (3158, 0.0), (3159, 0.01513849880006676), (3160, 0.0), (3161, 0.013766841888849086), (3162, 0.0), (3163, 0.0), (3164, 0.009845188027817791), (3165, 0.0031929991822277587), (3166, 0.016966741475830563), (3167, 0.002489602093004326), (3168, 0.0), (3169, 0.0), (3170, 0.002644687830035049), (3171, 0.01163525990327448), (3172, 0.005153127618806048), (3173, 0.0027377475042514444), (3174, 0.0071862800092716735), (3175, 0.0), (3176, 0.0), (3177, 0.0), (3178, 0.004395268431921321), (3179, 0.0), (3180, 0.0), (3181, 0.009645029717118656), (3182, 0.00283189277341277), (3183, 0.0030441893909630567), (3184, 0.0029858758711206607), (3185, 0.0), (3186, 0.0031521011266572997), (3187, 0.0029254352682518475), (3188, 0.0), (3189, 0.0), (3190, 0.03401645716865811), (3191, 0.014366668276624231), (3192, 0.0), (3193, 0.013035931588669341), (3194, 0.0026239235481779785), (3195, 0.0027357467960710986), (3196, 0.0031173133894589608), (3197, 0.015737619104919238), (3198, 0.002871809699712327), (3199, 0.017278195901401915), (3200, 0.006122299229226688), (3201, 0.016314116239954178), (3202, 0.0315972589129265), (3203, 0.011383006904813772), (3204, 0.02318086154858443), (3205, 0.037527771189316675), (3206, 0.02024760119319893), (3207, 0.0), (3208, 0.0), (3209, 0.031982364110533165), (3210, 0.012337923380681053), (3211, 0.010070404312892727), (3212, 0.0), (3213, 0.0), (3214, 0.0026540038490503385), (3215, 0.006021658975001963), (3216, 0.0027664018953890866), (3217, 0.0), (3218, 0.015357995772443636), (3219, 0.003632988855603412), (3220, 0.002716954675764936), (3221, 0.03488925519341952), (3222, 0.038940393613040164), (3223, 0.0), (3224, 0.0028942833490299543), (3225, 0.0028487591815941423), (3226, 0.022428514147310973), (3227, 0.012333010424975857), (3228, 0.0174824373237458), (3229, 0.01449328183513432), (3230, 0.05398448238026928), (3231, 0.003963045037637112), (3232, 0.0), (3233, 0.007412741710801909), (3234, 0.012713413257183897), (3235, 0.0029635447245949125), (3236, 0.0), (3237, 0.014228667976981756), (3238, 0.010009499163887645), (3239, 0.03301528918548003), (3240, 0.05483078811837046), (3241, 0.002900219159701504), (3242, 0.002918668327663404), (3243, 0.0026037008208726255), (3244, 0.030335503278312803), (3245, 0.03159606796921613), (3246, 0.029817909925590386), (3247, 0.0), (3248, 0.0031003736552406786), (3249, 0.0034769337979849205), (3250, 0.0), (3251, 0.0), (3252, 0.002316418131020513), (3253, 0.02712422130278373), (3254, 0.0022730212636285947), (3255, 0.0), (3256, 0.044846841316095815), (3257, 0.003349716193746899), (3258, 0.0030229125337192654), (3259, 0.00466727060340458), (3260, 0.00706958602971682), (3261, 0.0), (3262, 0.0035769993622239574), (3263, 0.0), (3264, 0.015211108485756106), (3265, 0.016541622465636927), (3266, 0.0), (3267, 0.00252246712097085), (3268, 0.0026532872121288334), (3269, 0.0030071134111142113), (3270, 0.013787005045490849), (3271, 0.007785554470077355), (3272, 0.0), (3273, 0.003094934762223644), (3274, 0.0031322489540504318), (3275, 0.003249211062591387), (3276, 0.018464158956572947), (3277, 0.02224183071494451), (3278, 0.0025277750963634956), (3279, 0.0), (3280, 0.004120257546760499), (3281, 0.0), (3282, 0.003605210022561349), (3283, 0.0073393520450801926), (3284, 0.028444654275322286), (3285, 0.0020899054841227683), (3286, 0.0), (3287, 0.0), (3288, 0.007044889848032598), (3289, 0.0028489796380346453), (3290, 0.002860879700513777), (3291, 0.0037357879329997117), (3292, 0.0036290130660061558), (3293, 0.015765962205786903), (3294, 0.039921303796420754), (3295, 0.0040274168563444335), (3296, 0.0031618370174874354), (3297, 0.007656384992689767), (3298, 0.0026853754954259406), (3299, 0.03806177918640155), (3300, 0.01888589556612577), (3301, 0.014006524410830555), (3302, 0.0033871274514817576), (3303, 0.01695099578799313), (3304, 0.002517219995533154), (3305, 0.0), (3306, 0.006605884594044933), (3307, 0.0032292010344902207), (3308, 0.019812258425632518), (3309, 0.006875520969096562), (3310, 0.014558020451037114), (3311, 0.006517991057237169), (3312, 0.005140189428272291), (3313, 0.0022696299912415775), (3314, 0.002948357628028966), (3315, 0.02741187900253667), (3316, 0.03602227644348318), (3317, 0.021899433238258006), (3318, 0.015082662286571239), (3319, 0.0), (3320, 0.05563332219156433), (3321, 0.028072843575952452), (3322, 0.0035778462175944984), (3323, 0.0), (3324, 0.0), (3325, 0.004966828954185954), (3326, 0.002944348114569848), (3327, 0.036763923971701216), (3328, 0.013857403985853188), (3329, 0.009123954581260781), (3330, 0.007180978000508938), (3331, 0.0023173506287992394), (3332, 0.0), (3333, 0.0), (3334, 0.0272662919993865), (3335, 0.0028088093847763087), (3336, 0.006485530962407829), (3337, 0.0032076462548602546), (3338, 0.0), (3339, 0.0), (3340, 0.014974624055558067), (3341, 0.0027877470012514665), (3342, 0.0066909205292118076), (3343, 0.004421078445467965), (3344, 0.015992720088407096), (3345, 0.01033335183484182), (3346, 0.00995366419557378), (3347, 0.0023332608206480037), (3348, 0.016195419104711308), (3349, 0.002884157905129283), (3350, 0.017083852155316), (3351, 0.002901396495234063), (3352, 0.002673369222698951), (3353, 0.0028901458817719673), (3354, 0.027299583557101353), (3355, 0.0031982539807963524), (3356, 0.003337896188112016), (3357, 0.0034555202713967615), (3358, 0.003374979333980039), (3359, 0.0032352371219742816), (3360, 0.057722351537247106), (3361, 0.004189325533030686), (3362, 0.022810330404861016), (3363, 0.015254811265385887), (3364, 0.008318121668396378), (3365, 0.015734454245230418), (3366, 0.0), (3367, 0.0), (3368, 0.004320752155443055), (3369, 0.002564243941778946), (3370, 0.0026984218674223313), (3371, 0.0), (3372, 0.002919618463531916), (3373, 0.003128905277805733), (3374, 0.007150908280035853), (3375, 0.0), (3376, 0.006152992427608419), (3377, 0.016329742705313895), (3378, 0.004618042662443863), (3379, 0.017535947517194953), (3380, 0.002467764937856355), (3381, 0.0027467672898566445), (3382, 0.0029007925363324174), (3383, 0.0), (3384, 0.013629711905503387), (3385, 0.010593234518771467), (3386, 0.014596542348694074), (3387, 0.007951105871325236), (3388, 0.002928996290235605), (3389, 0.026083601741520888), (3390, 0.01855824043610796), (3391, 0.006197732198341191), (3392, 0.0018471463819336618), (3393, 0.05649576680702281), (3394, 0.0), (3395, 0.019843373094413516), (3396, 0.0032065428351984275), (3397, 0.01642565076512445), (3398, 0.0), (3399, 0.03640250620004261), (3400, 0.0), (3401, 0.0), (3402, 0.002709015232818474), (3403, 0.024819316007761806), (3404, 0.0), (3405, 0.0), (3406, 0.0029338452491240808), (3407, 0.013524047689150408), (3408, 0.003214816317541631), (3409, 0.016066135102751594), (3410, 0.022822133602665835), (3411, 0.0038827584439161227), (3412, 0.0162455205852744), (3413, 0.0033390668969187466), (3414, 0.013019750138008022), (3415, 0.062074049126765), (3416, 0.007193493929082164), (3417, 0.003061804920910951), (3418, 0.02785154216266828), (3419, 0.0032081645912543704), (3420, 0.025625443036297834), (3421, 0.0019232716403817102), (3422, 0.0), (3423, 0.011419581126942547), (3424, 0.014546249438088316), (3425, 0.0032211277716285543), (3426, 0.006697947064343561), (3427, 0.015163469923547657), (3428, 0.017890441689581784), (3429, 0.0), (3430, 0.005997642457058114), (3431, 0.002232391953751826), (3432, 0.0), (3433, 0.002617592174618088), (3434, 0.002957508917952662), (3435, 0.05704263707610189), (3436, 0.0027978357680383723), (3437, 0.002910254279348208), (3438, 0.0047245493887537755), (3439, 0.0), (3440, 0.021963382314380872), (3441, 0.002757129180829614), (3442, 0.0), (3443, 0.0), (3444, 0.015296861580266236), (3445, 0.0028470377914612166), (3446, 0.004545012138626973), (3447, 0.014076713929268226), (3448, 0.005368612282986538), (3449, 0.0030040148920770946), (3450, 0.019345639358816582), (3451, 0.0), (3452, 0.002592257934305164), (3453, 0.0), (3454, 0.008658096439726693), (3455, 0.0025525473675845054), (3456, 0.034706825086090354), (3457, 0.012394236653452888), (3458, 0.01593338674082414), (3459, 0.004021322152447108), (3460, 0.09764337923814362), (3461, 0.004717352665516417), (3462, 0.0), (3463, 0.01431521783602871), (3464, 0.004690304321327595), (3465, 0.013181154520161394), (3466, 0.0), (3467, 0.0), (3468, 0.0), (3469, 0.06139439363714278), (3470, 0.0), (3471, 0.0022103581730540754), (3472, 0.0), (3473, 0.019668488273533152), (3474, 0.0025260607100882136), (3475, 0.0), (3476, 0.0), (3477, 0.007144965634188222), (3478, 0.002779968618090567), (3479, 0.003712570539329994), (3480, 0.007749907347017924), (3481, 0.003724611687196235), (3482, 0.0), (3483, 0.010566907238306375), (3484, 0.011540697796680875), (3485, 0.0), (3486, 0.0), (3487, 0.024649241738620212), (3488, 0.0), (3489, 0.0), (3490, 0.0), (3491, 0.007233804849613266), (3492, 0.007196650541900423), (3493, 0.021034457360111072), (3494, 0.014044569418862526), (3495, 0.0), (3496, 0.06876427719442665), (3497, 0.003037400948140761), (3498, 0.002656138928187428), (3499, 0.016440218383942513), (3500, 0.002579136780412743), (3501, 0.0028258095858694006), (3502, 0.01679682734196162), (3503, 0.027515744659959776), (3504, 0.013798149562587706), (3505, 0.0), (3506, 0.003206254091094241), (3507, 0.019054120793260455), (3508, 0.014171804736414011), (3509, 0.006246925339265557), (3510, 0.0), (3511, 0.0029262900359378593), (3512, 0.004262829893978636), (3513, 0.0), (3514, 0.0029021862012150973), (3515, 0.017451357369644836), (3516, 0.007836502345370842), (3517, 0.017327507865374497), (3518, 0.04893853856219733), (3519, 0.0), (3520, 0.014126998689261401), (3521, 0.0034247817455682074), (3522, 0.009673400004817161), (3523, 0.00398514072066554), (3524, 0.01174224892858036), (3525, 0.0), (3526, 0.007374056458800928), (3527, 0.0028736278574970175), (3528, 0.0), (3529, 0.0), (3530, 0.017752044065099396), (3531, 0.0), (3532, 0.0), (3533, 0.0), (3534, 0.018378846658744123), (3535, 0.0), (3536, 0.034561270358182204), (3537, 0.003448119391311141), (3538, 0.0057454399637409895), (3539, 0.0), (3540, 0.003242387004848809), (3541, 0.017282042170580818), (3542, 0.0028443160126864985), (3543, 0.0), (3544, 0.003383926253456267), (3545, 0.0), (3546, 0.005375867981552464), (3547, 0.0), (3548, 0.0022860967670788224), (3549, 0.01900913508618866), (3550, 0.0), (3551, 0.007272408233784372), (3552, 0.004521323447702732), (3553, 0.009891283965078781), (3554, 0.0), (3555, 0.0), (3556, 0.002485650280422759), (3557, 0.04585461080036641), (3558, 0.015861193610911598), (3559, 0.018697020514169688), (3560, 0.003123544813290863), (3561, 0.0037685221874037837), (3562, 0.004262767638512412), (3563, 0.006567176237823331), (3564, 0.06677561080447778), (3565, 0.0027512518501037926), (3566, 0.010920490635063004), (3567, 0.0042400865474641995), (3568, 0.004244264092451084), (3569, 0.09104094672224405), (3570, 0.0), (3571, 0.05936055096935592), (3572, 0.0), (3573, 0.0), (3574, 0.013299752917926556), (3575, 0.0022458706527704415), (3576, 0.0), (3577, 0.008904826569070785), (3578, 0.023199741893189168), (3579, 0.012296456396808894), (3580, 0.0), (3581, 0.0), (3582, 0.0), (3583, 0.0), (3584, 0.0), (3585, 0.013601262652253105), (3586, 0.004762768579115432), (3587, 0.008116799599951761), (3588, 0.0), (3589, 0.008715988575809365), (3590, 0.01899979709524414), (3591, 0.04527177487144226), (3592, 0.011751136291754206), (3593, 0.0031032741386845734), (3594, 0.011579857682749172), (3595, 0.0), (3596, 0.019231099806291188), (3597, 0.0), (3598, 0.010291427969023654), (3599, 0.015041375576161357), (3600, 0.0), (3601, 0.002964785327217888), (3602, 0.0), (3603, 0.0), (3604, 0.032243232147035374), (3605, 0.05670082654184267), (3606, 0.01706300267942298), (3607, 0.0), (3608, 0.001810727324195061), (3609, 0.0), (3610, 0.02567939446995928), (3611, 0.0031586611061129306), (3612, 0.03743264268573036), (3613, 0.003428898969026949), (3614, 0.00251625187833399), (3615, 0.002617862785196966), (3616, 0.008960349675189052), (3617, 0.0), (3618, 0.007637752852370362), (3619, 0.008292495210161097), (3620, 0.0033851394629877993), (3621, 0.0032712040478005532), (3622, 0.0), (3623, 0.0028677651019651776), (3624, 0.017720628410600348), (3625, 0.0), (3626, 0.005528128057044722), (3627, 0.0025721726144706156), (3628, 0.0), (3629, 0.002387469400498076), (3630, 0.0), (3631, 0.018269950043728122), (3632, 0.0073596335203244935), (3633, 0.007927110836563807), (3634, 0.008438202263418165), (3635, 0.003758531485060614), (3636, 0.0028648642365246145), (3637, 0.006301353873776403), (3638, 0.008983643575669203), (3639, 0.02481592693474165), (3640, 0.0031003017250777723), (3641, 0.006958937109867818), (3642, 0.01326386769278508), (3643, 0.05481856384660736), (3644, 0.02980966336686188), (3645, 0.0020953784589435426), (3646, 0.0068132891591873735), (3647, 0.002735125272538494), (3648, 0.012028969623695086), (3649, 0.0), (3650, 0.004484244316484727), (3651, 0.008242825121828001), (3652, 0.0), (3653, 0.0028338001101738193), (3654, 0.01751834929876776), (3655, 0.012536934404882715), (3656, 0.03997506481118894), (3657, 0.035725845155105865), (3658, 0.0037188259466966237), (3659, 0.0), (3660, 0.0026808140465896906), (3661, 0.02720929544727456), (3662, 0.0), (3663, 0.0), (3664, 0.0), (3665, 0.007188369154734993), (3666, 0.0028864690280450975), (3667, 0.013139185760335606), (3668, 0.006098899946972752), (3669, 0.0023558887288763677), (3670, 0.002803728353939266), (3671, 0.0), (3672, 0.003950266475147401), (3673, 0.0027687034504129365), (3674, 0.0037357245504588375), (3675, 0.0033138347430545067), (3676, 0.0), (3677, 0.012767221894723485), (3678, 0.007665525482169139), (3679, 0.0), (3680, 0.003143594176237344), (3681, 0.03394184447995853), (3682, 0.0), (3683, 0.0), (3684, 0.012043485516625468), (3685, 0.0), (3686, 0.0), (3687, 0.0034722008036594063), (3688, 0.0), (3689, 0.07431582712086635), (3690, 0.009045396105996908), (3691, 0.015924092434249856), (3692, 0.002993201122580901), (3693, 0.0), (3694, 0.003008558156923255), (3695, 0.0), (3696, 0.011216734362381863), (3697, 0.0), (3698, 0.010000680584989471), (3699, 0.012493346896444574), (3700, 0.0), (3701, 0.007386996481302564), (3702, 0.0), (3703, 0.0), (3704, 0.01321816636126524), (3705, 0.0025155431202409173), (3706, 0.01745583190171339), (3707, 0.012449035231298896), (3708, 0.0), (3709, 0.004313480647878825), (3710, 0.05357781417843951), (3711, 0.008154983743773908), (3712, 0.004192092582940262), (3713, 0.009692968675595449), (3714, 0.0030385906476060897), (3715, 0.018007334055793522), (3716, 0.0), (3717, 0.0), (3718, 0.050835733771732665), (3719, 0.0027133987663719846), (3720, 0.004270770504523649), (3721, 0.0), (3722, 0.004550201467918107), (3723, 0.0), (3724, 0.01948941586759108), (3725, 0.016654317974225178), (3726, 0.0), (3727, 0.0027563075960325705), (3728, 0.010672199036721777), (3729, 0.0032217282090205223), (3730, 0.004837826022697542), (3731, 0.00991451776029115), (3732, 0.02129511705542723), (3733, 0.009505195238848206), (3734, 0.0026219881955655), (3735, 0.0), (3736, 0.01246831708330552), (3737, 0.003104170883414993), (3738, 0.0), (3739, 0.007284733525852348), (3740, 0.0), (3741, 0.010281403119250998), (3742, 0.016337810000490956), (3743, 0.009158266760626093), (3744, 0.0), (3745, 0.060918812916763806), (3746, 0.004356539450795648), (3747, 0.007604782214899513), (3748, 0.010058878398383379), (3749, 0.019502091271812717), (3750, 0.0), (3751, 0.027894234333946433), (3752, 0.013636400695860867), (3753, 0.0), (3754, 0.0032239526682951974), (3755, 0.0024569130694417547), (3756, 0.015932478055531284), (3757, 0.0029987816819774015), (3758, 0.0), (3759, 0.019826084040216914), (3760, 0.0), (3761, 0.0), (3762, 0.01593529385298552), (3763, 0.049892968518498323), (3764, 0.016499884885597282), (3765, 0.011298229247731283), (3766, 0.0033151925816658962), (3767, 0.02304461076021628), (3768, 0.010156335725731911), (3769, 0.0), (3770, 0.0029070571377898882), (3771, 0.003011046410599917), (3772, 0.003163588377494264), (3773, 0.0), (3774, 0.0), (3775, 0.0), (3776, 0.003790220335317748), (3777, 0.007613112482547717), (3778, 0.058388744118488475), (3779, 0.0033568971466537245), (3780, 0.007693495841109867), (3781, 0.1342550592271064), (3782, 0.0), (3783, 0.0), (3784, 0.9999999999999996), (3785, 0.0), (3786, 0.004246283445183242), (3787, 0.0), (3788, 0.0), (3789, 0.0), (3790, 0.017998576365991083), (3791, 0.0), (3792, 0.0028270847016417426), (3793, 0.0), (3794, 0.0), (3795, 0.028482998093327695), (3796, 0.0), (3797, 0.03196240494925798), (3798, 0.0), (3799, 0.016954854027220828), (3800, 0.0), (3801, 0.023860520494947315), (3802, 0.0), (3803, 0.0038720385138336106), (3804, 0.003101077420361341), (3805, 0.0), (3806, 0.0), (3807, 0.0027653860804441703), (3808, 0.0), (3809, 0.0028482637669942227), (3810, 0.004509568973036526), (3811, 0.027051212340723756), (3812, 0.0), (3813, 0.003033225494390785), (3814, 0.028874420436886546), (3815, 0.0), (3816, 0.02563302367365264), (3817, 0.004923023402941828), (3818, 0.0043888058297311), (3819, 0.006803365127529128), (3820, 0.0), (3821, 0.026084880891762502), (3822, 0.016175122144323963), (3823, 0.008322048949682546), (3824, 0.0), (3825, 0.014492380294543937), (3826, 0.013849324251270386), (3827, 0.0027256880031563597), (3828, 0.003515813194478946), (3829, 0.048888469367991017), (3830, 0.0), (3831, 0.004853033841548864), (3832, 0.003393752320958403), (3833, 0.0), (3834, 0.0), (3835, 0.006010787369455485), (3836, 0.0), (3837, 0.0), (3838, 0.0), (3839, 0.009205413256237187), (3840, 0.0), (3841, 0.006461792756283091), (3842, 0.0), (3843, 0.0), (3844, 0.0), (3845, 0.0028996359949609737), (3846, 0.0), (3847, 0.0), (3848, 0.003526907788648394), (3849, 0.03049037737680109), (3850, 0.0), (3851, 0.0), (3852, 0.0038560946865715544), (3853, 0.0), (3854, 0.006663283314367113), (3855, 0.006113971067996727), (3856, 0.0), (3857, 0.05193669031037375), (3858, 0.024932558381758126), (3859, 0.0), (3860, 0.0266162035385112), (3861, 0.0), (3862, 0.0029033792851016382), (3863, 0.0024980697929818064), (3864, 0.006794801606979977), (3865, 0.025259308404619353), (3866, 0.008305740292995916), (3867, 0.0031580501192686647), (3868, 0.023463712592396067), (3869, 0.028408374072981357), (3870, 0.004626657711779328), (3871, 0.01576698812612209), (3872, 0.0), (3873, 0.002972564043368433), (3874, 0.003399440583199349), (3875, 0.04058303180213377), (3876, 0.0025518231509481883), (3877, 0.008022571736849449), (3878, 0.0036537282563935945), (3879, 0.0), (3880, 0.008707139553791559), (3881, 0.0), (3882, 0.02049959296989118), (3883, 0.0031688343448397064), (3884, 0.01423129826470202), (3885, 0.0), (3886, 0.004250164107129432), (3887, 0.0), (3888, 0.002750629047804167), (3889, 0.003014912806425843), (3890, 0.011252590556119619), (3891, 0.004190965903238567), (3892, 0.00361385339376914), (3893, 0.018078767178264166), (3894, 0.006319394117219289), (3895, 0.0024335594974204213), (3896, 0.0), (3897, 0.004692180258370329), (3898, 0.002638084832955965), (3899, 0.008444693475717347), (3900, 0.0026731889020214783), (3901, 0.0033526355102437774), (3902, 0.0028924802711082194), (3903, 0.026638810812566863), (3904, 0.013083034689152045), (3905, 0.0), (3906, 0.0027351377753520455), (3907, 0.009182979823998424), (3908, 0.0), (3909, 0.026425752460893775), (3910, 0.0024406287519371686), (3911, 0.0033218222508965855), (3912, 0.0), (3913, 0.016512680585941554), (3914, 0.007747780254612386), (3915, 0.003019513669644044), (3916, 0.0), (3917, 0.006931345294683916), (3918, 0.0), (3919, 0.03316155193620887), (3920, 0.007463498339100412), (3921, 0.010199152480095142), (3922, 0.003431790476091798), (3923, 0.0), (3924, 0.029391429641889014), (3925, 0.004137899599964641), (3926, 0.025621891200573222), (3927, 0.011990607436452862), (3928, 0.006018862891171036), (3929, 0.0), (3930, 0.014366811137592295), (3931, 0.0), (3932, 0.005128091897293727), (3933, 0.023308857283851236), (3934, 0.0), (3935, 0.003275768873515528), (3936, 0.0), (3937, 0.00932812701928504), (3938, 0.0), (3939, 0.016291148604864164), (3940, 0.005936382978629403), (3941, 0.039672260811965336), (3942, 0.0), (3943, 0.01861353259192897), (3944, 0.0035673979723785743), (3945, 0.008094965436757608), (3946, 0.005583705647838475), (3947, 0.0), (3948, 0.0), (3949, 0.0), (3950, 0.018561560566643685), (3951, 0.08058946057563081), (3952, 0.003188016789727871), (3953, 0.002529373494193115), (3954, 0.02517819655398859), (3955, 0.013848558777493778), (3956, 0.0024777739830080595), (3957, 0.031166853272241644), (3958, 0.0), (3959, 0.0074630145924630895), (3960, 0.04242076545636042), (3961, 0.003068396185664507), (3962, 0.022570741954194187), (3963, 0.019385757341005), (3964, 0.0), (3965, 0.0), (3966, 0.004127437919920545), (3967, 0.0030731343617159497), (3968, 0.0), (3969, 0.004649200095835584), (3970, 0.008465416917369259), (3971, 0.0), (3972, 0.0), (3973, 0.010625858538086525), (3974, 0.0025021290667537385), (3975, 0.0), (3976, 0.0), (3977, 0.0), (3978, 0.0026515856622167863), (3979, 0.0), (3980, 0.0035503017863731294), (3981, 0.0), (3982, 0.023400814050308874), (3983, 0.010792299829954118), (3984, 0.0029236115709460908), (3985, 0.0), (3986, 0.006483222509915949), (3987, 0.0029608556974139158), (3988, 0.0), (3989, 0.0), (3990, 0.0038371482150788743), (3991, 0.01424619248709736), (3992, 0.003142405541200872), (3993, 0.0), (3994, 0.004300711008111258), (3995, 0.01959839389023737), (3996, 0.0), (3997, 0.0), (3998, 0.011200350701460195), (3999, 0.0034230108705405804), (4000, 0.0527459522352311), (4001, 0.016078363178470206), (4002, 0.008368040751167897), (4003, 0.0), (4004, 0.002819263779216887), (4005, 0.017881814584703656), (4006, 0.004422947834660361), (4007, 0.016530945385945378), (4008, 0.03992671662053447), (4009, 0.03186170617870195), (4010, 0.0), (4011, 0.002610805765209661), (4012, 0.01309715810778386), (4013, 0.023038128866081708), (4014, 0.002812764569755077), (4015, 0.013245174128739844), (4016, 0.012197969516513687), (4017, 0.003772443617982932), (4018, 0.0), (4019, 0.015856184072111694), (4020, 0.011999799269905066), (4021, 0.0), (4022, 0.0), (4023, 0.030925022227820537), (4024, 0.01931546194573339), (4025, 0.01953644395496518), (4026, 0.0), (4027, 0.0), (4028, 0.0), (4029, 0.0), (4030, 0.0032538466637810903), (4031, 0.03253542182681272), (4032, 0.02713747571687472), (4033, 0.0029327775687031485), (4034, 0.0), (4035, 0.006265005903284494), (4036, 0.00271627326834648), (4037, 0.0), (4038, 0.007703303358553253), (4039, 0.0), (4040, 0.012196362156361645), (4041, 0.0), (4042, 0.0030704198521213145), (4043, 0.0), (4044, 0.0), (4045, 0.009985333577248033), (4046, 0.0030475901200447313), (4047, 0.011946369872967823), (4048, 0.0030433314708510793), (4049, 0.0028213612049343456), (4050, 0.0), (4051, 0.01364621651914196), (4052, 0.03052646354757441), (4053, 0.0025225171536923537), (4054, 0.0029477336048613694), (4055, 0.01447766281172725), (4056, 0.0027649402894312143), (4057, 0.025175554471587477), (4058, 0.0430785861596727), (4059, 0.0244161555151753), (4060, 0.0027619409618723826), (4061, 0.03577177554066713), (4062, 0.017448338274551035), (4063, 0.0), (4064, 0.004909439352488688), (4065, 0.0), (4066, 0.0024413383054707953), (4067, 0.0), (4068, 0.007320279024156373), (4069, 0.0264056320525044), (4070, 0.059259006440209205), (4071, 0.008942959094847826), (4072, 0.0), (4073, 0.0), (4074, 0.006484459183883571), (4075, 0.0032437633338010274), (4076, 0.004767686281764171), (4077, 0.012810000174023357), (4078, 0.0), (4079, 0.002881830967428792), (4080, 0.0024925914960323885), (4081, 0.012299345045487488), (4082, 0.003927184476165982), (4083, 0.002902312781999143), (4084, 0.0), (4085, 0.0026458971663080384), (4086, 0.0), (4087, 0.0030220225500999266), (4088, 0.009686066161951723), (4089, 0.05392142237325416), (4090, 0.0), (4091, 0.004862709231395349), (4092, 0.0031459763073871886), (4093, 0.0), (4094, 0.025084998035775935), (4095, 0.014202244606912), (4096, 0.0), (4097, 0.038730288394225716), (4098, 0.002849584560138748), (4099, 0.028316160330154334), (4100, 0.0), (4101, 0.07115384770406002), (4102, 0.003529703725400645), (4103, 0.0), (4104, 0.002464127333732385), (4105, 0.0), (4106, 0.07024737889582654), (4107, 0.015103499466737405), (4108, 0.015528006161325669), (4109, 0.004004362465383083), (4110, 0.014245788637954828), (4111, 0.0029760031690126035), (4112, 0.00431975594321718), (4113, 0.05391294872367999), (4114, 0.008202996759213595), (4115, 0.012753125581247022), (4116, 0.00303079026071409), (4117, 0.04582255396985056), (4118, 0.028218894167005952), (4119, 0.1159946518705695), (4120, 0.004933020173260248), (4121, 0.005033481368623088), (4122, 0.09277910184354103), (4123, 0.09655721889505686), (4124, 0.006818022266255578), (4125, 0.0), (4126, 0.003234878328097022), (4127, 0.0), (4128, 0.0), (4129, 0.002690808483381241), (4130, 0.01829120752874411), (4131, 0.0), (4132, 0.02163193462897056), (4133, 0.013337248808333806), (4134, 0.009881223849150177), (4135, 0.007307719667097487), (4136, 0.007506230331248753), (4137, 0.07991057087364442), (4138, 0.00308138932290481), (4139, 0.018808870629115314), (4140, 0.0030374332300752965), (4141, 0.015318184360095698), (4142, 0.00355419168829002), (4143, 0.033635074129476875), (4144, 0.0), (4145, 0.01436820500771055), (4146, 0.0), (4147, 0.0033849642393304607), (4148, 0.0), (4149, 0.02310855396036065), (4150, 0.03667516250435579), (4151, 0.004776356664451936), (4152, 0.015892317954109128), (4153, 0.0), (4154, 0.01512192657206723), (4155, 0.053701928004246696), (4156, 0.025250895429224682), (4157, 0.004336815113091934), (4158, 0.018097735507284857), (4159, 0.0), (4160, 0.0031168624649088057), (4161, 0.0029906895717649313), (4162, 0.0), (4163, 0.03725781636131515), (4164, 0.03544098921287631), (4165, 0.023898476603944514), (4166, 0.0), (4167, 0.0), (4168, 0.0), (4169, 0.017826308410613216), (4170, 0.0), (4171, 0.01576872524453616), (4172, 0.0036751547995541142), (4173, 0.018527656778161036), (4174, 0.006632094460142726), (4175, 0.013024434645207115), (4176, 0.10170862378240456), (4177, 0.0), (4178, 0.0029190147605892823), (4179, 0.0), (4180, 0.009988111267950225), (4181, 0.010418345731381182), (4182, 0.007571806933447297), (4183, 0.002696293992882042), (4184, 0.009490253083447182), (4185, 0.0156490390628194), (4186, 0.015285134892711955), (4187, 0.003154318812443613), (4188, 0.009391164803596481), (4189, 0.014735470841172223), (4190, 0.0166433179830165), (4191, 0.0), (4192, 0.024776477116093876), (4193, 0.0), (4194, 0.005420475368872377), (4195, 0.0), (4196, 0.026695521140915387), (4197, 0.0028340181398418102), (4198, 0.012480253714470936), (4199, 0.011725447383210946), (4200, 0.03318866702724486), (4201, 0.01585249683896795), (4202, 0.0038871809771514254), (4203, 0.04673776863697313), (4204, 0.0), (4205, 0.020773024751649972), (4206, 0.01161865016334513), (4207, 0.0), (4208, 0.0), (4209, 0.00340651246396987), (4210, 0.011792095178972822), (4211, 0.0), (4212, 0.0), (4213, 0.00264344240800041), (4214, 0.01413521641823819), (4215, 0.0), (4216, 0.0), (4217, 0.011228786640047655), (4218, 0.08458020600201466), (4219, 0.0), (4220, 0.010790462916512292), (4221, 0.003716807217798497), (4222, 0.016404390365452767), (4223, 0.040082233867254645), (4224, 0.0), (4225, 0.002918207018372033), (4226, 0.023042717488995397), (4227, 0.0), (4228, 0.017670774887794182), (4229, 0.0), (4230, 0.0035619836294316326), (4231, 0.002965477713186275), (4232, 0.0024167889076947054), (4233, 0.0), (4234, 0.0), (4235, 0.0), (4236, 0.006658922207162474), (4237, 0.012423846982362076), (4238, 0.0), (4239, 0.013058056908858827), (4240, 0.004831189214389099), (4241, 0.019316972677658004), (4242, 0.008951606366474033), (4243, 0.0031647691598082023), (4244, 0.0031847794705124823), (4245, 0.002986822569075385), (4246, 0.0026321524595159275), (4247, 0.015720754554777422), (4248, 0.0), (4249, 0.0028683410257275715), (4250, 0.0), (4251, 0.0), (4252, 0.004257969548049098), (4253, 0.0), (4254, 0.002610254721114241), (4255, 0.033287943638199084), (4256, 0.031152149738758985), (4257, 0.022474384081854808), (4258, 0.0), (4259, 0.003087896668682663), (4260, 0.018302838065382885), (4261, 0.0), (4262, 0.007480722787188221), (4263, 0.003061877153227011), (4264, 0.0), (4265, 0.00936723909830365), (4266, 0.0028051742038048715), (4267, 0.013355615812001261), (4268, 0.012182245106947865), (4269, 0.01786708177456842), (4270, 0.0), (4271, 0.005476088743092788), (4272, 0.011029245641918924), (4273, 0.0028447752018206105), (4274, 0.0), (4275, 0.0), (4276, 0.0), (4277, 0.018407752802646282), (4278, 0.0), (4279, 0.004232067560010789), (4280, 0.0032946327857738744), (4281, 0.005114917004230001), (4282, 0.14491187145555143), (4283, 0.06306369181239417), (4284, 0.00706995322488917), (4285, 0.0), (4286, 0.01293216411842827), (4287, 0.020123012722922627), (4288, 0.0056566412837998035), (4289, 0.0), (4290, 0.016519228332656705), (4291, 0.0), (4292, 0.00416966642923669), (4293, 0.003102098664287272), (4294, 0.0), (4295, 0.003173980832338012), (4296, 0.002421465320566713), (4297, 0.008110916316027601), (4298, 0.003410497530242106), (4299, 0.002713830186664839), (4300, 0.014064079585504567), (4301, 0.0020625143398049035), (4302, 0.0), (4303, 0.04712517460480731), (4304, 0.0024950383644001058), (4305, 0.0), (4306, 0.0034369273256023326), (4307, 0.0), (4308, 0.0030486223653951217), (4309, 0.0027133254344812105), (4310, 0.0), (4311, 0.0022585691883410565), (4312, 0.019664255497314063), (4313, 0.0), (4314, 0.016697522377534448), (4315, 0.0), (4316, 0.0), (4317, 0.0), (4318, 0.002937553182475693), (4319, 0.02751365939028512), (4320, 0.019428351101183138), (4321, 0.0026466458908279227), (4322, 0.046143914577449124), (4323, 0.009955656580483646), (4324, 0.0), (4325, 0.00876675425819847), (4326, 0.002548728137129326), (4327, 0.009211214273021845), (4328, 0.00826861018164014), (4329, 0.0), (4330, 0.007209535126779709), (4331, 0.0), (4332, 0.009602599168347705), (4333, 0.0031281497977057836), (4334, 0.0028732373159805176), (4335, 0.03343728831498116), (4336, 0.00964000935517553), (4337, 0.007994757990246881), (4338, 0.015157362808288319), (4339, 0.004042591228160397), (4340, 0.04378515656214514), (4341, 0.0), (4342, 0.04205737310585488), (4343, 0.0024589222394319305), (4344, 0.028026223733869288), (4345, 0.011602258887298314), (4346, 0.02009037621575315), (4347, 0.014933207341761576), (4348, 0.006626357302427166), (4349, 0.0027335685306045573), (4350, 0.002505700303235385), (4351, 0.012467457413977732), (4352, 0.0), (4353, 0.003843275498758423), (4354, 0.044286892355082444), (4355, 0.002961596270372095), (4356, 0.0025853893456889666), (4357, 0.0029633285883105148), (4358, 0.0), (4359, 0.011167126503809337), (4360, 0.0), (4361, 0.0028922621728867783), (4362, 0.0027220110798740664), (4363, 0.03148626711473916), (4364, 0.016713713178606683), (4365, 0.0), (4366, 0.023301512258426457), (4367, 0.006977485245457616), (4368, 0.00810944569010742), (4369, 0.0140722518000464), (4370, 0.0), (4371, 0.010702294483360172), (4372, 0.0), (4373, 0.008751757419146047), (4374, 0.011040661398647412), (4375, 0.0), (4376, 0.004537296195469617), (4377, 0.0), (4378, 0.0), (4379, 0.007465600910750382), (4380, 0.0), (4381, 0.0026950646378453963), (4382, 0.040936421528739116), (4383, 0.0), (4384, 0.03109290007258478), (4385, 0.006266923375535707), (4386, 0.002397597350363691), (4387, 0.03229506510032007), (4388, 0.029763460962817918), (4389, 0.0), (4390, 0.0), (4391, 0.012361274558090083), (4392, 0.0), (4393, 0.0), (4394, 0.007150126870867236), (4395, 0.007009847338938292), (4396, 0.003110243527376099), (4397, 0.0030938945162523957), (4398, 0.0032123100438021016), (4399, 0.010992201506501141), (4400, 0.040590589872095455), (4401, 0.01366603514793776), (4402, 0.006662716967847945), (4403, 0.027637061169935192), (4404, 0.026716012836069516), (4405, 0.0), (4406, 0.057988074199563124), (4407, 0.0036362618136043766), (4408, 0.016754658786790635), (4409, 0.0027635167895752573), (4410, 0.0), (4411, 0.0023815981029492246), (4412, 0.0032564934810138534), (4413, 0.0), (4414, 0.003354028238961628), (4415, 0.0), (4416, 0.0032722875079880848), (4417, 0.0), (4418, 0.0036510840272199288), (4419, 0.0028981138244563638), (4420, 0.0029313359271954365), (4421, 0.0), (4422, 0.01264015182787389), (4423, 0.003604846087200529), (4424, 0.0), (4425, 0.0), (4426, 0.012040972747635768), (4427, 0.002776842025687656), (4428, 0.006842010728384229), (4429, 0.015530005329744695), (4430, 0.00291059826781685), (4431, 0.04040407668988799), (4432, 0.002433226649966767), (4433, 0.0), (4434, 0.0), (4435, 0.01681479895794643), (4436, 0.012536266643128843), (4437, 0.0), (4438, 0.004242869437270574), (4439, 0.013884122641482024), (4440, 0.009208091316656137), (4441, 0.004203978447815087), (4442, 0.00698905539218346), (4443, 0.0034055149952956104), (4444, 0.009438830478456827), (4445, 0.0020869442290825557), (4446, 0.0030495736577400606), (4447, 0.0), (4448, 0.017395704548004175), (4449, 0.0051927017902933924), (4450, 0.003923051574499969), (4451, 0.0), (4452, 0.0), (4453, 0.0), (4454, 0.005105683379242691), (4455, 0.0), (4456, 0.0), (4457, 0.0), (4458, 0.0033155365179469926), (4459, 0.0534954224358894), (4460, 0.034392020342565346), (4461, 0.002676236923277113), (4462, 0.00500120588772345), (4463, 0.0), (4464, 0.0), (4465, 0.16702986648051638), (4466, 0.0), (4467, 0.012008868062542834), (4468, 0.0), (4469, 0.003473384247834554), (4470, 0.0331317748868525), (4471, 0.0029479648625021933), (4472, 0.006965229573650532), (4473, 0.00627553464803994), (4474, 0.01287893754411676), (4475, 0.0024998768051094763), (4476, 0.0023788185379414717), (4477, 0.008418104259538891), (4478, 0.0), (4479, 0.002560381780883112), (4480, 0.0), (4481, 0.00422838015320233), (4482, 0.004389356572583392), (4483, 0.011274939428142691), (4484, 0.00370647653089645), (4485, 0.0), (4486, 0.021847120599461627), (4487, 0.0027388506470912522), (4488, 0.0), (4489, 0.0340831207090137), (4490, 0.0032968231212057845), (4491, 0.010284213990126252), (4492, 0.004754067394386134), (4493, 0.0), (4494, 0.003140545165194149), (4495, 0.002977650525361469), (4496, 0.02966256261611775), (4497, 0.0029104880807911387), (4498, 0.0), (4499, 0.0), (4500, 0.0), (4501, 0.04277147837997412), (4502, 0.0025390173782950894), (4503, 0.00726697244758313), (4504, 0.021534360525415006), (4505, 0.002942582062210255), (4506, 0.0), (4507, 0.04862646122815492), (4508, 0.0), (4509, 0.0), (4510, 0.04198369149296646), (4511, 0.03093599080553649), (4512, 0.010590415456091145), (4513, 0.0), (4514, 0.0), (4515, 0.015442131519370808), (4516, 0.003187782775436905), (4517, 0.002796777654333637), (4518, 0.02027022015073616), (4519, 0.0), (4520, 0.01770635746987072), (4521, 0.03412296515185255), (4522, 0.0030295329320001387), (4523, 0.020242309296464454), (4524, 0.013873429125935909), (4525, 0.0), (4526, 0.0), (4527, 0.0), (4528, 0.0030190409580267076), (4529, 0.0037273613901135545), (4530, 0.002718783660856539), (4531, 0.018460113872236485), (4532, 0.01221561334431965), (4533, 0.04332752185922742), (4534, 0.0), (4535, 0.013690510666467228), (4536, 0.0026559562668429164), (4537, 0.0), (4538, 0.0), (4539, 0.0), (4540, 0.002987068004599652), (4541, 0.007228504818754974), (4542, 0.009344672974569548), (4543, 0.0), (4544, 0.0034679562886133107), (4545, 0.003008353368033523), (4546, 0.0035933903851296306), (4547, 0.0), (4548, 0.02844146610489678), (4549, 0.004909419622322141), (4550, 0.023172877279417678), (4551, 0.11857521057343594), (4552, 0.0), (4553, 0.0), (4554, 0.011863445631447308), (4555, 0.00418980615785822), (4556, 0.0), (4557, 0.0), (4558, 0.0), (4559, 0.0), (4560, 0.0), (4561, 0.0), (4562, 0.017336166083709522), (4563, 0.05890196781909106), (4564, 0.011194016819561042), (4565, 0.0), (4566, 0.002930539964011631), (4567, 0.0026569220603498886), (4568, 0.008273044711250163), (4569, 0.0), (4570, 0.0), (4571, 0.04161117640940694), (4572, 0.0034118281519274697), (4573, 0.0026949398107756037), (4574, 0.0029765648913248877), (4575, 0.002941392808202747), (4576, 0.018290484860776633), (4577, 0.0), (4578, 0.0), (4579, 0.018038199059096503), (4580, 0.0), (4581, 0.0), (4582, 0.02311596723097871), (4583, 0.0), (4584, 0.0032682501089281433), (4585, 0.0), (4586, 0.00984193735405961), (4587, 0.00900818034037344), (4588, 0.0), (4589, 0.013613687067607065), (4590, 0.028442478804796847), (4591, 0.05342359992849782), (4592, 0.004411850427734112), (4593, 0.003091230670793441), (4594, 0.008487143191151725), (4595, 0.0), (4596, 0.020493269396525328), (4597, 0.0), (4598, 0.0021809614897757026), (4599, 0.0), (4600, 0.016820798067201433), (4601, 0.0030427923060969103), (4602, 0.04644838386434644), (4603, 0.009309518756847934), (4604, 0.02127481485477042), (4605, 0.08475680956217915), (4606, 0.0035194250031297296), (4607, 0.004036816943990152), (4608, 0.0024669502947314544), (4609, 0.0), (4610, 0.008376052217586706), (4611, 0.0037054529252987), (4612, 0.00897018786585422), (4613, 0.019457860799142003), (4614, 0.0026553580010313027), (4615, 0.0), (4616, 0.002568002744065723), (4617, 0.003802114066612335), (4618, 0.0), (4619, 0.003067228360312346), (4620, 0.011175876378882838), (4621, 0.004624565106259258), (4622, 0.0), (4623, 0.0), (4624, 0.055458140758869366), (4625, 0.0028864713892233656), (4626, 0.0022475765494454083), (4627, 0.002385388869961252), (4628, 0.0411521218928313), (4629, 0.11304148059807652), (4630, 0.0), (4631, 0.0), (4632, 0.003277419213390368), (4633, 0.07010397970124964), (4634, 0.006723542854343463), (4635, 0.02778175308293515), (4636, 0.015083563677885246), (4637, 0.0032987040443501754), (4638, 0.01776769401123566), (4639, 0.0), (4640, 0.08575849080914481), (4641, 0.002715688855360561), (4642, 0.0), (4643, 0.0028595571276364604), (4644, 0.0), (4645, 0.0), (4646, 0.00564258265343083), (4647, 0.019101056915428197), (4648, 0.0), (4649, 0.04955542124439895), (4650, 0.003203734724140136), (4651, 0.0), (4652, 0.01439376271093588), (4653, 0.01706184646710124), (4654, 0.0), (4655, 0.0), (4656, 0.0), (4657, 0.002989856357550295), (4658, 0.07065461081550112), (4659, 0.004775694974808895), (4660, 0.00888528038287073), (4661, 0.010842312367886808), (4662, 0.0), (4663, 0.0), (4664, 0.0), (4665, 0.0), (4666, 0.018892709525994856), (4667, 0.0), (4668, 0.002739196163946623), (4669, 0.05640259788117019), (4670, 0.01925076248140569), (4671, 0.0), (4672, 0.0), (4673, 0.0026925232148812686), (4674, 0.009341714748287114), (4675, 0.017251712373805326), (4676, 0.0), (4677, 0.032480738213043696), (4678, 0.0), (4679, 0.01853508270956073), (4680, 0.013078008278272955), (4681, 0.0), (4682, 0.030233364950671415), (4683, 0.0), (4684, 0.0), (4685, 0.07618385081110945), (4686, 0.007249445917426658), (4687, 0.007045533023597549), (4688, 0.0), (4689, 0.004038239921358214), (4690, 0.008863807075868103), (4691, 0.0), (4692, 0.015268422467337513), (4693, 0.002700376116844152), (4694, 0.0032663751109778807), (4695, 0.02984987321764189), (4696, 0.0036419786888231744), (4697, 0.0), (4698, 0.0), (4699, 0.003136581241722337), (4700, 0.02344731409210124), (4701, 0.014578109070552795), (4702, 0.009597689330767675), (4703, 0.028690183964086957), (4704, 0.003797769054908102), (4705, 0.003974625173824718), (4706, 0.003088508979980167), (4707, 0.0), (4708, 0.0), (4709, 0.012847222187772475), (4710, 0.0035139369939872606), (4711, 0.0), (4712, 0.002504296879834558), (4713, 0.020705525954660294), (4714, 0.019825479461927857), (4715, 0.0027871340598371016), (4716, 0.00979587588384269), (4717, 0.0032825328739088376), (4718, 0.0031178168491148442), (4719, 0.03772420915966967), (4720, 0.0), (4721, 0.017368307405942175), (4722, 0.0235070233584179), (4723, 0.021869083194703737), (4724, 0.003426876406912931), (4725, 0.0), (4726, 0.005872428907144386), (4727, 0.04249248927440481), (4728, 0.009554492964532684), (4729, 0.0026703006354912256), (4730, 0.020628474882851053), (4731, 0.003147502981939819), (4732, 0.007859106050576777), (4733, 0.04792836087496151), (4734, 0.0030042816420962387), (4735, 0.003289617452750137), (4736, 0.0), (4737, 0.0), (4738, 0.00719696466194193), (4739, 0.02035170456569133), (4740, 0.018116902025261516), (4741, 0.0), (4742, 0.0), (4743, 0.0027124649939324844), (4744, 0.0022535880616841608), (4745, 0.0), (4746, 0.0), (4747, 0.010877660171142044), (4748, 0.012476347223771497), (4749, 0.0037308082360213465), (4750, 0.0), (4751, 0.0), (4752, 0.026803004803563076), (4753, 0.01908248930112278), (4754, 0.0), (4755, 0.028001090828178518), (4756, 0.0028854964398299142), (4757, 0.0029193665979170324), (4758, 0.0), (4759, 0.0)]\n"
          ]
        }
      ]
    },
    {
      "cell_type": "code",
      "source": [
        "len(recommendation_score)"
      ],
      "metadata": {
        "colab": {
          "base_uri": "https://localhost:8080/"
        },
        "id": "kUoGRrWCUn6Z",
        "outputId": "7a41ee98-5cf6-4af5-d7d5-3c807df691be"
      },
      "execution_count": 48,
      "outputs": [
        {
          "output_type": "execute_result",
          "data": {
            "text/plain": [
              "4760"
            ]
          },
          "metadata": {},
          "execution_count": 48
        }
      ]
    },
    {
      "cell_type": "markdown",
      "source": [
        "# Get all Movies Sort Based on recommendation Score with respect to Favourite movie"
      ],
      "metadata": {
        "id": "UCi3ffPqUwwS"
      }
    },
    {
      "cell_type": "code",
      "source": [
        "Sorted_Similar_Movies = sorted(recommendation_score, key = lambda x:x[1], reverse = True)\n",
        "print(Sorted_Similar_Movies)"
      ],
      "metadata": {
        "colab": {
          "base_uri": "https://localhost:8080/"
        },
        "id": "NqkodGswUsIh",
        "outputId": "d69378e9-7596-421a-d732-b59d8c932888"
      },
      "execution_count": 49,
      "outputs": [
        {
          "output_type": "stream",
          "name": "stdout",
          "text": [
            "[(3784, 0.9999999999999996), (799, 0.1705833798488727), (4465, 0.16702986648051638), (4282, 0.14491187145555143), (2342, 0.1401449067727467), (3781, 0.1342550592271064), (2959, 0.13145214107413394), (1413, 0.12563763127873026), (2638, 0.12488960602934907), (4551, 0.11857521057343594), (4119, 0.1159946518705695), (4629, 0.11304148059807652), (894, 0.1017532305470213), (4176, 0.10170862378240456), (528, 0.10025814626115806), (3460, 0.09764337923814362), (4123, 0.09655721889505686), (2792, 0.09549550790965056), (8, 0.09354659719720244), (4122, 0.09277910184354103), (2129, 0.09107853582020294), (3569, 0.09104094672224405), (346, 0.09045789017547734), (936, 0.08746776775000809), (4640, 0.08575849080914481), (43, 0.0856723394357578), (551, 0.08482876185491087), (4605, 0.08475680956217915), (4218, 0.08458020600201466), (101, 0.08205343684491717), (3951, 0.08058946057563081), (804, 0.08052824754513688), (4137, 0.07991057087364442), (4685, 0.07618385081110945), (3689, 0.07431582712086635), (2352, 0.0741417855634853), (410, 0.07409575648954203), (547, 0.0723413800743459), (4101, 0.07115384770406002), (4658, 0.07065461081550112), (4106, 0.07024737889582654), (597, 0.07017417066780449), (949, 0.07016257649570458), (4633, 0.07010397970124964), (1033, 0.06976799342415635), (3496, 0.06876427719442665), (2826, 0.06864797575179682), (1004, 0.06816230296158014), (3046, 0.0677408664600627), (3564, 0.06677561080447778), (1398, 0.0664951182746131), (748, 0.06433853951519035), (1531, 0.06418884862602246), (4283, 0.06306369181239417), (2169, 0.062266843579989156), (2552, 0.0621896714871205), (3415, 0.062074049126765), (1514, 0.06186939005869826), (3469, 0.06139439363714278), (907, 0.06117027024548592), (2575, 0.061148131115488634), (282, 0.06097996377682081), (3745, 0.060918812916763806), (275, 0.06074487467555053), (2136, 0.06063357646481718), (1787, 0.059784673440459055), (1275, 0.05975418472835729), (470, 0.059562802839752516), (3571, 0.05936055096935592), (4070, 0.059259006440209205), (1725, 0.05907082021953176), (4563, 0.05890196781909106), (108, 0.05882353686408942), (969, 0.05862940920804762), (3778, 0.058388744118488475), (2107, 0.058372892891709265), (4406, 0.057988074199563124), (3360, 0.057722351537247106), (3435, 0.05704263707610189), (2636, 0.05703490608383821), (3605, 0.05670082654184267), (3393, 0.05649576680702281), (4669, 0.05640259788117019), (2714, 0.05627906604530944), (2649, 0.05592544136209713), (3320, 0.05563332219156433), (4624, 0.055458140758869366), (2448, 0.055288265079759244), (2988, 0.05496369953791936), (3240, 0.05483078811837046), (3643, 0.05481856384660736), (2944, 0.05445226649444422), (262, 0.05440346050478562), (2577, 0.05417844132755294), (2039, 0.054154924338504246), (3230, 0.05398448238026928), (4089, 0.05392142237325416), (4113, 0.05391294872367999), (280, 0.053819668952092156), (4155, 0.053701928004246696), (3710, 0.05357781417843951), (4459, 0.0534954224358894), (4591, 0.05342359992849782), (371, 0.053326499419241634), (1471, 0.05323724710316447), (1071, 0.05318494489890172), (334, 0.05311697595197715), (2245, 0.052951317311583986), (1807, 0.05292890198736527), (2853, 0.05291052223454856), (4000, 0.0527459522352311), (3857, 0.05193669031037375), (269, 0.05145313676661613), (2481, 0.05093278410361907), (3718, 0.050835733771732665), (2540, 0.05068174965722241), (3080, 0.050556376130746664), (3763, 0.049892968518498323), (519, 0.04986403500925304), (4649, 0.04955542124439895), (1403, 0.049364779611518195), (2559, 0.049182705563943115), (890, 0.04909679068092483), (3518, 0.04893853856219733), (3829, 0.048888469367991017), (4507, 0.04862646122815492), (2980, 0.0485814135105281), (1313, 0.048555242399571555), (4733, 0.04792836087496151), (973, 0.04772697358607932), (660, 0.04766141907823715), (2309, 0.04731872273033773), (4303, 0.04712517460480731), (2386, 0.046821410207109254), (4203, 0.04673776863697313), (2176, 0.04673437536624406), (324, 0.04662078180947275), (4602, 0.04644838386434644), (105, 0.04637549305637338), (4322, 0.046143914577449124), (934, 0.046106335917561206), (635, 0.04607398506394431), (1241, 0.04587101208674988), (3557, 0.04585461080036641), (4117, 0.04582255396985056), (2052, 0.04572907491510544), (284, 0.04558802082891958), (1048, 0.04547558362579278), (3591, 0.04527177487144226), (98, 0.04519623791503308), (624, 0.04506992537036122), (3067, 0.045029496019054), (3256, 0.044846841316095815), (1701, 0.044778208713165665), (609, 0.04443715731402097), (4354, 0.044286892355082444), (982, 0.044136878917036444), (4340, 0.04378515656214514), (2294, 0.043739510224471034), (1788, 0.04372894272196695), (2020, 0.04365688835595279), (2550, 0.043621921039267486), (2487, 0.04347474252326049), (1138, 0.04345090485998723), (2769, 0.04337550606477547), (4533, 0.04332752185922742), (2804, 0.04324514734816805), (4058, 0.0430785861596727), (4501, 0.04277147837997412), (2247, 0.04271661331967444), (948, 0.0425350169989955), (4727, 0.04249248927440481), (3960, 0.04242076545636042), (266, 0.04236580617217614), (1206, 0.04212141705998858), (4342, 0.04205737310585488), (4510, 0.04198369149296646), (329, 0.041806013320695466), (4571, 0.04161117640940694), (1764, 0.04151396895478069), (2226, 0.041396142620586836), (895, 0.04137692360285142), (4628, 0.0411521218928313), (1526, 0.04099326334156092), (4382, 0.040936421528739116), (3152, 0.040755379053830094), (4400, 0.040590589872095455), (3875, 0.04058303180213377), (1612, 0.04046203271937545), (4431, 0.04040407668988799), (4223, 0.040082233867254645), (828, 0.03999161979117765), (3656, 0.03997506481118894), (502, 0.03993540236001866), (4008, 0.03992671662053447), (1401, 0.03992248827270952), (3294, 0.039921303796420754), (2970, 0.039878851717038775), (3941, 0.039672260811965336), (127, 0.03967163197919811), (574, 0.03954610314823212), (1500, 0.039477303737345606), (1746, 0.03916672824160347), (1259, 0.03896626657235831), (3222, 0.038940393613040164), (496, 0.03889982639693217), (1089, 0.03888335062916087), (1099, 0.03876323754529292), (4097, 0.038730288394225716), (537, 0.038666174942038896), (2868, 0.03861585826181007), (1425, 0.038428495470108064), (29, 0.038397020538975195), (330, 0.03837479366745248), (566, 0.038225998239302186), (1766, 0.0382184172732143), (3299, 0.03806177918640155), (1414, 0.03804911762993263), (407, 0.0378355489864845), (4719, 0.03772420915966967), (757, 0.037666668097933315), (1678, 0.03759639729646447), (2614, 0.03759244340162768), (3205, 0.037527771189316675), (3612, 0.03743264268573036), (2114, 0.03738522539868891), (4163, 0.03725781636131515), (1299, 0.03712610828605652), (1306, 0.03691258053975874), (3027, 0.036882562604353825), (3327, 0.036763923971701216), (2375, 0.036729210876914206), (876, 0.036680348519240825), (4150, 0.03667516250435579), (2844, 0.036654102103237135), (794, 0.03661220165248019), (1220, 0.0366038172685159), (1494, 0.03660181249953618), (2011, 0.03654759271698868), (3399, 0.03640250620004261), (2000, 0.036309019910889466), (2878, 0.036301366809198404), (1059, 0.03619126327922688), (2798, 0.03607875968829333), (302, 0.036050573380106615), (988, 0.03602239482610891), (3316, 0.03602227644348318), (1121, 0.035950415531605856), (4061, 0.03577177554066713), (1498, 0.035727085449838526), (3657, 0.035725845155105865), (706, 0.03562881717228064), (688, 0.035599190588781325), (196, 0.03555886163989591), (752, 0.03554685725191177), (2221, 0.03552263193803563), (4164, 0.03544098921287631), (2895, 0.03536864277904477), (162, 0.03534452942439847), (2829, 0.03530407718977969), (3087, 0.03521137910455254), (1116, 0.035082187738790335), (1130, 0.03497960109879768), (499, 0.034972444327666975), (2474, 0.034957091219201195), (1396, 0.03489571023471386), (3221, 0.03488925519341952), (3086, 0.03471535683798287), (3456, 0.034706825086090354), (3536, 0.034561270358182204), (523, 0.03442596639799541), (4460, 0.034392020342565346), (2175, 0.03432792353406139), (4521, 0.03412296515185255), (4489, 0.0340831207090137), (3190, 0.03401645716865811), (1043, 0.0339898135511271), (826, 0.03395854363563908), (3681, 0.03394184447995853), (747, 0.03382679960858475), (1811, 0.03377794524705654), (931, 0.03375816779263061), (1707, 0.03374161081567718), (1896, 0.0336965849494155), (4143, 0.033635074129476875), (4335, 0.03343728831498116), (1087, 0.03333226370397081), (4255, 0.033287943638199084), (4200, 0.03318866702724486), (2712, 0.0331835595054079), (3919, 0.03316155193620887), (4470, 0.0331317748868525), (2144, 0.033122719343071254), (1118, 0.033083137095446094), (2656, 0.033039468935734395), (3239, 0.03301528918548003), (3140, 0.032955799145046996), (2339, 0.0328722585812789), (652, 0.03287009023641272), (2087, 0.032654715612233015), (420, 0.03262539064872619), (4031, 0.03253542182681272), (4677, 0.032480738213043696), (1714, 0.032478649055204374), (1335, 0.03245587935018609), (2771, 0.03236863866412646), (2513, 0.03234721747273021), (2634, 0.03231491855907342), (2062, 0.03230997217507244), (4387, 0.03229506510032007), (166, 0.032289432958539324), (3022, 0.03228861813136452), (2942, 0.03224441900019179), (3604, 0.032243232147035374), (2695, 0.03217553961882642), (3209, 0.031982364110533165), (3797, 0.03196240494925798), (4009, 0.03186170617870195), (2996, 0.031857025601711046), (374, 0.03185504004752635), (35, 0.03177122689851159), (1216, 0.03170168774587541), (228, 0.03169062574137357), (3202, 0.0315972589129265), (3245, 0.03159606796921613), (400, 0.03154902113875021), (4363, 0.03148626711473916), (1479, 0.03147239074420345), (2316, 0.031443742735530314), (2478, 0.03138327893209551), (1553, 0.031356593551389984), (721, 0.031323607309083734), (2956, 0.03123922611644754), (2463, 0.03118193874222405), (3957, 0.031166853272241644), (4256, 0.031152149738758985), (2299, 0.031147132030537684), (4384, 0.03109290007258478), (2582, 0.031066287318167848), (1818, 0.031033925079582997), (4511, 0.03093599080553649), (4023, 0.030925022227820537), (342, 0.030895077651852235), (1700, 0.03074269262058795), (538, 0.03069148412828448), (968, 0.03068869792291483), (2886, 0.03065944124230742), (1969, 0.03065350531189508), (428, 0.030640140594409247), (2494, 0.03057685205113598), (3036, 0.03055295026212196), (4052, 0.03052646354757441), (3849, 0.03049037737680109), (2969, 0.030448837641321783), (2818, 0.030447175414936845), (102, 0.030407084003233498), (2301, 0.03039862840846062), (631, 0.030344072159277348), (3244, 0.030335503278312803), (2103, 0.030286415237088353), (2246, 0.030283648785208575), (207, 0.030235450121816866), (4682, 0.030233364950671415), (1273, 0.030230002048951234), (2977, 0.030217676223777433), (1223, 0.030178946846065393), (850, 0.030044438547926332), (2027, 0.029958483674789295), (1107, 0.029899487705859318), (4695, 0.02984987321764189), (3246, 0.029817909925590386), (3644, 0.02980966336686188), (4388, 0.029763460962817918), (1136, 0.029752676447145087), (2143, 0.029737957655981213), (2455, 0.029709240406263923), (4496, 0.02966256261611775), (980, 0.029657095754317332), (1428, 0.029643751352510163), (1710, 0.02946316563062261), (3924, 0.029391429641889014), (615, 0.02933999143091559), (590, 0.02927536323051112), (2347, 0.029270778715474816), (750, 0.029233828524947134), (713, 0.029183207332287527), (546, 0.029150602333310103), (2492, 0.029129066453597075), (2920, 0.029062509960008635), (1100, 0.029059436823869314), (2412, 0.028978293374462772), (1127, 0.028893471019364247), (3814, 0.028874420436886546), (403, 0.028765286827789813), (691, 0.028715413222677757), (131, 0.028695810682607674), (4703, 0.028690183964086957), (669, 0.028618816894982014), (1846, 0.028597194731095076), (1316, 0.028576863333053128), (3795, 0.028482998093327695), (2139, 0.028475782403997014), (3284, 0.028444654275322286), (4590, 0.028442478804796847), (4548, 0.02844146610489678), (3869, 0.028408374072981357), (2509, 0.028341621342215274), (4099, 0.028316160330154334), (3066, 0.028277435639918698), (79, 0.028272315254020363), (4118, 0.028218894167005952), (1026, 0.02815773147212223), (829, 0.028121246435173573), (3321, 0.028072843575952452), (441, 0.02804492965827038), (1993, 0.028028340023468917), (4344, 0.028026223733869288), (4755, 0.028001090828178518), (1600, 0.02796380945786659), (3751, 0.027894234333946433), (3418, 0.02785154216266828), (1397, 0.027789992481566776), (4635, 0.02778175308293515), (1365, 0.027659278378486446), (2744, 0.027648955377720667), (4403, 0.027637061169935192), (1922, 0.027597085024212792), (791, 0.02754123952114452), (3503, 0.027515744659959776), (4319, 0.02751365939028512), (1689, 0.02745466072102058), (735, 0.027442187316883977), (1860, 0.027436092353302882), (3315, 0.02741187900253667), (1828, 0.027407623251280835), (3354, 0.027299583557101353), (3334, 0.0272662919993865), (3143, 0.027264174595462976), (1293, 0.02725450300321331), (2376, 0.027223187413986237), (3661, 0.02720929544727456), (4032, 0.02713747571687472), (3253, 0.02712422130278373), (1591, 0.027108412740988012), (3811, 0.027051212340723756), (2972, 0.027047912273545815), (214, 0.027029053078216167), (82, 0.02692655925779054), (222, 0.026807122128236147), (4752, 0.026803004803563076), (2867, 0.02679143559105084), (553, 0.026776354731302875), (749, 0.02675355392269948), (4404, 0.026716012836069516), (1433, 0.02669618537547557), (4196, 0.026695521140915387), (2161, 0.026689854818319397), (2073, 0.02668855049040914), (1254, 0.026679321741461804), (3903, 0.026638810812566863), (3860, 0.0266162035385112), (1543, 0.026437183379307144), (2863, 0.026433834742577114), (3909, 0.026425752460893775), (4069, 0.0264056320525044), (555, 0.0264048109525276), (952, 0.026355207775879234), (175, 0.026264018731687763), (1733, 0.026209074857149857), (618, 0.026097286358126096), (3821, 0.026084880891762502), (3389, 0.026083601741520888), (2014, 0.02602654210218012), (2555, 0.026014590902634634), (1278, 0.02599918507930333), (2422, 0.02595412042670551), (1897, 0.025951589929573683), (779, 0.025935454651777462), (1120, 0.025867435613759808), (1060, 0.025797137362944325), (2318, 0.02572606677627761), (1604, 0.02569417576272775), (3610, 0.02567939446995928), (1257, 0.02565170268553383), (3816, 0.02563302367365264), (3420, 0.025625443036297834), (3926, 0.025621891200573222), (2669, 0.025609270779334153), (122, 0.025566876575982927), (2911, 0.025521578442322435), (798, 0.025515592316816067), (2898, 0.02550741583430606), (2285, 0.025449630818615697), (2639, 0.025426466561167503), (303, 0.02539949490394136), (541, 0.025329082864057318), (193, 0.02530645916349588), (2418, 0.02528872040562858), (3865, 0.025259308404619353), (4156, 0.025250895429224682), (3954, 0.02517819655398859), (4057, 0.025175554471587477), (1349, 0.025139838355061), (130, 0.02512635666519327), (67, 0.025097407333921802), (4094, 0.025084998035775935), (1402, 0.025065329946426025), (2633, 0.025046407013035264), (2012, 0.025004198865829105), (2708, 0.024990221056023967), (734, 0.024984772327474574), (2601, 0.024961957604225003), (2553, 0.0249440851407985), (3858, 0.024932558381758126), (372, 0.024912497138934637), (2251, 0.02488655347527828), (2461, 0.024857361645580105), (921, 0.024828825751168862), (3403, 0.024819316007761806), (3639, 0.02481592693474165), (4192, 0.024776477116093876), (670, 0.024767002092273754), (3487, 0.024649241738620212), (1073, 0.02463792608047277), (15, 0.02460693108945501), (1496, 0.024589826495001847), (1928, 0.024580581691439174), (1104, 0.02455477955054345), (2276, 0.024547799061421845), (2427, 0.02448909258244173), (4059, 0.0244161555151753), (2563, 0.024407939994563373), (856, 0.024402371956809447), (2672, 0.02436973398652375), (1279, 0.024367875930776082), (1878, 0.024342217197879108), (1606, 0.024325995887592666), (2118, 0.024295176630780367), (1090, 0.024281357001893687), (1215, 0.024275762487171136), (651, 0.02421989444577924), (1849, 0.024135864818518614), (1985, 0.024107252949359198), (864, 0.024107151838524833), (1152, 0.024025906744826468), (1443, 0.02398922745592086), (327, 0.023980313107795352), (970, 0.023930315516028738), (4165, 0.023898476603944514), (1445, 0.023881907303683468), (3147, 0.02386678677600301), (3801, 0.023860520494947315), (2862, 0.023844869129201147), (124, 0.02376973137540417), (792, 0.023733812307945676), (40, 0.023730936298040482), (568, 0.02365330017102163), (2882, 0.023562450478529413), (2037, 0.023546125173191775), (4722, 0.0235070233584179), (1325, 0.023502155764323542), (1246, 0.023488324671491763), (2510, 0.02347305507286593), (3868, 0.023463712592396067), (1698, 0.023454710163475105), (4700, 0.02344731409210124), (3982, 0.023400814050308874), (3933, 0.023308857283851236), (4366, 0.023301512258426457), (1129, 0.023260352348318695), (386, 0.0232274861426046), (132, 0.023216307621743915), (1464, 0.02320542456671743), (1495, 0.023202490850730704), (3578, 0.023199741893189168), (3204, 0.02318086154858443), (4550, 0.023172877279417678), (2643, 0.023132512352467226), (2072, 0.023119833313266256), (1809, 0.023118592193113623), (4582, 0.02311596723097871), (165, 0.02311352038162913), (4149, 0.02310855396036065), (925, 0.02310793010352366), (2617, 0.02308763210766447), (3767, 0.02304461076021628), (4226, 0.023042717488995397), (4013, 0.023038128866081708), (1426, 0.02303528764006299), (507, 0.023025787367989794), (2031, 0.023018231754276825), (2350, 0.02298389938028086), (452, 0.02293931972529891), (2793, 0.022873478163748087), (57, 0.02282613464612236), (3410, 0.022822133602665835), (3362, 0.022810330404861016), (998, 0.022782357173414574), (2870, 0.022686269906433906), (1613, 0.022615462485944912), (2047, 0.022609510389035165), (1702, 0.022598160276673756), (328, 0.02258225959783), (3962, 0.022570741954194187), (1126, 0.022570477901321138), (1465, 0.022568815676035036), (390, 0.02252829856296002), (4257, 0.022474384081854808), (3226, 0.022428514147310973), (742, 0.022425927758517122), (486, 0.022403262928863923), (2403, 0.022396323746470874), (788, 0.022390288962130224), (462, 0.02236715962492185), (1721, 0.022319585243436642), (301, 0.02229597558880798), (1525, 0.0222924749171019), (2941, 0.0222539846220467), (3277, 0.02224183071494451), (1412, 0.022131233670937153), (2629, 0.02211052454843475), (348, 0.022086919537201957), (2278, 0.02205762208900215), (32, 0.02199944872353874), (2936, 0.021997039491562242), (3440, 0.021963382314380872), (1989, 0.021957564332232067), (1841, 0.021922174291452875), (215, 0.021919817005263756), (2414, 0.02191662352399494), (2628, 0.021907475117349622), (3317, 0.021899433238258006), (190, 0.021877725670579804), (4723, 0.021869083194703737), (2203, 0.021867736680511986), (1346, 0.021866586298301037), (1195, 0.02184834999155335), (4486, 0.021847120599461627), (287, 0.021822341829892948), (1510, 0.021812024918969546), (1804, 0.021808365732703262), (2595, 0.02179756499329663), (2803, 0.02178201051736305), (343, 0.021769829458413992), (1297, 0.021760582178042037), (2415, 0.02170385805864691), (2308, 0.021671457214299163), (4132, 0.02163193462897056), (561, 0.021626585674417647), (3028, 0.021561072696109133), (4504, 0.021534360525415006), (800, 0.021513734550954258), (1266, 0.02150361290172184), (2421, 0.02147543812347074), (2949, 0.021472955204596147), (3108, 0.021412589033708112), (3111, 0.02139396562319121), (2821, 0.021334899880988745), (1840, 0.021296666243082227), (3732, 0.02129511705542723), (4604, 0.02127481485477042), (1509, 0.02124839382943329), (63, 0.02123217000125166), (1191, 0.021165901986097958), (1610, 0.021162455110477037), (1007, 0.02115691177069514), (1648, 0.021155710203140332), (2195, 0.02110472144944089), (1742, 0.021096606113266234), (1381, 0.021092758009109487), (1404, 0.021090710037250587), (2378, 0.021049558838913882), (387, 0.021042776229153078), (1354, 0.02103841899113191), (3493, 0.021034457360111072), (435, 0.021013836289251978), (38, 0.021005434661299702), (506, 0.021001061826312593), (1711, 0.020986020658250996), (1919, 0.020976311116126238), (1748, 0.020941262255122384), (2661, 0.020909483448273383), (2005, 0.02090755256268359), (2837, 0.020861932794588717), (1547, 0.02083210192317013), (2727, 0.02082810214222701), (1417, 0.020824747646555637), (4205, 0.020773024751649972), (2036, 0.020760569975095514), (2518, 0.02074985880298149), (1696, 0.020744792578076328), (4713, 0.020705525954660294), (2910, 0.020703830971897593), (1249, 0.020678915829821155), (657, 0.02065256907219014), (2145, 0.020650241352486904), (2368, 0.020639400232567124), (4730, 0.020628474882851053), (2565, 0.02061347268060434), (2761, 0.02056983001106629), (250, 0.02056768875413983), (2482, 0.02056606690068499), (1054, 0.02053057662243676), (3882, 0.02049959296989118), (4596, 0.020493269396525328), (3, 0.020445299512736055), (1420, 0.02039354468909555), (2459, 0.020369181376444945), (2887, 0.020363287623337133), (4739, 0.02035170456569133), (482, 0.020282426427111762), (1682, 0.020275387910664487), (4518, 0.02027022015073616), (3206, 0.02024760119319893), (4523, 0.020242309296464454), (2192, 0.02023854403047113), (3063, 0.020213398718062034), (854, 0.020194609201673888), (1845, 0.020174943804616235), (762, 0.020153975283802784), (419, 0.020144762184901303), (4287, 0.020123012722922627), (4346, 0.02009037621575315), (1002, 0.020087557016990436), (2974, 0.02008158008611426), (722, 0.020048174303440303), (221, 0.020045153303403864), (596, 0.020040807408970348), (3023, 0.020015374005389983), (1808, 0.02001004716526554), (394, 0.020003401402442438), (2239, 0.01997419685254196), (2028, 0.01994706846873966), (2202, 0.0199299946843627), (899, 0.019916715249007486), (1524, 0.019912841024137762), (1114, 0.019900468771584977), (1794, 0.01989496287896168), (1802, 0.019870017562791754), (1049, 0.01984382163051604), (3395, 0.019843373094413516), (3759, 0.019826084040216914), (4714, 0.019825479461927857), (2654, 0.019815015776665952), (3308, 0.019812258425632518), (2935, 0.019811174708099025), (544, 0.019765911862586957), (857, 0.01975158849794105), (2267, 0.019744839829816903), (1580, 0.01973693087176927), (1192, 0.019730050098149675), (957, 0.019728824361985885), (3473, 0.019668488273533152), (4312, 0.019664255497314063), (2738, 0.019657250874850762), (2406, 0.01965724728227919), (2992, 0.01965279463799137), (184, 0.019647515655494233), (582, 0.01961731052383852), (1816, 0.01959923670106978), (3995, 0.01959839389023737), (2055, 0.019582062939805796), (97, 0.019580236878089716), (3114, 0.019557067020909265), (4025, 0.01953644395496518), (1957, 0.019533986992412784), (3749, 0.019502091271812717), (3044, 0.019496950084397273), (3724, 0.01948941586759108), (1843, 0.019486224334921826), (3064, 0.01946252138105306), (4613, 0.019457860799142003), (4320, 0.019428351101183138), (2814, 0.019426575425893274), (2467, 0.01938940897180491), (3963, 0.019385757341005), (263, 0.01937781460447921), (2668, 0.019376016294873906), (1025, 0.0193753172018151), (1782, 0.01935364477355895), (3450, 0.019345639358816582), (2987, 0.019319861311614506), (1391, 0.019319370998983856), (4241, 0.019316972677658004), (1260, 0.019316786503393305), (4024, 0.01931546194573339), (2381, 0.01930708884005478), (4670, 0.01925076248140569), (3596, 0.019231099806291188), (1101, 0.019214080305318296), (1688, 0.019202484027341305), (658, 0.019195543263457765), (212, 0.019168174054685624), (2991, 0.019155099031260347), (2660, 0.019150545362244736), (2611, 0.019141629853620508), (1935, 0.019132076584716905), (2560, 0.019117726461067228), (4647, 0.019101056915428197), (4753, 0.01908248930112278), (1173, 0.019074351659266242), (1554, 0.019065862274745493), (125, 0.019063302092672645), (3507, 0.019054120793260455), (1000, 0.01903260684570809), (698, 0.019014069171212743), (3549, 0.01900913508618866), (3590, 0.01899979709524414), (182, 0.01898146474772315), (2361, 0.018972079554804955), (62, 0.018968138111667924), (1948, 0.018964892023830268), (446, 0.018955945266108897), (1352, 0.01895259654673318), (2623, 0.018945217221986863), (2443, 0.01891829855752356), (664, 0.01889364935783988), (4666, 0.018892709525994856), (1017, 0.018887400306233957), (3300, 0.01888589556612577), (3013, 0.018878383450578726), (1570, 0.018810603839454605), (4139, 0.018808870629115314), (683, 0.01880475518696998), (2082, 0.01878624846035276), (2099, 0.018784035335307786), (564, 0.018738639672662837), (2127, 0.018730724730049764), (2083, 0.018718353228299168), (3559, 0.018697020514169688), (319, 0.018686596596750184), (719, 0.0186840639024917), (718, 0.01867501863584416), (729, 0.018661368685875597), (1239, 0.01865500198797634), (1858, 0.018638608026079154), (1069, 0.018630835480592134), (2141, 0.01861720037313825), (3008, 0.018615927784220204), (3943, 0.01861353259192897), (2243, 0.018574429054678324), (3950, 0.018561560566643685), (3390, 0.01855824043610796), (4679, 0.01853508270956073), (4173, 0.018527656778161036), (1703, 0.01850628009968513), (2237, 0.01849978365012343), (2121, 0.018499447221843726), (119, 0.018475216010605748), (1178, 0.018470064211927036), (3276, 0.018464158956572947), (1255, 0.018463254126175527), (4531, 0.018460113872236485), (2995, 0.018460109588372985), (2704, 0.018458254490890585), (2625, 0.01844759986260331), (2499, 0.01841174222193431), (4277, 0.018407752802646282), (2483, 0.018403777576318302), (1926, 0.018400767299881566), (1010, 0.018389494138063688), (2632, 0.018388663935867057), (1946, 0.018379857604288025), (3534, 0.018378846658744123), (39, 0.018377917705725395), (2046, 0.01835764111095221), (1177, 0.018348159529639342), (197, 0.01834777591232647), (661, 0.018322746002389333), (4260, 0.018302838065382885), (4130, 0.01829120752874411), (4576, 0.018290484860776633), (318, 0.018288510470816043), (3631, 0.018269950043728122), (1328, 0.018261238153450956), (593, 0.01824352960765416), (733, 0.018241371328515044), (1389, 0.018235138442120484), (123, 0.018224255769662065), (1493, 0.018149984972841975), (1193, 0.01814581518234191), (86, 0.018126787717204086), (4740, 0.018116902025261516), (4158, 0.018097735507284857), (3893, 0.018078767178264166), (728, 0.018049754306399365), (4579, 0.018038199059096503), (2498, 0.018028534476837346), (3715, 0.018007334055793522), (696, 0.018003631703076096), (3790, 0.017998576365991083), (2067, 0.017993909371127294), (1131, 0.017946063239996823), (2794, 0.017927663810788537), (1469, 0.017927104754859167), (340, 0.017891425688357), (3428, 0.017890441689581784), (4005, 0.017881814584703656), (986, 0.01787271811034421), (1418, 0.017872616662335215), (4269, 0.01786708177456842), (962, 0.01785614628051129), (1324, 0.017851273777983595), (1988, 0.017840226270592625), (4169, 0.017826308410613216), (775, 0.017788261957536303), (493, 0.017768193334363715), (4638, 0.01776769401123566), (245, 0.017762547025704668), (3530, 0.017752044065099396), (1483, 0.01774763883268545), (1886, 0.01773400211188928), (1234, 0.017721189774133183), (3624, 0.017720628410600348), (4520, 0.01770635746987072), (1369, 0.017683853633828347), (1958, 0.017675644373980313), (4228, 0.017670774887794182), (2394, 0.0176336824684051), (3141, 0.017633489163281703), (2568, 0.01761871329793994), (963, 0.017602678441899285), (2946, 0.017602490255156682), (1799, 0.017580126477260656), (2549, 0.01753889287911227), (3379, 0.017535947517194953), (573, 0.01752830658548392), (2457, 0.01752110276659011), (3654, 0.01751834929876776), (2130, 0.017504643461481752), (1611, 0.01750026169418121), (1769, 0.017499299681605577), (3228, 0.0174824373237458), (1650, 0.01746191834599038), (3061, 0.017458285537867577), (3706, 0.01745583190171339), (2631, 0.01745511354266365), (3515, 0.017451357369644836), (4062, 0.017448338274551035), (3051, 0.017447665735215123), (171, 0.017447464395365524), (1513, 0.017432855727759006), (693, 0.01740867326849117), (2405, 0.017405399207595075), (4448, 0.017395704548004175), (2768, 0.017387185014136143), (1477, 0.01736922382418081), (4721, 0.017368307405942175), (1630, 0.017366598021174913), (2270, 0.01736397797556072), (2531, 0.017359797208300963), (2546, 0.017340411819923414), (2858, 0.017337181614282167), (4562, 0.017336166083709522), (2081, 0.017335136500866374), (3517, 0.017327507865374497), (488, 0.017300618368727063), (341, 0.017283027929690605), (3541, 0.017282042170580818), (3199, 0.017278195901401915), (3104, 0.017276264005096745), (1157, 0.017273477423308165), (4675, 0.017251712373805326), (377, 0.017242734830341014), (2048, 0.0172245449411462), (2053, 0.017197225917141748), (2321, 0.017193589480514335), (1117, 0.01718262968887476), (674, 0.017165764042859303), (3121, 0.017165577549124122), (545, 0.017158129112575866), (2234, 0.01714977672722216), (1295, 0.017147069975995417), (1812, 0.017146700887848546), (511, 0.017145570314084035), (2327, 0.017137005921956695), (52, 0.017101960082912475), (50, 0.017101273430483024), (1416, 0.017092452058754155), (2236, 0.017088079489371858), (3350, 0.017083852155316), (684, 0.01706556035217056), (3606, 0.01706300267942298), (4653, 0.01706184646710124), (1757, 0.017058884077010873), (2730, 0.01705052230399061), (2290, 0.017039508229920532), (2931, 0.017034450691276917), (2071, 0.017027229499132226), (2397, 0.01701997306668066), (1123, 0.01699903807437796), (1160, 0.016977126572945585), (3166, 0.016966741475830563), (459, 0.016965085786056152), (3799, 0.016954854027220828), (3303, 0.01695099578799313), (1991, 0.016939084884519253), (832, 0.01693676653460388), (867, 0.016932086804024755), (562, 0.01692694217192179), (409, 0.01692228146693542), (2927, 0.016910901557617843), (2800, 0.01689871121371981), (2157, 0.016898619482388518), (3014, 0.01688523444584536), (2774, 0.016842593583654822), (2284, 0.016825254659965958), (4600, 0.016820798067201433), (4435, 0.01681479895794643), (3502, 0.01679682734196162), (1367, 0.01678264796207419), (1270, 0.016779315749432422), (1945, 0.01677832036920687), (2841, 0.016763196913585705), (4408, 0.016754658786790635), (1994, 0.01675062055698871), (761, 0.016737447079277438), (1288, 0.016723775189319324), (1884, 0.016717833650646247), (4364, 0.016713713178606683), (358, 0.016709176417845438), (4314, 0.016697522377534448), (598, 0.016665133740247317), (368, 0.01665739528619483), (3725, 0.016654317974225178), (4190, 0.0166433179830165), (2404, 0.01663676649608649), (106, 0.016631958639324332), (2250, 0.01662124424238097), (1231, 0.01659387803678095), (2556, 0.016585303066249692), (170, 0.016583404000437313), (2060, 0.016565031553124637), (2975, 0.01654403195181299), (3265, 0.016541622465636927), (4007, 0.016530945385945378), (847, 0.01651954100401284), (4290, 0.016519228332656705), (3913, 0.016512680585941554), (620, 0.016501196171273352), (3764, 0.016499884885597282), (1674, 0.016478952222370988), (2674, 0.016464854687273857), (3499, 0.016440218383942513), (3397, 0.01642565076512445), (4222, 0.016404390365452767), (1111, 0.0164026272276565), (2732, 0.01637004697567322), (2310, 0.016354029763035183), (56, 0.016342533766336487), (3742, 0.016337810000490956), (3377, 0.016329742705313895), (3201, 0.016314116239954178), (437, 0.01630186451362793), (3939, 0.016291148604864164), (2179, 0.0162677900580269), (2876, 0.016267563950503456), (1967, 0.016257533591544308), (737, 0.01624815224538939), (3412, 0.0162455205852744), (1472, 0.01624330347021743), (874, 0.01623965957301448), (2740, 0.01621994395752194), (1030, 0.01619929204280302), (3348, 0.016195419104711308), (3822, 0.016175122144323963), (2670, 0.01616954010145884), (87, 0.016155054868362235), (251, 0.01614034664590672), (2436, 0.01610082690864031), (2608, 0.016098863797389527), (2981, 0.01608655383291125), (4001, 0.016078363178470206), (3409, 0.016066135102751594), (1597, 0.016045709460193104), (3076, 0.01600780952012646), (1027, 0.0160025113653177), (2762, 0.015997086790355615), (1871, 0.015995344232490806), (3344, 0.015992720088407096), (815, 0.015979584502349747), (3762, 0.01593529385298552), (3458, 0.01593338674082414), (3756, 0.015932478055531284), (1506, 0.015926599809659617), (3691, 0.015924092434249856), (2199, 0.015922168721319442), (2112, 0.015899926515150486), (920, 0.015897121863486602), (4152, 0.015892317954109128), (300, 0.01586432193998565), (3558, 0.015861193610911598), (4019, 0.015856184072111694), (4201, 0.01585249683896795), (2357, 0.015842475311597572), (1329, 0.01583969107507465), (144, 0.015824566118142216), (1211, 0.0158221244540671), (234, 0.015819205091512623), (2737, 0.015803003216814538), (1199, 0.015778371551457206), (4171, 0.01576872524453616), (3871, 0.01576698812612209), (3293, 0.015765962205786903), (1775, 0.015762790279009606), (1319, 0.015753147364563756), (92, 0.015740702813270196), (3197, 0.015737619104919238), (2177, 0.01573497307506153), (3365, 0.015734454245230418), (878, 0.01573293991512416), (3129, 0.015724955618501308), (4247, 0.015720754554777422), (1162, 0.01571072589390548), (154, 0.01570842648660198), (2985, 0.01570740919075611), (2066, 0.0156986908050049), (1372, 0.015698411830580364), (465, 0.015684925850570238), (1749, 0.015661154094111323), (632, 0.015650752165954834), (4185, 0.0156490390628194), (2286, 0.015631535025861096), (471, 0.0156280382759753), (2204, 0.015581313546384715), (2332, 0.015567312995277275), (4429, 0.015530005329744695), (4108, 0.015528006161325669), (1641, 0.015518674855522371), (2520, 0.01550537186305242), (1371, 0.01550159872541539), (3120, 0.015493636734859421), (1798, 0.015465091517907738), (2795, 0.015446975898158624), (161, 0.015442674641212167), (4515, 0.015442131519370808), (2833, 0.015435528493943284), (2964, 0.015393941685928902), (2680, 0.015386132766127282), (412, 0.015384685543047269), (121, 0.015380842998303135), (852, 0.015359376966483472), (731, 0.015359330987299122), (3218, 0.015357995772443636), (1619, 0.015352009491595053), (2743, 0.015335115845589298), (4141, 0.015318184360095698), (3444, 0.015296861580266236), (4186, 0.015285134892711955), (1951, 0.015284159373502148), (2110, 0.015278346795769965), (4692, 0.015268422467337513), (3363, 0.015254811265385887), (759, 0.015236686738491313), (252, 0.015218143921410267), (3264, 0.015211108485756106), (2604, 0.015186803572183615), (2557, 0.015170029232794178), (3427, 0.015163469923547657), (626, 0.015157890076304647), (267, 0.01515766992446004), (4338, 0.015157362808288319), (763, 0.015153524509859333), (2035, 0.01515251250863126), (808, 0.015145957363315404), (3159, 0.01513849880006676), (4154, 0.01512192657206723), (1307, 0.015105291702954736), (2160, 0.015104112356802972), (4107, 0.015103499466737405), (231, 0.0151006954608776), (2857, 0.015098584631245004), (4636, 0.015083563677885246), (2599, 0.015082745246889788), (3318, 0.015082662286571239), (2640, 0.015072888523135678), (3004, 0.015065635993032338), (146, 0.015052831421092162), (1006, 0.015050329838566027), (707, 0.015044254571933046), (317, 0.015043579627374796), (3599, 0.015041375576161357), (2451, 0.01498789007311771), (917, 0.014979339647151962), (309, 0.014977898537265291), (3340, 0.014974624055558067), (3154, 0.014970857676278676), (2588, 0.01494749755491238), (935, 0.014934691201605106), (4347, 0.014933207341761576), (2188, 0.01492773574438983), (1209, 0.014905163036784068), (75, 0.014868323676198471), (2485, 0.014858551632250135), (472, 0.014830761769741425), (1251, 0.014808688120444693), (2817, 0.014797394129131829), (3024, 0.01479615180427583), (814, 0.01479274801848076), (2398, 0.014746587616110756), (159, 0.014738322378348299), (4189, 0.014735470841172223), (605, 0.014725394118321638), (1077, 0.014717102910789023), (2045, 0.014640259911640217), (1859, 0.014632922437542021), (353, 0.014630856178184163), (1675, 0.01462753856794528), (654, 0.014626161702836237), (1578, 0.014615846373608288), (2217, 0.014609194194998964), (2277, 0.014602928515811284), (2380, 0.014596798026486033), (3386, 0.014596542348694074), (2790, 0.014590783356186462), (4701, 0.014578109070552795), (3310, 0.014558020451037114), (3424, 0.014546249438088316), (516, 0.014546175460046851), (2193, 0.014536793036781761), (209, 0.014536246354858775), (2109, 0.01452139516324779), (1222, 0.01451676917699225), (897, 0.014515307316963343), (1881, 0.014514738324042273), (104, 0.014496693581454476), (3229, 0.01449328183513432), (3825, 0.014492380294543937), (2772, 0.014489309235566131), (2058, 0.014485014291999478), (928, 0.014481621108056425), (4055, 0.01447766281172725), (2519, 0.014394517802467506), (4652, 0.01439376271093588), (1005, 0.01439365768569752), (4145, 0.01436820500771055), (3930, 0.014366811137592295), (3191, 0.014366668276624231), (1095, 0.014344637899084398), (906, 0.01434030122970588), (2222, 0.014333879109894613), (1885, 0.014331808713653405), (689, 0.014326737034666064), (3463, 0.01431521783602871), (1961, 0.014296098557453969), (1435, 0.014267105530164524), (3991, 0.01424619248709736), (4110, 0.014245788637954828), (432, 0.014236721777189081), (3884, 0.01423129826470202), (3237, 0.014228667976981756), (4095, 0.014202244606912), (1386, 0.014187471969925102), (3508, 0.014171804736414011), (2074, 0.014170351973030728), (443, 0.014147548196503976), (1586, 0.014142585152821213), (4214, 0.01413521641823819), (3520, 0.014126998689261401), (2010, 0.014125126033756881), (277, 0.01410941458950191), (870, 0.014086207977683656), (249, 0.014081579986451811), (3447, 0.014076713929268226), (2120, 0.014076646432524629), (4369, 0.0140722518000464), (4300, 0.014064079585504567), (1801, 0.01405420027560774), (433, 0.014053484396377864), (3494, 0.014044569418862526), (2698, 0.014035569842277542), (3301, 0.014006524410830555), (1577, 0.013998381196307835), (292, 0.01397668029278874), (653, 0.013970122739186422), (881, 0.013964234122871127), (643, 0.013959556874300302), (2808, 0.013958904722107845), (2767, 0.01395445733364379), (1184, 0.01395422423105023), (1455, 0.013938042182267312), (3137, 0.013932809734661012), (4439, 0.013884122641482024), (4524, 0.013873429125935909), (692, 0.013873092672036114), (3328, 0.013857403985853188), (3826, 0.013849324251270386), (3955, 0.013848558777493778), (3043, 0.013846721841280588), (2657, 0.013844748009463467), (782, 0.013823493815854775), (1446, 0.013805012284719925), (3504, 0.013798149562587706), (764, 0.01379418905271742), (3270, 0.013787005045490849), (607, 0.013782594860203662), (2847, 0.013777979335348947), (3161, 0.013766841888849086), (1253, 0.013760250579552335), (844, 0.013753582234466042), (1654, 0.01374575679277127), (356, 0.013741011333918137), (3151, 0.013722497565455401), (2903, 0.013716958434217837), (1937, 0.013707409749321149), (2706, 0.013695498772260591), (1499, 0.013692414619237765), (4535, 0.013690510666467228), (927, 0.013688378006350645), (1097, 0.013685782923671487), (177, 0.013683481742711234), (2134, 0.013681597347130979), (1376, 0.013674036451987517), (4401, 0.01366603514793776), (2859, 0.013657679267863501), (244, 0.013651734662608798), (4051, 0.01364621651914196), (3752, 0.013636400695860867), (288, 0.013631427787423288), (3384, 0.013629711905503387), (2782, 0.01361583215378609), (4589, 0.013613687067607065), (966, 0.01360157407296312), (3585, 0.013601262652253105), (527, 0.013601139868300565), (2677, 0.013596687170663242), (3003, 0.013587798093213522), (2303, 0.0135865562833677), (2812, 0.013576281761101216), (2917, 0.013532288901530201), (3407, 0.013524047689150408), (2320, 0.013521384705072425), (1793, 0.01350201001597961), (2178, 0.013498091539628665), (1754, 0.01347426435524114), (953, 0.013474251201754182), (648, 0.013458053043601837), (790, 0.013450264943070226), (3156, 0.013440767769528305), (2390, 0.013408962079620411), (4267, 0.013355615812001261), (1243, 0.01334134791176141), (4133, 0.013337248808333806), (2777, 0.013329551392872964), (3105, 0.013325562712713047), (2620, 0.01331627151799559), (2097, 0.013310464218612518), (3574, 0.013299752917926556), (2507, 0.013287222380505075), (3642, 0.01326386769278508), (243, 0.013257812016011766), (4015, 0.013245174128739844), (1218, 0.013238606272806878), (3009, 0.01323471052568618), (1875, 0.013228781685328607), (819, 0.013226828343827183), (3704, 0.01321816636126524), (2665, 0.013216976248153899), (1308, 0.013216707134590546), (2873, 0.013204309257169308), (3465, 0.013181154520161394), (1274, 0.013178989882692536), (1341, 0.01317405357354718), (1738, 0.013174028230824256), (45, 0.01317051264828537), (1848, 0.01316725031300043), (3039, 0.013155661017053911), (3667, 0.013139185760335606), (1637, 0.013120413184118095), (4012, 0.01309715810778386), (1683, 0.013088971566374192), (1756, 0.013086315961035926), (3904, 0.013083034689152045), (4680, 0.013078008278272955), (3007, 0.01306718868076897), (813, 0.013063347799860826), (4239, 0.013058056908858827), (3193, 0.013035931588669341), (4175, 0.013024434645207115), (1594, 0.013022420649100452), (3414, 0.013019750138008022), (1899, 0.013009480193595494), (995, 0.013006306354563058), (1339, 0.013001244061433902), (1310, 0.012997149812046836), (206, 0.012975118979627694), (68, 0.012972287801042797), (2682, 0.012947314966244086), (4286, 0.01293216411842827), (1918, 0.012920035538481173), (1453, 0.012914915114576889), (1109, 0.01289715505531605), (2385, 0.012882996119738886), (454, 0.0128793445620281), (4474, 0.01287893754411676), (296, 0.01287636302378347), (1670, 0.012873928849782834), (1210, 0.012872326270728216), (1870, 0.012870837078781318), (830, 0.012857829120725523), (840, 0.012853989833307438), (1762, 0.012851402656546971), (4709, 0.012847222187772475), (2152, 0.012846074059894252), (1539, 0.01284543438645747), (2445, 0.01284411297377271), (1821, 0.012835488937798156), (4077, 0.012810000174023357), (477, 0.01280374119616846), (1486, 0.012803329321839097), (20, 0.012793873960328078), (2013, 0.012788839816323437), (2587, 0.012784061255567272), (2154, 0.012783587354337074), (3677, 0.012767221894723485), (1242, 0.01276616134280623), (2561, 0.01276099585144876), (4115, 0.012753125581247022), (94, 0.012743797240356992), (1281, 0.012737080630968508), (1583, 0.012736850785608683), (2022, 0.01272983207149451), (34, 0.012727870359052566), (3234, 0.012713413257183897), (2650, 0.012708344621714336), (2319, 0.012706768061364436), (2033, 0.012693596206216077), (2148, 0.012678027084888653), (637, 0.012666405108149105), (776, 0.012665878990889971), (4422, 0.01264015182787389), (1997, 0.012636760936081765), (2306, 0.012626875428685284), (924, 0.012548081703934033), (1106, 0.012542523546939707), (3655, 0.012536934404882715), (4436, 0.012536266643128843), (71, 0.012530912088669218), (232, 0.01251719704457304), (3699, 0.012493346896444574), (2770, 0.012492010370337295), (4198, 0.012480253714470936), (1579, 0.012479651296175554), (4748, 0.012476347223771497), (3736, 0.01246831708330552), (2514, 0.01246756359302199), (4351, 0.012467457413977732), (3707, 0.012449035231298896), (1709, 0.01244638013788614), (4237, 0.012423846982362076), (3457, 0.012394236653452888), (1476, 0.012392301181162682), (74, 0.012370068454995298), (4391, 0.012361274558090083), (2688, 0.012354601716249414), (1384, 0.012350895772128981), (497, 0.012349206182890775), (930, 0.012345360983587654), (3210, 0.012337923380681053), (3227, 0.012333010424975857), (628, 0.012332219274855578), (60, 0.012323069672652346), (2070, 0.012321901283902446), (4081, 0.012299345045487488), (3579, 0.012296456396808894), (91, 0.01228547268799407), (2064, 0.012265147167370413), (1743, 0.012262025452974211), (2584, 0.012241878545973606), (2933, 0.012233846711001146), (600, 0.012233125541212371), (2495, 0.012230563928005962), (4532, 0.01221561334431965), (1163, 0.012210086949898103), (2387, 0.012205046270250021), (4016, 0.012197969516513687), (4040, 0.012196362156361645), (1718, 0.012185985372493501), (756, 0.012185799778263659), (1112, 0.012182737747872317), (4268, 0.012182245106947865), (402, 0.012166459955479807), (1982, 0.012160712293400367), (1312, 0.01215697845471667), (1655, 0.012140100652800861), (1584, 0.012124839593778637), (37, 0.012120056728022839), (490, 0.012112150797792662), (1019, 0.012108557929971694), (2603, 0.01209907762283252), (2691, 0.01209527403814745), (858, 0.012076836572036533), (2211, 0.01207078602365965), (3684, 0.012043485516625468), (4426, 0.012040972747635768), (2816, 0.01202919059451955), (3648, 0.012028969623695086), (1110, 0.01202292285688544), (2043, 0.012022709732280002), (4467, 0.012008868062542834), (4020, 0.011999799269905066), (3927, 0.011990607436452862), (1084, 0.011985417655491902), (1850, 0.011969511851681837), (137, 0.011969377969592705), (778, 0.011964343042236352), (3144, 0.011951473708423708), (4047, 0.011946369872967823), (25, 0.0119164211358644), (1571, 0.011910142843744547), (803, 0.011866310436477045), (4554, 0.011863445631447308), (1250, 0.011849331536799481), (1639, 0.011813801409227807), (2430, 0.01180062189628646), (4210, 0.011792095178972822), (926, 0.011782302717095433), (83, 0.011781034723305545), (2061, 0.011780532197695384), (923, 0.011779346995618728), (2622, 0.011773629427080046), (1950, 0.011766854175698544), (1461, 0.011755869808614674), (3592, 0.011751136291754206), (3524, 0.01174224892858036), (4199, 0.011725447383210946), (2869, 0.011713360895574855), (2024, 0.011712965034998524), (914, 0.011702716749053191), (156, 0.011702610413517625), (1515, 0.01170153926404635), (1908, 0.011687572231784902), (2417, 0.011685327467059088), (2627, 0.011678457637528285), (3094, 0.011677649933038868), (1728, 0.011669492498671987), (1780, 0.011667941774610679), (2296, 0.011657334251246383), (2198, 0.011647936906943263), (3171, 0.01163525990327448), (1304, 0.0116349362744783), (984, 0.011634812595788229), (1374, 0.011634190617748626), (2068, 0.011622924798071466), (1377, 0.01162067688062297), (3033, 0.01161919839840084), (2965, 0.011619170708946492), (4206, 0.01161865016334513), (1501, 0.011611069918979065), (2524, 0.011603827347075078), (4345, 0.011602258887298314), (1262, 0.011594798730879942), (1925, 0.01159001915077324), (1981, 0.011589028491116628), (3594, 0.011579857682749172), (1238, 0.011546535398461476), (3484, 0.011540697796680875), (0, 0.011535196763481036), (7, 0.011534474104438676), (2503, 0.011528402449156618), (2480, 0.011525865270947466), (2348, 0.011521209720578957), (787, 0.01151856057705129), (336, 0.011511815170822684), (1692, 0.011502849138376691), (1986, 0.011497602298608375), (1144, 0.011485226077636006), (1666, 0.011469875348913973), (1296, 0.011469633279475287), (903, 0.011465553240703655), (1852, 0.011464544303706053), (1258, 0.011434022123061136), (727, 0.011427306380122054), (1551, 0.011426283755533095), (3423, 0.011419581126942547), (751, 0.011405458967964546), (3203, 0.011383006904813772), (2534, 0.01137899965530819), (2102, 0.011370652861261503), (2051, 0.011339106255088957), (1760, 0.011308945709803042), (3765, 0.011298229247731283), (4483, 0.011274939428142691), (2253, 0.011263709509584769), (1814, 0.01126232013696148), (3890, 0.011252590556119619), (604, 0.011249334090600778), (1146, 0.011240988896884425), (723, 0.011239320097180637), (1267, 0.011238642770726424), (4217, 0.011228786640047655), (2364, 0.01122009405903069), (1023, 0.011218423913877059), (3696, 0.011216734362381863), (3010, 0.011215844466489641), (2056, 0.011203051361651544), (3998, 0.011200350701460195), (4564, 0.011194016819561042), (521, 0.011193314136757105), (863, 0.01118074100989538), (1065, 0.011179668211905441), (4620, 0.011175876378882838), (4359, 0.011167126503809337), (853, 0.011138194121284832), (2367, 0.011133578173165664), (2209, 0.011110885101252396), (3157, 0.011108485682281836), (3122, 0.011095690634194726), (1001, 0.011085305073119157), (2505, 0.011083695050905396), (2765, 0.0110557955883966), (1658, 0.011049421182340317), (4374, 0.011040661398647412), (2224, 0.011036809402792716), (4272, 0.011029245641918924), (2040, 0.01102576203887512), (911, 0.011019086850033503), (715, 0.011013063535457179), (2049, 0.011002616719840728), (2094, 0.01100146073141035), (4399, 0.010992201506501141), (1219, 0.010973061450545234), (1921, 0.010931428896472686), (3566, 0.010920490635063004), (1041, 0.01091779369449385), (1723, 0.010913790464180121), (4747, 0.010877660171142044), (1903, 0.010875338503011055), (1423, 0.010855477418610045), (2915, 0.010853176714880914), (4661, 0.010842312367886808), (1662, 0.010835432797449775), (712, 0.010806577707700275), (3983, 0.010792299829954118), (4220, 0.010790462916512292), (2874, 0.010790023595928547), (1015, 0.010788312201729182), (332, 0.010782588294130487), (2753, 0.010775622052201481), (916, 0.01077242090010248), (2116, 0.010771451330396382), (9, 0.01075855475264886), (1068, 0.010751523344335136), (2181, 0.010728357622934519), (1359, 0.010724229475318994), (1708, 0.010719224576405804), (3095, 0.010714702174771724), (4371, 0.010702294483360172), (3728, 0.010672199036721777), (524, 0.010670050531951723), (1712, 0.010667819207720116), (1141, 0.010665555525241757), (821, 0.010647325793920828), (354, 0.010639102837786633), (2096, 0.010637590871642573), (2721, 0.010628257048378508), (3973, 0.010625858538086525), (1779, 0.01062556742762151), (369, 0.010620594893302639), (1572, 0.010619370286146802), (208, 0.010595602835134438), (3385, 0.010593234518771467), (4512, 0.010590415456091145), (2921, 0.010575964547600581), (3483, 0.010566907238306375), (1685, 0.010559199533984627), (1503, 0.010545515839594129), (1450, 0.010540738669436722), (583, 0.01053941319873537), (1332, 0.010530784609948314), (1964, 0.010513988424245752), (1075, 0.010513433084578224), (2809, 0.010510558958267819), (2338, 0.010508465984651699), (128, 0.010485414483294713), (981, 0.010471186027933524), (173, 0.010459758461197108), (2065, 0.01044959323401834), (4181, 0.010418345731381182), (2662, 0.01041718804112287), (1475, 0.010404172462606531), (2545, 0.010397815517021274), (594, 0.010396050778728367), (2930, 0.010391933322584639), (591, 0.010379777924978361), (1844, 0.010376893472551336), (875, 0.010373666116572743), (2452, 0.010369175002436802), (2929, 0.01036877234611211), (2156, 0.010352169989063041), (1091, 0.010347474044577101), (1124, 0.010346939199809245), (2724, 0.010335342506784419), (3345, 0.01033335183484182), (1629, 0.010302026564036833), (1382, 0.010301400966533803), (3598, 0.010291427969023654), (4491, 0.010284213990126252), (3741, 0.010281403119250998), (1265, 0.010272564883764292), (1608, 0.010266551239325544), (2084, 0.010200379690323596), (1936, 0.01020018711038206), (3921, 0.010199152480095142), (1182, 0.010182503482223373), (406, 0.010182456090234113), (1194, 0.010157473656290848), (3768, 0.010156335725731911), (2155, 0.010154656399613847), (1942, 0.0101537963583123), (1057, 0.010141715912801216), (1018, 0.010137996168538213), (754, 0.010126047874784055), (992, 0.01011160991043768), (3211, 0.010070404312892727), (2630, 0.010066627913555176), (3748, 0.010058878398383379), (2044, 0.010039628951907712), (1876, 0.010037527446096019), (357, 0.010036888567419097), (697, 0.010021914707203412), (3238, 0.010009499163887645), (3698, 0.010000680584989471), (1385, 0.009992746098752425), (2566, 0.009992455329623149), (2831, 0.00999166072161581), (1452, 0.009990313531094062), (4180, 0.009988111267950225), (4045, 0.009985333577248033), (2291, 0.009960226522247697), (4323, 0.009955656580483646), (3346, 0.00995366419557378), (109, 0.009949956351136099), (1021, 0.009941105147837633), (1955, 0.009928049101354591), (1691, 0.00992430960851087), (1271, 0.009916716061634247), (3731, 0.00991451776029115), (2174, 0.009892525716773879), (3553, 0.009891283965078781), (1442, 0.009885760109952678), (4134, 0.009881223849150177), (1588, 0.009875736789395372), (464, 0.009864933527085163), (174, 0.009857933601464555), (2345, 0.009853208501188348), (1432, 0.009845355244563684), (3164, 0.009845188027817791), (4586, 0.00984193735405961), (1602, 0.009806441691000475), (4716, 0.00979587588384269), (78, 0.009772463433856878), (2951, 0.009751105970629512), (1244, 0.0097492357003009), (1697, 0.009728928523685136), (95, 0.009722566818374039), (1096, 0.009709359836455872), (2008, 0.009705682624414645), (2287, 0.009703683524721417), (3713, 0.009692968675595449), (4088, 0.009686066161951723), (846, 0.009678110353737501), (3522, 0.009673400004817161), (2789, 0.00966354189165415), (817, 0.009658007583998363), (3181, 0.009645029717118656), (4336, 0.00964000935517553), (2653, 0.009630753329793499), (19, 0.00962913994258917), (1305, 0.00961554382879551), (4332, 0.009602599168347705), (85, 0.009601065044350699), (1864, 0.00959914253169227), (4702, 0.009597689330767675), (1679, 0.009590237027003007), (2673, 0.009585296779654764), (2586, 0.009576446626449825), (1020, 0.009574888103722956), (1930, 0.009554700467427634), (4728, 0.009554492964532684), (909, 0.009552876288991855), (2252, 0.00953658327561604), (3733, 0.009505195238848206), (2473, 0.009504824830019088), (164, 0.009496556457048192), (494, 0.009495070313860147), (822, 0.009491674488645123), (4184, 0.009490253083447182), (1906, 0.0094837476824405), (943, 0.009474340833313718), (2572, 0.009453965314216023), (2729, 0.009442893123150402), (1227, 0.009442092441019451), (4444, 0.009438830478456827), (1133, 0.009431358422417357), (241, 0.009428463832707823), (1695, 0.009409909759037228), (4188, 0.009391164803596481), (1196, 0.009389987246565165), (4265, 0.00936723909830365), (81, 0.009364696621681419), (297, 0.009364034649985753), (418, 0.009362290906716031), (307, 0.009361370924961464), (220, 0.009357598318901922), (1159, 0.009353838694129056), (4542, 0.009344672974569548), (4674, 0.009341714748287114), (900, 0.009331329635275845), (3937, 0.00932812701928504), (4603, 0.009309518756847934), (838, 0.009280181596102107), (2645, 0.00927315748674467), (463, 0.009249355164877628), (90, 0.009242523174018087), (766, 0.009234422268697078), (2766, 0.009229010819970181), (1519, 0.009228986714375184), (1920, 0.009227821940245363), (1933, 0.009213119598024004), (4327, 0.009211214273021845), (4440, 0.009208091316656137), (3839, 0.009205413256237187), (1208, 0.009186384512251507), (1953, 0.00918358893756575), (3907, 0.009182979823998424), (825, 0.009166871808918663), (1592, 0.009166728390674004), (3743, 0.009158266760626093), (183, 0.009152987679933994), (168, 0.009137036529251194), (3329, 0.009123954581260781), (2465, 0.00910936774132782), (199, 0.00910009417285796), (1730, 0.009098824893064857), (685, 0.009092369027684032), (1125, 0.009082579165895924), (1544, 0.009073082531343323), (2265, 0.00906022378060227), (1538, 0.009058923649086614), (367, 0.009054493318069325), (93, 0.009052722923346091), (3690, 0.009045396105996908), (1810, 0.00903631396913358), (2017, 0.009033000972870756), (768, 0.009029444382147629), (449, 0.009026201123460902), (4587, 0.00900818034037344), (1690, 0.00899180864102309), (2787, 0.008987444441413753), (3638, 0.008983643575669203), (1105, 0.008982532402141676), (2950, 0.008981976558216764), (4612, 0.00897018786585422), (3616, 0.008960349675189052), (4242, 0.008951606366474033), (2607, 0.008945701174120548), (4071, 0.008942959094847826), (2834, 0.008939385709258769), (1522, 0.00893793657250377), (1934, 0.008911315762147851), (732, 0.008909318140768192), (3577, 0.008904826569070785), (4660, 0.00888528038287073), (4690, 0.008863807075868103), (785, 0.008856354206063184), (1009, 0.008853692472383568), (1556, 0.00885263827619921), (135, 0.008843496996876647), (705, 0.008835472658734713), (1517, 0.00881219564367218), (460, 0.008809967911706235), (1649, 0.00880861573226342), (259, 0.008800429273016419), (2590, 0.008798584337791506), (2442, 0.008790270801038542), (1480, 0.008785147600556115), (2272, 0.00877919069422651), (4325, 0.00876675425819847), (4373, 0.008751757419146047), (3073, 0.008732807561867183), (3589, 0.008715988575809365), (530, 0.008712836967374047), (1459, 0.00871234470425213), (3079, 0.00871071050806443), (3880, 0.008707139553791559), (1197, 0.008690269587505564), (2621, 0.00868292138832841), (3096, 0.008675483204460547), (2692, 0.008666453071715974), (3454, 0.008658096439726693), (2616, 0.008654195844313423), (1168, 0.008652593946365557), (2763, 0.008643983607236673), (397, 0.008641894176964055), (242, 0.008640890662639874), (147, 0.008634484859271534), (500, 0.008630356167242947), (1200, 0.008590988499631256), (1790, 0.008583344773830968), (1833, 0.008545919587951338), (1113, 0.00854452421292801), (445, 0.008543740852705584), (1657, 0.008536343957246138), (1668, 0.00852206138235103), (1134, 0.008519679014773782), (2167, 0.008505260308210322), (310, 0.008503983401143883), (2256, 0.008492365828144301), (4594, 0.008487143191151725), (1569, 0.008486359925495571), (3065, 0.00847712777383152), (1825, 0.00846672096679223), (3970, 0.008465416917369259), (1968, 0.008461926558932926), (2720, 0.008445034335921968), (3899, 0.008444693475717347), (3634, 0.008438202263418165), (2962, 0.008422746735610269), (1755, 0.00842259546701594), (780, 0.008421163839524107), (4477, 0.008418104259538891), (1915, 0.008417489423475562), (1487, 0.008391871237632909), (929, 0.008390244314056085), (4610, 0.008376052217586706), (1029, 0.008375845999573887), (4002, 0.008368040751167897), (1014, 0.0083419344387776), (3823, 0.008322048949682546), (3364, 0.008318121668396378), (448, 0.008316944715260741), (616, 0.008316934787060377), (1451, 0.008313965325083134), (912, 0.008311193969607174), (2215, 0.00830791517903056), (44, 0.008307795061226052), (3866, 0.008305740292995916), (3619, 0.008292495210161097), (1797, 0.008286246475647385), (508, 0.008285113914606875), (4568, 0.008273044711250163), (4328, 0.00826861018164014), (614, 0.008267279085110558), (142, 0.00825720441049209), (3651, 0.008242825121828001), (843, 0.008207403844682692), (113, 0.008207000358288896), (4114, 0.008202996759213595), (1291, 0.008198771622866386), (1823, 0.00818926287710042), (73, 0.008182826970354655), (1713, 0.008176065096576542), (540, 0.008168989794337195), (1887, 0.008165562937408909), (306, 0.008155028077012023), (3711, 0.008154983743773908), (1066, 0.008151898986471567), (1987, 0.008124713945921484), (1037, 0.008118524252985688), (2791, 0.008117394370465936), (3587, 0.008116799599951761), (4297, 0.008110916316027601), (569, 0.00810999001213918), (4368, 0.00810944569010742), (3945, 0.008094965436757608), (2168, 0.008088074702575703), (1317, 0.008086213550541968), (1716, 0.00808092933943466), (338, 0.008075309258278766), (1039, 0.008046699524361208), (701, 0.008043350151259156), (2840, 0.008036434829494466), (1474, 0.008035676768741493), (3877, 0.008022571736849449), (2908, 0.008020135287200341), (2854, 0.008002419861580956), (1458, 0.007999654708664912), (2843, 0.007995606964205464), (4337, 0.007994757990246881), (898, 0.00797343244963751), (699, 0.007959672186207403), (3387, 0.007951105871325236), (1817, 0.007943190828621119), (48, 0.007939400188308339), (3633, 0.007927110836563807), (314, 0.007923086882532739), (2244, 0.007918904206785971), (2739, 0.007907419301732213), (191, 0.007897172896198654), (2101, 0.007879315527132153), (363, 0.00786786901070287), (4732, 0.007859106050576777), (675, 0.007857875819923484), (3516, 0.007836502345370842), (2469, 0.007813884265393178), (192, 0.007793266204023011), (1883, 0.007792387097055267), (3271, 0.007785554470077355), (1747, 0.007766849453423768), (1907, 0.007756017942833456), (3480, 0.007749907347017924), (3914, 0.007747780254612386), (1770, 0.007742167935494281), (1140, 0.007715123179801466), (1537, 0.007714449002667198), (862, 0.007710907583865849), (2725, 0.007706053574630512), (4038, 0.007703303358553253), (2940, 0.007701545585208235), (12, 0.007694636089654337), (3780, 0.007693495841109867), (413, 0.007688592763380461), (2609, 0.007685560692331974), (1164, 0.007685398054108529), (1737, 0.00768052304034172), (3678, 0.007665525482169139), (680, 0.007662943909822578), (3297, 0.007656384992689767), (1407, 0.007651715545555864), (271, 0.007648615376808921), (1687, 0.007639775047170021), (3618, 0.007637752852370362), (202, 0.007631989088028441), (1774, 0.007620304257827466), (2755, 0.007619204458969353), (2610, 0.007614929586722561), (3777, 0.007613112482547717), (483, 0.00760782857919627), (3747, 0.007604782214899513), (1893, 0.007599857179032785), (4182, 0.007571806933447297), (1643, 0.007564761015943165), (3150, 0.007538915586071018), (211, 0.007531566873741749), (1781, 0.007531092367593889), (1660, 0.0075285512720713365), (717, 0.007514150968464826), (4136, 0.007506230331248753), (1851, 0.007501552857047034), (588, 0.007487445338124955), (1364, 0.007481901302279596), (4262, 0.007480722787188221), (2016, 0.007480230944633551), (1911, 0.007477232110291745), (216, 0.00747022061362362), (4379, 0.007465600910750382), (3920, 0.007463498339100412), (3959, 0.0074630145924630895), (313, 0.007461961848391442), (11, 0.007461600468748809), (671, 0.007434847926767034), (2726, 0.007434821693936576), (2126, 0.007430956857499271), (1214, 0.007421820427994449), (2334, 0.007416440040900112), (3233, 0.007412741710801909), (640, 0.007409745634053105), (1768, 0.007408283866588227), (726, 0.007400898530682971), (809, 0.007391988160556574), (3701, 0.007386996481302564), (3526, 0.007374056458800928), (2784, 0.007364864920500848), (3632, 0.0073596335203244935), (1761, 0.0073580436399865775), (3283, 0.0073393520450801926), (2210, 0.007326056925353779), (4068, 0.007320279024156373), (469, 0.007314676557898229), (4135, 0.007307719667097487), (283, 0.007303528619328273), (1302, 0.007302761337351072), (2647, 0.007297951849825557), (738, 0.007291533353083371), (3739, 0.007284733525852348), (3551, 0.007272408233784372), (1574, 0.007271322809736607), (4503, 0.00726697244758313), (2335, 0.00726385118007817), (993, 0.007258510581770019), (758, 0.0072560854272651), (4686, 0.007249445917426658), (504, 0.007249062585104098), (3125, 0.007241107727742882), (3491, 0.007233804849613266), (4541, 0.007228504818754974), (1074, 0.0072223487294692705), (1505, 0.007221074275973854), (1170, 0.007213612562590146), (4330, 0.007209535126779709), (1172, 0.007208982696134099), (1873, 0.00720735863156483), (1179, 0.007204517576823915), (4738, 0.00719696466194193), (3492, 0.007196650541900423), (3416, 0.007193493929082164), (1644, 0.0071920927243561165), (3665, 0.007188369154734993), (3174, 0.0071862800092716735), (1345, 0.0071842707100983885), (2900, 0.007182603318188777), (3330, 0.007180978000508938), (2324, 0.007173589120712715), (3374, 0.007150908280035853), (4394, 0.007150126870867236), (22, 0.007149255988333291), (1581, 0.007147449975352625), (641, 0.007146798626082868), (3477, 0.007144965634188222), (789, 0.007142937532553563), (834, 0.007141609983536616), (1012, 0.007132795160669941), (1226, 0.007127739974993245), (1411, 0.007120260208534106), (769, 0.007111189303774376), (1867, 0.007110892565095399), (1913, 0.007105501357184038), (2416, 0.007101582940518127), (322, 0.007090161070360369), (1338, 0.007086955902031715), (169, 0.007079379494793289), (4284, 0.00706995322488917), (3260, 0.00706958602971682), (1128, 0.007055259200717539), (1773, 0.007054504204188299), (1094, 0.007046405211884126), (4687, 0.007045533023597549), (3288, 0.007044889848032598), (2029, 0.007034706717830426), (1617, 0.007034467388102511), (1653, 0.0070265983198188695), (2759, 0.00701601682391465), (1422, 0.007015681076486715), (230, 0.007011939655363041), (4395, 0.007009847338938292), (1035, 0.006999981101031591), (4442, 0.00698905539218346), (321, 0.006988599990816036), (273, 0.0069871699336129045), (940, 0.006984705337964452), (4367, 0.006977485245457616), (4472, 0.006965229573650532), (1467, 0.006963100387757891), (2571, 0.0069615809782232665), (1645, 0.006960956894326346), (2612, 0.006959004692437917), (2268, 0.006958939406191032), (3641, 0.006958937109867818), (2095, 0.00695378714770529), (1463, 0.006947260232335552), (1421, 0.006946364327062648), (2642, 0.006942205064712787), (112, 0.006936997935398641), (3917, 0.006931345294683916), (2131, 0.006921906177350308), (18, 0.006909283024944604), (1552, 0.006884142875745549), (883, 0.006883075440405008), (3085, 0.006878476139835797), (1877, 0.006875806249231824), (3309, 0.006875520969096562), (1375, 0.006848449477337757), (1132, 0.006847869955895628), (1327, 0.006846888179457203), (644, 0.006844932626026902), (2517, 0.0068446976047097955), (4428, 0.006842010728384229), (2892, 0.006839779893434983), (767, 0.00683517976958537), (2751, 0.006827956706067869), (2388, 0.006825977761362583), (1664, 0.006819291234741371), (4124, 0.006818022266255578), (3646, 0.0068132891591873735), (408, 0.006812480586139449), (812, 0.006808079221608794), (835, 0.006807811374995432), (185, 0.006807099160506579), (1647, 0.0068062321198364625), (3819, 0.006803365127529128), (388, 0.00680214796380864), (3864, 0.006794801606979977), (2023, 0.006785398699763117), (2525, 0.006785029858775203), (2899, 0.006773477039519971), (3057, 0.006759513679995836), (3071, 0.006749077624854787), (279, 0.006745507613354069), (2205, 0.0067397303948121936), (833, 0.006738521499163331), (468, 0.006737715441188432), (1620, 0.006737569973709345), (4634, 0.006723542854343463), (1555, 0.006707808979479618), (866, 0.0066985548309605614), (3426, 0.006697947064343561), (2446, 0.00669245207509742), (3342, 0.0066909205292118076), (710, 0.006689031035799224), (1456, 0.006688077478386857), (2742, 0.006685086529015686), (2119, 0.006679399827845489), (1052, 0.006670710904226086), (96, 0.0066688837457323045), (1642, 0.0066688060301695745), (2317, 0.006667043387904005), (2562, 0.0066642379682649135), (744, 0.006663558881729316), (3854, 0.006663283314367113), (805, 0.0066631289252208955), (4402, 0.006662716967847945), (248, 0.006661017400126569), (4236, 0.006658922207162474), (4174, 0.006632094460142726), (4348, 0.006626357302427166), (3306, 0.006605884594044933), (416, 0.006602941867873432), (958, 0.0065811435429507575), (2954, 0.0065792485685253884), (3563, 0.006567176237823331), (1360, 0.006557882821172768), (1567, 0.006522331170250555), (1595, 0.006520777649677028), (3311, 0.006517991057237169), (1719, 0.006502941531664636), (2426, 0.006489861478168435), (3336, 0.006485530962407829), (4074, 0.006484459183883571), (3986, 0.006483222509915949), (885, 0.006463011727346208), (3841, 0.006461792756283091), (2185, 0.006450337587348346), (1715, 0.006448652701879618), (1392, 0.006406420440763493), (1394, 0.0063839331882484095), (495, 0.006373006885856321), (33, 0.006367839170870381), (979, 0.006366866716606327), (1186, 0.00632688173412242), (3894, 0.006319394117219289), (1684, 0.006307084218515947), (3637, 0.006301353873776403), (2820, 0.00629780185014494), (1301, 0.006295093677140982), (4473, 0.00627553464803994), (4385, 0.006266923375535707), (4035, 0.006265005903284494), (3509, 0.006246925339265557), (1379, 0.006240834681552662), (1492, 0.006231012200831932), (1863, 0.006218428689624361), (629, 0.006217503300711993), (3391, 0.006197732198341191), (2447, 0.006179984699594837), (1565, 0.006159004848150228), (2098, 0.006158983383198599), (3376, 0.006152992427608419), (3200, 0.006122299229226688), (3142, 0.00611874676024538), (3855, 0.006113971067996727), (1971, 0.006107382733940349), (3668, 0.006098899946972752), (2197, 0.006089827586837834), (2076, 0.006077126701463882), (195, 0.0060564696237028065), (3215, 0.006021658975001963), (3928, 0.006018862891171036), (3835, 0.006010787369455485), (3430, 0.005997642457058114), (442, 0.005974619684335653), (3940, 0.005936382978629403), (2439, 0.005911489212703013), (484, 0.005899680852462652), (2526, 0.005895496131176365), (4726, 0.005872428907144386), (2547, 0.0058277624476874654), (510, 0.005759647367685583), (3145, 0.005749592752904763), (3538, 0.0057454399637409895), (4288, 0.0056566412837998035), (2440, 0.005646471435378526), (4646, 0.00564258265343083), (2113, 0.005634424006622525), (1548, 0.005601900078276559), (3946, 0.005583705647838475), (2581, 0.005530263112516965), (3626, 0.005528128057044722), (4271, 0.005476088743092788), (2363, 0.00546907257053395), (1669, 0.005445289869487522), (4194, 0.005420475368872377), (414, 0.0054069977948293674), (1277, 0.0053883219399757576), (3546, 0.005375867981552464), (155, 0.005372918967837756), (3448, 0.005368612282986538), (1351, 0.0053138673101161705), (2351, 0.005282426020176801), (1343, 0.005260941742486448), (512, 0.005260017524866843), (904, 0.005209545346855837), (153, 0.00520142808203785), (4449, 0.0051927017902933924), (2032, 0.005186016660955521), (491, 0.005173755391922344), (3172, 0.005153127618806048), (3312, 0.005140189428272291), (3932, 0.005128091897293727), (293, 0.005123316631328397), (1758, 0.005117516114776674), (4281, 0.005114917004230001), (4454, 0.005105683379242691), (1321, 0.0050933483036828), (225, 0.005089702758681667), (380, 0.0050840972945559604), (2785, 0.0050670168353828355), (2180, 0.005058830806977477), (2486, 0.005052812630182836), (2079, 0.005052036569665), (4121, 0.005033481368623088), (424, 0.005024923821423676), (425, 0.005020564141132131), (681, 0.005010395308395548), (4462, 0.00500120588772345), (2470, 0.004998322544698935), (1011, 0.004997983815884872), (2532, 0.004996164783171977), (666, 0.00497999585941084), (3325, 0.004966828954185954), (4120, 0.004933020173260248), (3817, 0.004923023402941828), (2218, 0.00492002157614646), (687, 0.004909992829939768), (4064, 0.004909439352488688), (4549, 0.004909419622322141), (4091, 0.004862709231395349), (1681, 0.00485869967535619), (2233, 0.004856623383656112), (700, 0.004855461792236482), (3831, 0.004853033841548864), (677, 0.004850051372866187), (3730, 0.004837826022697542), (4240, 0.004831189214389099), (2458, 0.004822843503980849), (1056, 0.004815057911574374), (1511, 0.004805635505050747), (704, 0.004785256178485349), (1640, 0.004779889011490267), (4151, 0.004776356664451936), (4659, 0.004775694974808895), (1150, 0.0047733497461918), (4076, 0.004767686281764171), (1952, 0.004765564733832505), (3586, 0.004762768579115432), (1390, 0.004761293424561434), (4492, 0.004754067394386134), (2637, 0.004751473164492648), (1520, 0.004750748444453241), (2263, 0.004749789964893797), (3131, 0.004734760021852166), (1282, 0.004731268676496685), (2963, 0.004725275060130375), (3438, 0.0047245493887537755), (3461, 0.004717352665516417), (10, 0.004716211126675654), (2283, 0.0047162032143924), (2086, 0.0047134623281047585), (603, 0.0047071176671786875), (1031, 0.004705349174215104), (392, 0.004700994723458113), (361, 0.004697799168184979), (2147, 0.00469743381385702), (2719, 0.004696527404163947), (913, 0.004694325532419856), (239, 0.00469417428647436), (3897, 0.004692180258370329), (2689, 0.004691330361116489), (3464, 0.004690304321327595), (1436, 0.004682543669764247), (2330, 0.004679128711339144), (765, 0.00467719849321046), (3103, 0.004675832276973952), (1502, 0.004673446904962064), (1380, 0.0046673359923542), (3259, 0.00466727060340458), (1185, 0.004662532760936567), (891, 0.0046617440273779565), (781, 0.004660690622193239), (599, 0.004655865950930245), (344, 0.004654556953851696), (3969, 0.004649200095835584), (1336, 0.004646828634806646), (2675, 0.004639277790526676), (3870, 0.004626657711779328), (4621, 0.004624565106259258), (298, 0.004622976379642874), (3018, 0.004621725009186698), (2015, 0.004621137956102179), (3378, 0.004618042662443863), (201, 0.004617319493994348), (1047, 0.004610918947694334), (2241, 0.004602017149260654), (2259, 0.004600686845058473), (1155, 0.004590002960467918), (2511, 0.004587210414048996), (189, 0.004582844326542624), (918, 0.0045798834711365775), (1636, 0.004559778111389189), (971, 0.004555260042819362), (2431, 0.00455478936769827), (3722, 0.004550201467918107), (3446, 0.004545012138626973), (1726, 0.004541348586334455), (4376, 0.004537296195469617), (1564, 0.004532509269031653), (1431, 0.004531697606541474), (2678, 0.004527468782855666), (110, 0.004523020290888076), (3552, 0.004521323447702732), (908, 0.0045211024988312575), (2444, 0.004514231261932527), (1704, 0.0045112448561777235), (3810, 0.004509568973036526), (2788, 0.004505490199913368), (1322, 0.004505087390174747), (1587, 0.004504836487034698), (919, 0.004497390328513545), (28, 0.004493302289388027), (3650, 0.004484244316484727), (945, 0.0044811490626641345), (1751, 0.004477566322882805), (611, 0.004466410350405195), (736, 0.004455228618003117), (529, 0.004452907748550314), (2501, 0.0044468400385244975), (347, 0.00444053981552242), (560, 0.004438938747872656), (938, 0.004436046028687665), (2813, 0.004434992635097512), (264, 0.0044316457912850675), (299, 0.004424840568499152), (272, 0.00442423173161787), (4006, 0.004422947834660361), (305, 0.004421259671976966), (3343, 0.004421078445467965), (4592, 0.004411850427734112), (1022, 0.004405313531880261), (525, 0.0044018608724435485), (610, 0.004400125495973857), (439, 0.004399509777957963), (3178, 0.004395268431921321), (4482, 0.004389356572583392), (3818, 0.0043888058297311), (65, 0.004388640080349507), (1447, 0.004365111869776889), (613, 0.004362159196678617), (1857, 0.004356786641537203), (3746, 0.004356539450795648), (1314, 0.004353494878258207), (2128, 0.0043519108432949665), (1888, 0.004347360050634239), (2807, 0.004341628250300428), (2329, 0.004340830155178546), (4157, 0.004336815113091934), (2713, 0.004335477062157365), (84, 0.004333153733564808), (150, 0.004332166975030204), (2504, 0.004320907880064211), (3368, 0.004320752155443055), (4112, 0.00431975594321718), (3709, 0.004313480647878825), (2322, 0.004310936384118927), (3994, 0.004300711008111258), (152, 0.004297751183241623), (72, 0.004292038967187842), (345, 0.004289203412215922), (1373, 0.004287470582010236), (3127, 0.004286781145231976), (773, 0.004281184641525801), (2003, 0.004275510312736898), (1347, 0.00427464090903629), (3011, 0.0042735116613938475), (3720, 0.004270770504523649), (1368, 0.004269950201336844), (261, 0.004269812683107035), (3149, 0.004268738712995799), (2432, 0.0042657778203791675), (3512, 0.004262829893978636), (3562, 0.004262767638512412), (223, 0.004261586797319583), (915, 0.004258514370450112), (4252, 0.004257969548049098), (585, 0.00425733250769447), (2757, 0.004254939777904439), (179, 0.0042538504738612), (3886, 0.004250164107129432), (138, 0.004249301582999588), (3053, 0.004246948147268272), (3786, 0.004246283445183242), (427, 0.004244915093858885), (3568, 0.004244264092451084), (1632, 0.004243164164302422), (4438, 0.004242869437270574), (3567, 0.0042400865474641995), (4279, 0.004232067560010789), (4481, 0.00422838015320233), (2897, 0.004227152309184133), (498, 0.004219086251811038), (2409, 0.0042149965309871565), (4441, 0.004203978447815087), (260, 0.004197599038416476), (3712, 0.004192092582940262), (3891, 0.004190965903238567), (4555, 0.00418980615785822), (3361, 0.004189325533030686), (2998, 0.00417344767463474), (4292, 0.00416966642923669), (1895, 0.0041689564862008015), (1973, 0.004163184433916428), (2311, 0.004163044883043281), (1824, 0.004159948894782115), (3133, 0.004159739127889735), (1914, 0.004159239442849527), (548, 0.004150038913500847), (2938, 0.004143003855579205), (974, 0.004142883134554828), (426, 0.004139393567532089), (3925, 0.004137899599964641), (810, 0.004134751762352707), (492, 0.00413187234201695), (3966, 0.004127437919920545), (1778, 0.004122120945029158), (3280, 0.004120257546760499), (690, 0.004117564459990831), (1430, 0.0041150596417106056), (3083, 0.0041139976875718175), (2615, 0.004111035853315631), (417, 0.004110766826955604), (549, 0.004106047306441578), (240, 0.004096302205444752), (978, 0.004093421627178497), (335, 0.004091349027156716), (2497, 0.004087321892076674), (2491, 0.004080292331996775), (2666, 0.004068282329418224), (1984, 0.004067566343451778), (411, 0.004062074585010183), (80, 0.004055001718639466), (14, 0.0040496343293230045), (4339, 0.004042591228160397), (1568, 0.004038579627190325), (4689, 0.004038239921358214), (4607, 0.004036816943990152), (2529, 0.004035421680285464), (291, 0.004033928738243042), (1990, 0.004031932491258572), (2749, 0.004027692333761174), (3295, 0.0040274168563444335), (352, 0.004022300285339498), (3459, 0.004021322152447108), (1784, 0.004018611452374111), (337, 0.004016717607400435), (148, 0.004016032458646163), (2379, 0.0040120082258417195), (1626, 0.00401000897880717), (1171, 0.004008823994416088), (2490, 0.004006798631973407), (4109, 0.004004362465383083), (2937, 0.003991910534080102), (2262, 0.003987025953902097), (3523, 0.00398514072066554), (4705, 0.003974625173824718), (577, 0.003963610508150711), (3231, 0.003963045037637112), (2764, 0.0039605862698164854), (3672, 0.003950266475147401), (2137, 0.003940109214206452), (3139, 0.003935902960785241), (4082, 0.003927184476165982), (4450, 0.003923051574499969), (882, 0.003922966031374831), (1468, 0.003922758096408376), (820, 0.003909263414945214), (2722, 0.003902590937949997), (2189, 0.003902331198338295), (2906, 0.0038962112988810177), (4202, 0.0038871809771514254), (3411, 0.0038827584439161227), (3040, 0.0038822684488421903), (2989, 0.0038736356437681333), (3803, 0.0038720385138336106), (2805, 0.003869949015020026), (1482, 0.0038683058742106447), (3852, 0.0038560946865715544), (2349, 0.0038491061370342417), (1145, 0.0038441569154892075), (4353, 0.003843275498758423), (2407, 0.0038427663723171737), (1772, 0.003840336444273033), (3990, 0.0038371482150788743), (1559, 0.003830139567860431), (2889, 0.003826905082176498), (2842, 0.0038262744940985804), (1521, 0.0038222000885162217), (2537, 0.0038135655720379336), (3119, 0.003811171793040897), (1546, 0.0038072057243148947), (4617, 0.003802114066612335), (4704, 0.003797769054908102), (2, 0.003797333507780437), (3052, 0.0037971392519024626), (2801, 0.003796352058467976), (3776, 0.003790220335317748), (3055, 0.0037828203468580606), (2775, 0.0037739701273448215), (4017, 0.003772443617982932), (3561, 0.0037685221874037837), (3042, 0.003766673830328231), (3030, 0.0037660124446119076), (725, 0.003764727514353484), (627, 0.0037642995030123362), (2883, 0.0037619570650896878), (1046, 0.003758900031656164), (3635, 0.003758531485060614), (2855, 0.0037529689502276012), (947, 0.003749975721671784), (2923, 0.0037456292313943506), (1910, 0.003738708681619456), (639, 0.003737018170970416), (3291, 0.0037357879329997117), (3674, 0.0037357245504588375), (2731, 0.0037315683146492066), (4749, 0.0037308082360213465), (4529, 0.0037273613901135545), (3481, 0.003724611687196235), (1535, 0.003721366180047805), (3658, 0.0037188259466966237), (2484, 0.0037169993610715103), (4221, 0.003716807217798497), (575, 0.003712637500449104), (3479, 0.003712570539329994), (58, 0.003710772837001624), (64, 0.003706579294271486), (4484, 0.00370647653089645), (4611, 0.0037054529252987), (2694, 0.003703063556940686), (186, 0.00370093744964222), (2861, 0.0036847809530524598), (2655, 0.003684071686511508), (1221, 0.003679300736773338), (2932, 0.0036755573768941126), (4172, 0.0036751547995541142), (3878, 0.0036537282563935945), (4418, 0.0036510840272199288), (88, 0.003650162606747424), (2832, 0.003648284266175747), (2075, 0.0036425844120964185), (4696, 0.0036419786888231744), (4407, 0.0036362618136043766), (3219, 0.003632988855603412), (2392, 0.003629742108889629), (3292, 0.0036290130660061558), (1530, 0.0036242791050048856), (381, 0.003614593432529902), (3892, 0.00361385339376914), (3282, 0.003605210022561349), (4423, 0.003604846087200529), (2425, 0.0036029319421758696), (4546, 0.0035933903851296306), (237, 0.00359035736542792), (2255, 0.003586618499358462), (2257, 0.0035791525255042915), (3322, 0.0035778462175944984), (889, 0.003577720113383245), (3262, 0.0035769993622239574), (2901, 0.003569220101337822), (3944, 0.0035673979723785743), (1395, 0.003562323270567977), (4230, 0.0035619836294316326), (4142, 0.00355419168829002), (2838, 0.003552728209301796), (3980, 0.0035503017863731294), (2530, 0.0035333091652907937), (4102, 0.003529703725400645), (3848, 0.003526907788648394), (294, 0.0035237241054819524), (3015, 0.003522746029738881), (2078, 0.0035196742429924413), (4606, 0.0035194250031297296), (2734, 0.0035174478508885492), (3828, 0.003515813194478946), (4710, 0.0035139369939872606), (807, 0.0035137660164207946), (2377, 0.0035130854438301194), (3128, 0.0035043082826048495), (2423, 0.0035034403587219935), (668, 0.0035012263772299943), (526, 0.0034957563554274614), (475, 0.003488972526515981), (3249, 0.0034769337979849205), (2326, 0.0034750771961904467), (4469, 0.003473384247834554), (3687, 0.0034722008036594063), (4544, 0.0034679562886133107), (3357, 0.0034555202713967615), (3537, 0.003448119391311141), (2438, 0.0034433935353788804), (4306, 0.0034369273256023326), (3922, 0.003431790476091798), (3613, 0.003428898969026949), (4724, 0.003426876406912931), (3521, 0.0034247817455682074), (2266, 0.003423021352621532), (3999, 0.0034230108705405804), (421, 0.0034226710691860093), (4572, 0.0034118281519274697), (3074, 0.003410712628994473), (4298, 0.003410497530242106), (4209, 0.00340651246396987), (4443, 0.0034055149952956104), (326, 0.0034044854246726808), (2797, 0.003402643502582773), (2957, 0.0034009985688477438), (3874, 0.003399440583199349), (2488, 0.0033974194615786434), (3031, 0.003395871628618403), (3832, 0.003393752320958403), (2848, 0.003393296525069282), (3123, 0.003390871306273352), (3302, 0.0033871274514817576), (2879, 0.003385562103207092), (3620, 0.0033851394629877993), (4147, 0.0033849642393304607), (3544, 0.003383926253456267), (2966, 0.003379462546769691), (3358, 0.003374979333980039), (3020, 0.003374846785376359), (1593, 0.003368968272231093), (1064, 0.0033680187140423708), (2778, 0.003361459277988226), (3779, 0.0033568971466537245), (2454, 0.0033568855973987845), (4414, 0.003354028238961628), (2993, 0.0033530746209529524), (3901, 0.0033526355102437774), (3257, 0.003349716193746899), (1264, 0.0033486728008935256), (2619, 0.00334776801831107), (1429, 0.003342003770738843), (777, 0.003341203894143496), (3413, 0.0033390668969187466), (3356, 0.003337896188112016), (489, 0.003325530579610385), (2434, 0.0033233933946269878), (3911, 0.0033218222508965855), (4458, 0.0033155365179469926), (3766, 0.0033151925816658962), (3675, 0.0033138347430545067), (4637, 0.0032987040443501754), (4490, 0.0032968231212057845), (4280, 0.0032946327857738744), (4735, 0.003289617452750137), (2986, 0.0032882623975176934), (4717, 0.0032825328739088376), (431, 0.0032784776547926343), (4632, 0.003277419213390368), (3935, 0.003275768873515528), (2613, 0.003275027852767679), (4416, 0.0032722875079880848), (2570, 0.003271929020852109), (3081, 0.0032716358843566614), (3621, 0.0032712040478005532), (1053, 0.0032697758993992083), (4584, 0.0032682501089281433), (1792, 0.0032669391806803443), (2089, 0.0032665786194818725), (4694, 0.0032663751109778807), (1187, 0.003266189910563317), (2707, 0.00326272484135407), (518, 0.0032590317470342104), (4412, 0.0032564934810138534), (4030, 0.0032538466637810903), (1169, 0.0032535601643620274), (2846, 0.003252843486743231), (3275, 0.003249211062591387), (937, 0.0032479011190988806), (4075, 0.0032437633338010274), (3540, 0.003242387004848809), (2142, 0.003242229933880004), (3019, 0.0032362241410951514), (3359, 0.0032352371219742816), (4126, 0.003234878328097022), (2696, 0.0032315977194537792), (3072, 0.0032310592924356), (3307, 0.0032292010344902207), (1947, 0.003227165423511845), (2269, 0.0032264633343982428), (2924, 0.003224036635264332), (3754, 0.0032239526682951974), (3729, 0.0032217282090205223), (3425, 0.0032211277716285543), (860, 0.0032209730178548316), (3408, 0.003214816317541631), (4398, 0.0032123100438021016), (2884, 0.0032091403147757962), (3419, 0.0032081645912543704), (3337, 0.0032076462548602546), (3396, 0.0032065428351984275), (3506, 0.003206254091094241), (823, 0.003204327254889776), (4650, 0.003203734724140136), (2872, 0.003200000066684933), (3355, 0.0031982539807963524), (3165, 0.0031929991822277587), (274, 0.003191957554794726), (2187, 0.0031905362318502693), (3952, 0.003188016789727871), (4516, 0.003187782775436905), (1656, 0.003187200463601077), (4244, 0.0031847794705124823), (2796, 0.003181406341048979), (985, 0.003180070677918242), (2702, 0.003177299464295842), (1924, 0.0031759469130063877), (4295, 0.003173980832338012), (1497, 0.003172685370129164), (739, 0.003172188268070263), (3883, 0.0031688343448397064), (4243, 0.0031647691598082023), (3772, 0.003163588377494264), (3296, 0.0031618370174874354), (2223, 0.003160838463395505), (2346, 0.0031607918492246832), (3611, 0.0031586611061129306), (3867, 0.0031580501192686647), (2302, 0.0031575482872563255), (2437, 0.0031553919099353966), (1909, 0.003155357763420471), (4187, 0.003154318812443613), (107, 0.0031529326659216913), (2893, 0.003152535446288967), (3186, 0.0031521011266572997), (999, 0.0031488751822367957), (2881, 0.0031484870152811155), (2411, 0.003147855026315624), (3148, 0.0031475146241199555), (4731, 0.003147502981939819), (478, 0.003146206686517123), (4092, 0.0031459763073871886), (2400, 0.0031442845798042448), (2914, 0.0031439522910035617), (3680, 0.003143594176237344), (3992, 0.003142405541200872), (4494, 0.003140545165194149), (1148, 0.003138761176973575), (281, 0.0031382943987981944), (1383, 0.0031381005131567996), (235, 0.003137760755492994), (4699, 0.003136581241722337), (576, 0.0031338096252516417), (3274, 0.0031322489540504318), (3373, 0.003128905277805733), (4333, 0.0031281497977057836), (533, 0.0031267585562555164), (1489, 0.0031237446424597277), (3560, 0.003123544813290863), (922, 0.0031189383181646035), (4718, 0.0031178168491148442), (3196, 0.0031173133894589608), (4160, 0.0031168624649088057), (3012, 0.003116757365474622), (2579, 0.003116057959273306), (2916, 0.0031138664830833575), (1862, 0.0031134441467840137), (3032, 0.0031116826530545984), (436, 0.0031103005297882097), (4396, 0.003110243527376099), (3146, 0.0031095242426328134), (308, 0.0031086430220681658), (2356, 0.0031076877312807235), (3737, 0.003104170883414993), (3593, 0.0031032741386845734), (4293, 0.003102098664287272), (458, 0.003101897756125545), (3804, 0.003101077420361341), (3248, 0.0031003736552406786), (3640, 0.0031003017250777723), (444, 0.0030974837910240187), (3273, 0.003094934762223644), (2585, 0.003094699796908701), (2830, 0.0030939281340860874), (4397, 0.0030938945162523957), (41, 0.0030933212451044498), (4593, 0.003091230670793441), (4706, 0.003088508979980167), (4259, 0.003087896668682663), (1923, 0.0030874105446246653), (2108, 0.0030855463605802946), (1890, 0.0030846749002937106), (3062, 0.0030820360329424402), (4138, 0.00308138932290481), (2535, 0.0030811653153196535), (888, 0.0030810367288330786), (1960, 0.0030779503378936353), (2592, 0.003077597056228082), (3967, 0.0030731343617159497), (3026, 0.0030714034040701128), (3101, 0.0030713045555163646), (4042, 0.0030704198521213145), (967, 0.0030692336118186116), (3961, 0.003068396185664507), (2428, 0.003067926231671714), (2890, 0.00306756174562426), (4619, 0.003067228360312346), (2159, 0.0030654592336725297), (3097, 0.0030653976350876913), (254, 0.0030640884814292415), (4263, 0.003061877153227011), (3417, 0.003061804920910951), (587, 0.0030573519900675143), (3116, 0.0030548440341427304), (1454, 0.003053425814223804), (476, 0.003051582816464122), (450, 0.003050420099873584), (2410, 0.0030497017738267827), (4446, 0.0030495736577400606), (2464, 0.0030488764755469346), (4308, 0.0030486223653951217), (4046, 0.0030475901200447313), (3183, 0.0030441893909630567), (4048, 0.0030433314708510793), (4601, 0.0030427923060969103), (2624, 0.0030418792032191754), (253, 0.0030393927978574846), (3714, 0.0030385906476060897), (2229, 0.0030380336592527447), (4140, 0.0030374332300752965), (3497, 0.003037400948140761), (896, 0.003036905583518318), (1866, 0.0030355045302805635), (673, 0.00303366610099256), (3813, 0.003033225494390785), (1905, 0.0030308001201794677), (4116, 0.00303079026071409), (2293, 0.00303021744544214), (4522, 0.0030295329320001387), (1805, 0.0030288199156186008), (350, 0.003026434720854146), (481, 0.0030232296354036196), (2748, 0.0030229756556854805), (3258, 0.0030229125337192654), (887, 0.0030227460231717837), (2214, 0.0030225899404817697), (4087, 0.0030220225500999266), (3915, 0.003019513669644044), (4528, 0.0030190409580267076), (3889, 0.003014912806425843), (2888, 0.003011352661579511), (3771, 0.003011046410599917), (2705, 0.003010089219106999), (3694, 0.003008558156923255), (4545, 0.003008353368033523), (1959, 0.0030071384531579616), (3269, 0.0030071134111142113), (1874, 0.0030043382774674666), (4734, 0.0030042816420962387), (3449, 0.0030040148920770946), (2477, 0.0030035362283246303), (3757, 0.0029987816819774015), (2190, 0.0029965406840899078), (210, 0.0029961009934527925), (2776, 0.0029940833084190345), (1518, 0.0029940230795748525), (3692, 0.002993201122580901), (430, 0.002992149624592622), (4161, 0.0029906895717649313), (4657, 0.002989856357550295), (2475, 0.0029896034290723475), (3112, 0.002989323436435033), (1995, 0.0029892438749562584), (4540, 0.002987068004599652), (4245, 0.002986822569075385), (3184, 0.0029858758711206607), (2162, 0.002985341754020196), (991, 0.0029840851928812596), (2254, 0.0029831654312072933), (395, 0.002982617342899535), (2723, 0.0029814472939456724), (485, 0.0029791483621647847), (4495, 0.002977650525361469), (2786, 0.0029770287401968782), (4574, 0.0029765648913248877), (872, 0.002976109387540249), (4111, 0.0029760031690126035), (1409, 0.002974066444003513), (2260, 0.002973845041667144), (21, 0.0029728516350694275), (3873, 0.002972564043368433), (227, 0.0029709863169962427), (2391, 0.0029691485383609227), (2104, 0.0029689122423611565), (1119, 0.002968072345571667), (2393, 0.002966711088983599), (4231, 0.002965477713186275), (3601, 0.002964785327217888), (2151, 0.0029639603957296577), (2664, 0.002963722109601883), (3235, 0.0029635447245949125), (4357, 0.0029633285883105148), (2522, 0.002962807263228415), (4355, 0.002961596270372095), (3987, 0.0029608556974139158), (2105, 0.002960248808010796), (3434, 0.002957508917952662), (246, 0.0029564182384095253), (622, 0.002953946112064893), (623, 0.0029525403167627445), (612, 0.0029515590851673158), (3084, 0.0029484566461828736), (3314, 0.002948357628028966), (4471, 0.0029479648625021933), (4054, 0.0029477336048613694), (456, 0.002945331468377133), (3326, 0.002944348114569848), (4505, 0.002942582062210255), (1853, 0.0029425523768757487), (2953, 0.0029425274510931298), (4575, 0.002941392808202747), (1484, 0.0029406428006085172), (2288, 0.002940473285037334), (2196, 0.0029398002112294356), (2849, 0.0029389522873100237), (4318, 0.002937553182475693), (1822, 0.002934587147127691), (3037, 0.0029344052733131813), (3406, 0.0029338452491240808), (4, 0.002933183788514393), (4033, 0.0029327775687031485), (1225, 0.0029327009803099204), (4420, 0.0029313359271954365), (4566, 0.002930539964011631), (1400, 0.002930388018893736), (1916, 0.0029295102143598478), (3388, 0.002928996290235605), (783, 0.0029284607943806506), (3511, 0.0029262900359378593), (3187, 0.0029254352682518475), (51, 0.0029248465207769806), (178, 0.0029244131270286544), (3984, 0.0029236115709460908), (1902, 0.002922028605823126), (2419, 0.0029206344417745285), (3372, 0.002919618463531916), (4757, 0.0029193665979170324), (4178, 0.0029190147605892823), (3242, 0.002918668327663404), (4225, 0.002918207018372033), (1188, 0.0029178535710285966), (716, 0.0029151707743935535), (429, 0.0029134751670143876), (2088, 0.0029125845905614033), (255, 0.0029110815897211125), (1439, 0.0029107305741305823), (4430, 0.00291059826781685), (4497, 0.0029104880807911387), (845, 0.0029103633143517053), (3437, 0.002910254279348208), (1736, 0.0029102293899746653), (270, 0.0029073922821226676), (2926, 0.002907325829802454), (3770, 0.0029070571377898882), (580, 0.0029049482610839514), (204, 0.0029043001546325037), (3862, 0.0029033792851016382), (4083, 0.002902312781999143), (1229, 0.0029022661643699726), (3514, 0.0029021862012150973), (1224, 0.002901915685602413), (3351, 0.002901396495234063), (3382, 0.0029007925363324174), (879, 0.002900290305777547), (3241, 0.002900219159701504), (3845, 0.0028996359949609737), (4419, 0.0028981138244563638), (23, 0.0028969576688732445), (2370, 0.002896243562641224), (543, 0.002895367562732228), (1983, 0.002895282563026425), (3224, 0.0028942833490299543), (3902, 0.0028924802711082194), (1083, 0.002892434938056885), (884, 0.0028922906846311153), (4361, 0.0028922621728867783), (2904, 0.0028914638644438294), (1727, 0.0028904001402883274), (3353, 0.0028901458817719673), (447, 0.0028866313935258297), (4625, 0.0028864713892233656), (3666, 0.0028864690280450975), (4756, 0.0028854964398299142), (3349, 0.002884157905129283), (987, 0.002883416171140559), (4079, 0.002881830967428792), (774, 0.0028804481717256683), (2123, 0.00287743905038466), (584, 0.002876488081352413), (1765, 0.0028752138046307754), (3527, 0.0028736278574970175), (4334, 0.0028732373159805176), (2919, 0.0028718467501100656), (3198, 0.002871809699712327), (606, 0.002870654196640956), (806, 0.002868854563817486), (4249, 0.0028683410257275715), (3623, 0.0028677651019651776), (120, 0.0028670505815032166), (3636, 0.0028648642365246145), (1717, 0.0028630544383658686), (1516, 0.002862977573837045), (3153, 0.0028626342947140173), (3290, 0.002860879700513777), (4643, 0.0028595571276364604), (743, 0.0028566653129690205), (176, 0.0028565262584161325), (871, 0.0028563594093989806), (2466, 0.002854980363891199), (2230, 0.002854980325947112), (865, 0.002854461140803274), (3016, 0.002853886383895104), (1294, 0.002853826273197228), (1334, 0.0028537801982343224), (2894, 0.0028527954223292566), (509, 0.002850906154537451), (4098, 0.002849584560138748), (3289, 0.0028489796380346453), (3225, 0.0028487591815941423), (3809, 0.0028482637669942227), (3445, 0.0028470377914612166), (1355, 0.0028468231789947392), (3000, 0.002846315532291457), (4273, 0.0028447752018206105), (3542, 0.0028443160126864985), (115, 0.0028425714011485114), (1174, 0.002841956442059225), (1931, 0.0028403354091642236), (933, 0.0028391100905086793), (1176, 0.002837697359290626), (1337, 0.0028369682277653865), (1740, 0.0028358433958968806), (3113, 0.002835418693294935), (238, 0.0028353650569734818), (4197, 0.0028340181398418102), (3653, 0.0028338001101738193), (2489, 0.0028330533023883907), (3182, 0.00283189277341277), (2292, 0.0028313715704413873), (1122, 0.00283025159212038), (3792, 0.0028270847016417426), (2746, 0.0028265756560155834), (3501, 0.0028258095858694006), (994, 0.002825112574509253), (2295, 0.002824160661130933), (1440, 0.002822878301873479), (2313, 0.0028224151063917444), (4049, 0.0028213612049343456), (198, 0.002820600880252485), (1204, 0.0028205463616565313), (1533, 0.0028199445697448112), (4004, 0.002819263779216887), (2091, 0.002818655222577995), (579, 0.002818048133720625), (2374, 0.0028173883976398487), (4014, 0.002812764569755077), (1872, 0.0028117104266512103), (2652, 0.0028104435615011), (1410, 0.0028096715005847587), (3335, 0.0028088093847763087), (636, 0.0028075405669501364), (1722, 0.0028072706689158083), (2122, 0.0028064418417529224), (2745, 0.002805984410662313), (1175, 0.002805537309666661), (1706, 0.002805281428228438), (2396, 0.0028052282306656427), (4266, 0.0028051742038048715), (2554, 0.0028044475793171245), (3670, 0.002803728353939266), (848, 0.002803597964433531), (1232, 0.0028014068504469683), (2934, 0.0028002161857447762), (2606, 0.002799161559667735), (3155, 0.002798978792859223), (3436, 0.0027978357680383723), (2783, 0.0027976741590929454), (4517, 0.002796777654333637), (2533, 0.002796012897467489), (378, 0.0027918681678933844), (172, 0.0027887770172322114), (5, 0.00278823359696946), (3341, 0.0027877470012514665), (4715, 0.0027871340598371016), (1488, 0.0027869516764222856), (2340, 0.0027868488873402683), (2344, 0.0027857405074894464), (2354, 0.0027827337375897067), (114, 0.002782606151391564), (2558, 0.002780328215399939), (3478, 0.002779968618090567), (226, 0.002779581034405203), (1378, 0.0027776011223594756), (4427, 0.002776842025687656), (479, 0.0027766795606582236), (370, 0.002775459080974864), (66, 0.0027745394705383326), (2212, 0.0027739356075285547), (2943, 0.0027699708958170135), (3673, 0.0027687034504129365), (3216, 0.0027664018953890866), (3807, 0.0027653860804441703), (4056, 0.0027649402894312143), (1298, 0.002764560872510312), (2999, 0.0027641984679011265), (4409, 0.0027635167895752573), (4060, 0.0027619409618723826), (2289, 0.0027607115012654535), (2512, 0.0027600140528126356), (1102, 0.002759056929180012), (3441, 0.002757129180829614), (3727, 0.0027563075960325705), (1891, 0.002755841288177724), (1634, 0.0027552787602111873), (1252, 0.0027542838406145087), (1072, 0.0027534226698875263), (1438, 0.002753109729754662), (3565, 0.0027512518501037926), (3888, 0.002750629047804167), (1831, 0.0027486878690325535), (247, 0.0027486876475293046), (466, 0.0027483979160777493), (2569, 0.0027469347901624545), (3381, 0.0027467672898566445), (534, 0.0027456666409396346), (61, 0.0027446057061425587), (1598, 0.0027442250074526235), (1550, 0.0027412272645905584), (1621, 0.002740548006634043), (880, 0.0027400425124808545), (4668, 0.002739196163946623), (4487, 0.0027388506470912522), (3173, 0.0027377475042514444), (2173, 0.0027374671078923304), (2961, 0.002736368909665683), (3093, 0.0027358724173900018), (3195, 0.0027357467960710986), (3906, 0.0027351377753520455), (3647, 0.002735125272538494), (2687, 0.002735043291480646), (989, 0.0027343018680169476), (4349, 0.0027335685306045573), (2069, 0.0027313595490781667), (3827, 0.0027256880031563597), (1286, 0.0027253349089049394), (2216, 0.0027245121441100877), (1882, 0.002723769120518723), (2111, 0.0027230876151441725), (4362, 0.0027220110798740664), (2945, 0.002721229975334794), (1527, 0.0027206712237136618), (26, 0.002720046694543454), (4530, 0.002718783660856539), (2802, 0.0027183103669145706), (3220, 0.002716954675764936), (4036, 0.00271627326834648), (4641, 0.002715688855360561), (3069, 0.002714772245198045), (4299, 0.002713830186664839), (3719, 0.0027133987663719846), (4309, 0.0027133254344812105), (4743, 0.0027124649939324844), (2909, 0.0027112491725381892), (3402, 0.002709015232818474), (2279, 0.0027086462392284286), (1350, 0.0027079257627473066), (1408, 0.0027074869517405343), (1284, 0.00270615805752143), (2401, 0.0027017517595488306), (755, 0.002701644782716016), (4693, 0.002700376116844152), (959, 0.002700188205464727), (3075, 0.0026999122230228043), (1813, 0.002698917346326957), (522, 0.002698509285053578), (3370, 0.0026984218674223313), (4183, 0.002696293992882042), (349, 0.002696211705759182), (676, 0.002695108443883944), (4381, 0.0026950646378453963), (4573, 0.0026949398107756037), (1245, 0.0026947161459304177), (1044, 0.002693008342271272), (4673, 0.0026925232148812686), (2912, 0.0026918163957198693), (1261, 0.0026915577309108304), (1671, 0.002691475779393342), (4129, 0.002690808483381241), (1481, 0.0026906223248628854), (2080, 0.00268594294810201), (167, 0.0026856068867388326), (3298, 0.0026853754954259406), (1247, 0.0026850636144762417), (3660, 0.0026808140465896906), (2716, 0.002677716023365289), (4461, 0.002676236923277113), (3352, 0.002673369222698951), (646, 0.002673357581216783), (3900, 0.0026731889020214783), (396, 0.0026714490758962947), (1248, 0.0026709540334941195), (4729, 0.0026703006354912256), (1582, 0.0026688794296104595), (2117, 0.0026665767799718856), (1034, 0.002662246686931343), (1478, 0.002662081801776903), (487, 0.0026611977469093917), (2752, 0.002658897864442978), (4567, 0.0026569220603498886), (3498, 0.002656138928187428), (4536, 0.0026559562668429164), (4614, 0.0026553580010313027), (1854, 0.002654214508172111), (3214, 0.0026540038490503385), (2779, 0.002653797772633667), (3268, 0.0026532872121288334), (1744, 0.002652028753762814), (3978, 0.0026515856622167863), (1929, 0.0026502005150007757), (157, 0.002647614496362511), (4321, 0.0026466458908279227), (3035, 0.002646502080497917), (4085, 0.0026458971663080384), (3170, 0.002644687830035049), (4213, 0.00264344240800041), (2242, 0.00264234568996562), (505, 0.002640910308475508), (3898, 0.002638084832955965), (373, 0.0026346301682600368), (4246, 0.0026321524595159275), (2679, 0.0026305889671310646), (203, 0.00263038755235219), (2651, 0.0026301725822067564), (2598, 0.0026301476140916775), (434, 0.0026299842152184504), (2133, 0.00262944078198112), (2997, 0.0026275780803626677), (325, 0.0026269719586679316), (1759, 0.002626673446351877), (818, 0.002626248283850529), (1032, 0.0026256927990977947), (3194, 0.0026239235481779785), (116, 0.002623739222435401), (578, 0.002623714625181964), (126, 0.002622913340593471), (939, 0.0026220970801729563), (3734, 0.0026219881955655), (1036, 0.002621916842357169), (276, 0.0026211951321411533), (1663, 0.0026189266921206266), (2166, 0.002618120160386871), (3615, 0.002617862785196966), (3433, 0.002617592174618088), (31, 0.0026144740864385623), (694, 0.0026141989717715984), (2004, 0.00261280720509778), (236, 0.002611262124404978), (4011, 0.002610805765209661), (4254, 0.002610254721114241), (1203, 0.0026101499341717174), (1693, 0.002610147731941199), (886, 0.0026062318971443207), (140, 0.002604070965961757), (941, 0.0026037108387824636), (3243, 0.0026037008208726255), (1665, 0.0026029028923481084), (975, 0.0026024707427707502), (2496, 0.002599750882759721), (2149, 0.0025974492253080157), (655, 0.0025960073173214486), (3452, 0.002592257934305164), (229, 0.0025917401642976783), (944, 0.0025900351945303004), (1819, 0.002589922691132742), (659, 0.002589511343683537), (213, 0.0025873723786421967), (2201, 0.002586049043677858), (4356, 0.0025853893456889666), (1558, 0.0025841939850501042), (111, 0.002582430649560654), (2528, 0.0025816208177106984), (868, 0.002581086679731304), (1183, 0.002580358838925151), (3500, 0.002579136780412743), (2907, 0.002578237381805433), (589, 0.002576388675173835), (399, 0.0025759259974709775), (3627, 0.0025721726144706156), (1448, 0.00256870479775837), (4616, 0.002568002744065723), (136, 0.002567174738359241), (2735, 0.002566737026330102), (2399, 0.00256612210438197), (2593, 0.002564847818380173), (3369, 0.002564243941778946), (558, 0.0025634529682932714), (355, 0.002563389610050039), (638, 0.0025621840052121704), (1667, 0.0025620337051346586), (1357, 0.0025618662462206653), (4479, 0.002560381780883112), (2845, 0.0025587095145640057), (1079, 0.002556435273435915), (2453, 0.0025550290090805153), (3455, 0.0025525473675845054), (3876, 0.0025518231509481883), (457, 0.0025514773499665574), (359, 0.0025511872217463824), (1462, 0.0025498390236783288), (4326, 0.002548728137129326), (2362, 0.0025482948772064104), (3050, 0.0025469670517633885), (1672, 0.0025448892044357472), (910, 0.002544770135247082), (1628, 0.0025436519822472485), (4502, 0.0025390173782950894), (1434, 0.0025380987019362573), (218, 0.0025379769191477383), (1796, 0.002536457334494802), (2728, 0.0025303962014364676), (3953, 0.002529373494193115), (3278, 0.0025277750963634956), (3474, 0.0025260607100882136), (1528, 0.002524989827492297), (1680, 0.0025247517533295172), (1892, 0.0025243328564154054), (1237, 0.00252353464266369), (4053, 0.0025225171536923537), (3267, 0.00252246712097085), (1865, 0.0025219616192228914), (608, 0.002519957680367009), (285, 0.002517748073635882), (2402, 0.002517595448329857), (3304, 0.002517219995533154), (1869, 0.0025169772886306134), (3614, 0.00251625187833399), (3705, 0.0025155431202409173), (473, 0.0025150544218334398), (1827, 0.002513869126255346), (1826, 0.002513814469547537), (1605, 0.0025114891308447578), (1387, 0.0025095898153152615), (1161, 0.002509448809876359), (2323, 0.0025087036531375607), (1366, 0.0025076478667900404), (563, 0.0025067502988866054), (515, 0.0025058227686622254), (4350, 0.002505700303235385), (581, 0.0025051910251665858), (4712, 0.002504296879834558), (2741, 0.0025030464051520734), (1080, 0.002502612556714169), (3974, 0.0025021290667537385), (4475, 0.0024998768051094763), (1625, 0.002499776484324911), (1739, 0.0024996010122374655), (2248, 0.0024992450142926224), (3863, 0.0024980697929818064), (4304, 0.0024950383644001058), (2591, 0.002494053443943163), (158, 0.002493640373955478), (1980, 0.002493428782296706), (2191, 0.0024931306721390264), (4080, 0.0024925914960323885), (2976, 0.002490304638423979), (3167, 0.002489602093004326), (3556, 0.002485650280422759), (2580, 0.0024826016912215068), (2163, 0.002480518573284771), (268, 0.0024794530351339803), (1318, 0.002479283620300627), (2213, 0.0024790623891694846), (672, 0.0024788951646892783), (3956, 0.0024777739830080595), (1977, 0.0024751439325545587), (2264, 0.0024697474727282697), (703, 0.0024693753991585307), (3380, 0.002467764937856355), (4608, 0.0024669502947314544), (4104, 0.002464127333732385), (1830, 0.0024632236282005897), (1290, 0.0024628526935329643), (1954, 0.002462565309332532), (4343, 0.0024589222394319305), (3755, 0.0024569130694417547), (200, 0.0024563918848488184), (2502, 0.0024527346088028417), (1776, 0.0024482617099698904), (1616, 0.002443004785724578), (4066, 0.0024413383054707953), (3910, 0.0024406287519371686), (2240, 0.0024395555170583835), (480, 0.002439410981993802), (647, 0.0024391416733130044), (851, 0.002435347624788186), (3895, 0.0024335594974204213), (4432, 0.002433226649966767), (4296, 0.002421465320566713), (1943, 0.0024196940774388383), (4232, 0.0024167889076947054), (1217, 0.0024134595707594273), (2747, 0.0024088113689000653), (103, 0.0024078461313670396), (642, 0.0024012307117428815), (4386, 0.002397597350363691), (1370, 0.002397012733964111), (278, 0.00239427980632666), (861, 0.0023938954272645784), (364, 0.002391615907300379), (2527, 0.0023909793098730644), (3629, 0.002387469400498076), (286, 0.0023855381306645174), (4627, 0.002385388869961252), (4411, 0.0023815981029492246), (2382, 0.0023813784947941297), (1763, 0.0023806091560554916), (4476, 0.0023788185379414717), (1088, 0.0023764219487119034), (1627, 0.0023763335431596093), (2146, 0.002375739486717893), (1050, 0.002368318695764096), (2758, 0.0023609980791579744), (1340, 0.0023608644102109046), (1202, 0.002358026726969966), (3669, 0.0023558887288763677), (1356, 0.002352927068562802), (617, 0.002347095022741464), (951, 0.002346810696274482), (3347, 0.0023332608206480037), (3091, 0.002326868396416241), (2132, 0.0023224696808772315), (1042, 0.0023217796898859946), (2359, 0.002320309846334431), (2355, 0.002317641896114769), (3331, 0.0023173506287992394), (16, 0.0023170638474197297), (3252, 0.002316418131020513), (1078, 0.0023151046577807037), (796, 0.002307984321287256), (2602, 0.0023066722729797647), (3056, 0.0023029896010135107), (901, 0.0023025748190432073), (149, 0.0022956544973305286), (2034, 0.0022903359859623943), (3548, 0.0022860967670788224), (1427, 0.0022788428081309572), (1415, 0.002277646352090837), (2697, 0.0022758427133916354), (3254, 0.0022730212636285947), (645, 0.0022705110439840666), (3313, 0.0022696299912415775), (1098, 0.0022668958751027564), (816, 0.002262640567886768), (1624, 0.0022621875615114464), (942, 0.0022600161489403155), (4311, 0.0022585691883410565), (4744, 0.0022535880616841608), (2441, 0.002251144332142851), (4626, 0.0022475765494454083), (3575, 0.0022458706527704415), (1303, 0.0022413672181308317), (3431, 0.002232391953751826), (2925, 0.0022320206637347242), (194, 0.002230431041178218), (3471, 0.0022103581730540754), (1677, 0.002187103749842905), (4598, 0.0021809614897757026), (1040, 0.0021712697852853185), (571, 0.002143394049090711), (2760, 0.002133732135228972), (224, 0.0021269460281390317), (453, 0.0021257459698925886), (351, 0.0021209395628949165), (1861, 0.002107186410510704), (3645, 0.0020953784589435426), (3285, 0.0020899054841227683), (4445, 0.0020869442290825557), (256, 0.002076871071431489), (4301, 0.0020625143398049035), (2902, 0.0020445869203654637), (455, 0.0019726667207739766), (831, 0.0019625350438199846), (542, 0.001949437880688061), (129, 0.0019412466808256402), (824, 0.0019358747009913069), (3421, 0.0019232716403817102), (740, 0.0018649119932009624), (3392, 0.0018471463819336618), (24, 0.0018156681053115406), (3608, 0.001810727324195061), (2538, 0.0016633365935787563), (1, 0.0), (6, 0.0), (13, 0.0), (17, 0.0), (27, 0.0), (30, 0.0), (36, 0.0), (42, 0.0), (46, 0.0), (47, 0.0), (49, 0.0), (53, 0.0), (54, 0.0), (55, 0.0), (59, 0.0), (69, 0.0), (70, 0.0), (76, 0.0), (77, 0.0), (89, 0.0), (99, 0.0), (100, 0.0), (117, 0.0), (118, 0.0), (133, 0.0), (134, 0.0), (139, 0.0), (141, 0.0), (143, 0.0), (145, 0.0), (151, 0.0), (160, 0.0), (163, 0.0), (180, 0.0), (181, 0.0), (187, 0.0), (188, 0.0), (205, 0.0), (217, 0.0), (219, 0.0), (233, 0.0), (257, 0.0), (258, 0.0), (265, 0.0), (289, 0.0), (290, 0.0), (295, 0.0), (304, 0.0), (311, 0.0), (312, 0.0), (315, 0.0), (316, 0.0), (320, 0.0), (323, 0.0), (331, 0.0), (333, 0.0), (339, 0.0), (360, 0.0), (362, 0.0), (365, 0.0), (366, 0.0), (375, 0.0), (376, 0.0), (379, 0.0), (382, 0.0), (383, 0.0), (384, 0.0), (385, 0.0), (389, 0.0), (391, 0.0), (393, 0.0), (398, 0.0), (401, 0.0), (404, 0.0), (405, 0.0), (415, 0.0), (422, 0.0), (423, 0.0), (438, 0.0), (440, 0.0), (451, 0.0), (461, 0.0), (467, 0.0), (474, 0.0), (501, 0.0), (503, 0.0), (513, 0.0), (514, 0.0), (517, 0.0), (520, 0.0), (531, 0.0), (532, 0.0), (535, 0.0), (536, 0.0), (539, 0.0), (550, 0.0), (552, 0.0), (554, 0.0), (556, 0.0), (557, 0.0), (559, 0.0), (565, 0.0), (567, 0.0), (570, 0.0), (572, 0.0), (586, 0.0), (592, 0.0), (595, 0.0), (601, 0.0), (602, 0.0), (619, 0.0), (621, 0.0), (625, 0.0), (630, 0.0), (633, 0.0), (634, 0.0), (649, 0.0), (650, 0.0), (656, 0.0), (662, 0.0), (663, 0.0), (665, 0.0), (667, 0.0), (678, 0.0), (679, 0.0), (682, 0.0), (686, 0.0), (695, 0.0), (702, 0.0), (708, 0.0), (709, 0.0), (711, 0.0), (714, 0.0), (720, 0.0), (724, 0.0), (730, 0.0), (741, 0.0), (745, 0.0), (746, 0.0), (753, 0.0), (760, 0.0), (770, 0.0), (771, 0.0), (772, 0.0), (784, 0.0), (786, 0.0), (793, 0.0), (795, 0.0), (797, 0.0), (801, 0.0), (802, 0.0), (811, 0.0), (827, 0.0), (836, 0.0), (837, 0.0), (839, 0.0), (841, 0.0), (842, 0.0), (849, 0.0), (855, 0.0), (859, 0.0), (869, 0.0), (873, 0.0), (877, 0.0), (892, 0.0), (893, 0.0), (902, 0.0), (905, 0.0), (932, 0.0), (946, 0.0), (950, 0.0), (954, 0.0), (955, 0.0), (956, 0.0), (960, 0.0), (961, 0.0), (964, 0.0), (965, 0.0), (972, 0.0), (976, 0.0), (977, 0.0), (983, 0.0), (990, 0.0), (996, 0.0), (997, 0.0), (1003, 0.0), (1008, 0.0), (1013, 0.0), (1016, 0.0), (1024, 0.0), (1028, 0.0), (1038, 0.0), (1045, 0.0), (1051, 0.0), (1055, 0.0), (1058, 0.0), (1061, 0.0), (1062, 0.0), (1063, 0.0), (1067, 0.0), (1070, 0.0), (1076, 0.0), (1081, 0.0), (1082, 0.0), (1085, 0.0), (1086, 0.0), (1092, 0.0), (1093, 0.0), (1103, 0.0), (1108, 0.0), (1115, 0.0), (1135, 0.0), (1137, 0.0), (1139, 0.0), (1142, 0.0), (1143, 0.0), (1147, 0.0), (1149, 0.0), (1151, 0.0), (1153, 0.0), (1154, 0.0), (1156, 0.0), (1158, 0.0), (1165, 0.0), (1166, 0.0), (1167, 0.0), (1180, 0.0), (1181, 0.0), (1189, 0.0), (1190, 0.0), (1198, 0.0), (1201, 0.0), (1205, 0.0), (1207, 0.0), (1212, 0.0), (1213, 0.0), (1228, 0.0), (1230, 0.0), (1233, 0.0), (1235, 0.0), (1236, 0.0), (1240, 0.0), (1256, 0.0), (1263, 0.0), (1268, 0.0), (1269, 0.0), (1272, 0.0), (1276, 0.0), (1280, 0.0), (1283, 0.0), (1285, 0.0), (1287, 0.0), (1289, 0.0), (1292, 0.0), (1300, 0.0), (1309, 0.0), (1311, 0.0), (1315, 0.0), (1320, 0.0), (1323, 0.0), (1326, 0.0), (1330, 0.0), (1331, 0.0), (1333, 0.0), (1342, 0.0), (1344, 0.0), (1348, 0.0), (1353, 0.0), (1358, 0.0), (1361, 0.0), (1362, 0.0), (1363, 0.0), (1388, 0.0), (1393, 0.0), (1399, 0.0), (1405, 0.0), (1406, 0.0), (1419, 0.0), (1424, 0.0), (1437, 0.0), (1441, 0.0), (1444, 0.0), (1449, 0.0), (1457, 0.0), (1460, 0.0), (1466, 0.0), (1470, 0.0), (1473, 0.0), (1485, 0.0), (1490, 0.0), (1491, 0.0), (1504, 0.0), (1507, 0.0), (1508, 0.0), (1512, 0.0), (1523, 0.0), (1529, 0.0), (1532, 0.0), (1534, 0.0), (1536, 0.0), (1540, 0.0), (1541, 0.0), (1542, 0.0), (1545, 0.0), (1549, 0.0), (1557, 0.0), (1560, 0.0), (1561, 0.0), (1562, 0.0), (1563, 0.0), (1566, 0.0), (1573, 0.0), (1575, 0.0), (1576, 0.0), (1585, 0.0), (1589, 0.0), (1590, 0.0), (1596, 0.0), (1599, 0.0), (1601, 0.0), (1603, 0.0), (1607, 0.0), (1609, 0.0), (1614, 0.0), (1615, 0.0), (1618, 0.0), (1622, 0.0), (1623, 0.0), (1631, 0.0), (1633, 0.0), (1635, 0.0), (1638, 0.0), (1646, 0.0), (1651, 0.0), (1652, 0.0), (1659, 0.0), (1661, 0.0), (1673, 0.0), (1676, 0.0), (1686, 0.0), (1694, 0.0), (1699, 0.0), (1705, 0.0), (1720, 0.0), (1724, 0.0), (1729, 0.0), (1731, 0.0), (1732, 0.0), (1734, 0.0), (1735, 0.0), (1741, 0.0), (1745, 0.0), (1750, 0.0), (1752, 0.0), (1753, 0.0), (1767, 0.0), (1771, 0.0), (1777, 0.0), (1783, 0.0), (1785, 0.0), (1786, 0.0), (1789, 0.0), (1791, 0.0), (1795, 0.0), (1800, 0.0), (1803, 0.0), (1806, 0.0), (1815, 0.0), (1820, 0.0), (1829, 0.0), (1832, 0.0), (1834, 0.0), (1835, 0.0), (1836, 0.0), (1837, 0.0), (1838, 0.0), (1839, 0.0), (1842, 0.0), (1847, 0.0), (1855, 0.0), (1856, 0.0), (1868, 0.0), (1879, 0.0), (1880, 0.0), (1889, 0.0), (1894, 0.0), (1898, 0.0), (1900, 0.0), (1901, 0.0), (1904, 0.0), (1912, 0.0), (1917, 0.0), (1927, 0.0), (1932, 0.0), (1938, 0.0), (1939, 0.0), (1940, 0.0), (1941, 0.0), (1944, 0.0), (1949, 0.0), (1956, 0.0), (1962, 0.0), (1963, 0.0), (1965, 0.0), (1966, 0.0), (1970, 0.0), (1972, 0.0), (1974, 0.0), (1975, 0.0), (1976, 0.0), (1978, 0.0), (1979, 0.0), (1992, 0.0), (1996, 0.0), (1998, 0.0), (1999, 0.0), (2001, 0.0), (2002, 0.0), (2006, 0.0), (2007, 0.0), (2009, 0.0), (2018, 0.0), (2019, 0.0), (2021, 0.0), (2025, 0.0), (2026, 0.0), (2030, 0.0), (2038, 0.0), (2041, 0.0), (2042, 0.0), (2050, 0.0), (2054, 0.0), (2057, 0.0), (2059, 0.0), (2063, 0.0), (2077, 0.0), (2085, 0.0), (2090, 0.0), (2092, 0.0), (2093, 0.0), (2100, 0.0), (2106, 0.0), (2115, 0.0), (2124, 0.0), (2125, 0.0), (2135, 0.0), (2138, 0.0), (2140, 0.0), (2150, 0.0), (2153, 0.0), (2158, 0.0), (2164, 0.0), (2165, 0.0), (2170, 0.0), (2171, 0.0), (2172, 0.0), (2182, 0.0), (2183, 0.0), (2184, 0.0), (2186, 0.0), (2194, 0.0), (2200, 0.0), (2206, 0.0), (2207, 0.0), (2208, 0.0), (2219, 0.0), (2220, 0.0), (2225, 0.0), (2227, 0.0), (2228, 0.0), (2231, 0.0), (2232, 0.0), (2235, 0.0), (2238, 0.0), (2249, 0.0), (2258, 0.0), (2261, 0.0), (2271, 0.0), (2273, 0.0), (2274, 0.0), (2275, 0.0), (2280, 0.0), (2281, 0.0), (2282, 0.0), (2297, 0.0), (2298, 0.0), (2300, 0.0), (2304, 0.0), (2305, 0.0), (2307, 0.0), (2312, 0.0), (2314, 0.0), (2315, 0.0), (2325, 0.0), (2328, 0.0), (2331, 0.0), (2333, 0.0), (2336, 0.0), (2337, 0.0), (2341, 0.0), (2343, 0.0), (2353, 0.0), (2358, 0.0), (2360, 0.0), (2365, 0.0), (2366, 0.0), (2369, 0.0), (2371, 0.0), (2372, 0.0), (2373, 0.0), (2383, 0.0), (2384, 0.0), (2389, 0.0), (2395, 0.0), (2408, 0.0), (2413, 0.0), (2420, 0.0), (2424, 0.0), (2429, 0.0), (2433, 0.0), (2435, 0.0), (2449, 0.0), (2450, 0.0), (2456, 0.0), (2460, 0.0), (2462, 0.0), (2468, 0.0), (2471, 0.0), (2472, 0.0), (2476, 0.0), (2479, 0.0), (2493, 0.0), (2500, 0.0), (2506, 0.0), (2508, 0.0), (2515, 0.0), (2516, 0.0), (2521, 0.0), (2523, 0.0), (2536, 0.0), (2539, 0.0), (2541, 0.0), (2542, 0.0), (2543, 0.0), (2544, 0.0), (2548, 0.0), (2551, 0.0), (2564, 0.0), (2567, 0.0), (2573, 0.0), (2574, 0.0), (2576, 0.0), (2578, 0.0), (2583, 0.0), (2589, 0.0), (2594, 0.0), (2596, 0.0), (2597, 0.0), (2600, 0.0), (2605, 0.0), (2618, 0.0), (2626, 0.0), (2635, 0.0), (2641, 0.0), (2644, 0.0), (2646, 0.0), (2648, 0.0), (2658, 0.0), (2659, 0.0), (2663, 0.0), (2667, 0.0), (2671, 0.0), (2676, 0.0), (2681, 0.0), (2683, 0.0), (2684, 0.0), (2685, 0.0), (2686, 0.0), (2690, 0.0), (2693, 0.0), (2699, 0.0), (2700, 0.0), (2701, 0.0), (2703, 0.0), (2709, 0.0), (2710, 0.0), (2711, 0.0), (2715, 0.0), (2717, 0.0), (2718, 0.0), (2733, 0.0), (2736, 0.0), (2750, 0.0), (2754, 0.0), (2756, 0.0), (2773, 0.0), (2780, 0.0), (2781, 0.0), (2799, 0.0), (2806, 0.0), (2810, 0.0), (2811, 0.0), (2815, 0.0), (2819, 0.0), (2822, 0.0), (2823, 0.0), (2824, 0.0), (2825, 0.0), (2827, 0.0), (2828, 0.0), (2835, 0.0), (2836, 0.0), (2839, 0.0), (2850, 0.0), (2851, 0.0), (2852, 0.0), (2856, 0.0), (2860, 0.0), (2864, 0.0), (2865, 0.0), (2866, 0.0), (2871, 0.0), (2875, 0.0), (2877, 0.0), (2880, 0.0), (2885, 0.0), (2891, 0.0), (2896, 0.0), (2905, 0.0), (2913, 0.0), (2918, 0.0), (2922, 0.0), (2928, 0.0), (2939, 0.0), (2947, 0.0), (2948, 0.0), (2952, 0.0), (2955, 0.0), (2958, 0.0), (2960, 0.0), (2967, 0.0), (2968, 0.0), (2971, 0.0), (2973, 0.0), (2978, 0.0), (2979, 0.0), (2982, 0.0), (2983, 0.0), (2984, 0.0), (2990, 0.0), (2994, 0.0), (3001, 0.0), (3002, 0.0), (3005, 0.0), (3006, 0.0), (3017, 0.0), (3021, 0.0), (3025, 0.0), (3029, 0.0), (3034, 0.0), (3038, 0.0), (3041, 0.0), (3045, 0.0), (3047, 0.0), (3048, 0.0), (3049, 0.0), (3054, 0.0), (3058, 0.0), (3059, 0.0), (3060, 0.0), (3068, 0.0), (3070, 0.0), (3077, 0.0), (3078, 0.0), (3082, 0.0), (3088, 0.0), (3089, 0.0), (3090, 0.0), (3092, 0.0), (3098, 0.0), (3099, 0.0), (3100, 0.0), (3102, 0.0), (3106, 0.0), (3107, 0.0), (3109, 0.0), (3110, 0.0), (3115, 0.0), (3117, 0.0), (3118, 0.0), (3124, 0.0), (3126, 0.0), (3130, 0.0), (3132, 0.0), (3134, 0.0), (3135, 0.0), (3136, 0.0), (3138, 0.0), (3158, 0.0), (3160, 0.0), (3162, 0.0), (3163, 0.0), (3168, 0.0), (3169, 0.0), (3175, 0.0), (3176, 0.0), (3177, 0.0), (3179, 0.0), (3180, 0.0), (3185, 0.0), (3188, 0.0), (3189, 0.0), (3192, 0.0), (3207, 0.0), (3208, 0.0), (3212, 0.0), (3213, 0.0), (3217, 0.0), (3223, 0.0), (3232, 0.0), (3236, 0.0), (3247, 0.0), (3250, 0.0), (3251, 0.0), (3255, 0.0), (3261, 0.0), (3263, 0.0), (3266, 0.0), (3272, 0.0), (3279, 0.0), (3281, 0.0), (3286, 0.0), (3287, 0.0), (3305, 0.0), (3319, 0.0), (3323, 0.0), (3324, 0.0), (3332, 0.0), (3333, 0.0), (3338, 0.0), (3339, 0.0), (3366, 0.0), (3367, 0.0), (3371, 0.0), (3375, 0.0), (3383, 0.0), (3394, 0.0), (3398, 0.0), (3400, 0.0), (3401, 0.0), (3404, 0.0), (3405, 0.0), (3422, 0.0), (3429, 0.0), (3432, 0.0), (3439, 0.0), (3442, 0.0), (3443, 0.0), (3451, 0.0), (3453, 0.0), (3462, 0.0), (3466, 0.0), (3467, 0.0), (3468, 0.0), (3470, 0.0), (3472, 0.0), (3475, 0.0), (3476, 0.0), (3482, 0.0), (3485, 0.0), (3486, 0.0), (3488, 0.0), (3489, 0.0), (3490, 0.0), (3495, 0.0), (3505, 0.0), (3510, 0.0), (3513, 0.0), (3519, 0.0), (3525, 0.0), (3528, 0.0), (3529, 0.0), (3531, 0.0), (3532, 0.0), (3533, 0.0), (3535, 0.0), (3539, 0.0), (3543, 0.0), (3545, 0.0), (3547, 0.0), (3550, 0.0), (3554, 0.0), (3555, 0.0), (3570, 0.0), (3572, 0.0), (3573, 0.0), (3576, 0.0), (3580, 0.0), (3581, 0.0), (3582, 0.0), (3583, 0.0), (3584, 0.0), (3588, 0.0), (3595, 0.0), (3597, 0.0), (3600, 0.0), (3602, 0.0), (3603, 0.0), (3607, 0.0), (3609, 0.0), (3617, 0.0), (3622, 0.0), (3625, 0.0), (3628, 0.0), (3630, 0.0), (3649, 0.0), (3652, 0.0), (3659, 0.0), (3662, 0.0), (3663, 0.0), (3664, 0.0), (3671, 0.0), (3676, 0.0), (3679, 0.0), (3682, 0.0), (3683, 0.0), (3685, 0.0), (3686, 0.0), (3688, 0.0), (3693, 0.0), (3695, 0.0), (3697, 0.0), (3700, 0.0), (3702, 0.0), (3703, 0.0), (3708, 0.0), (3716, 0.0), (3717, 0.0), (3721, 0.0), (3723, 0.0), (3726, 0.0), (3735, 0.0), (3738, 0.0), (3740, 0.0), (3744, 0.0), (3750, 0.0), (3753, 0.0), (3758, 0.0), (3760, 0.0), (3761, 0.0), (3769, 0.0), (3773, 0.0), (3774, 0.0), (3775, 0.0), (3782, 0.0), (3783, 0.0), (3785, 0.0), (3787, 0.0), (3788, 0.0), (3789, 0.0), (3791, 0.0), (3793, 0.0), (3794, 0.0), (3796, 0.0), (3798, 0.0), (3800, 0.0), (3802, 0.0), (3805, 0.0), (3806, 0.0), (3808, 0.0), (3812, 0.0), (3815, 0.0), (3820, 0.0), (3824, 0.0), (3830, 0.0), (3833, 0.0), (3834, 0.0), (3836, 0.0), (3837, 0.0), (3838, 0.0), (3840, 0.0), (3842, 0.0), (3843, 0.0), (3844, 0.0), (3846, 0.0), (3847, 0.0), (3850, 0.0), (3851, 0.0), (3853, 0.0), (3856, 0.0), (3859, 0.0), (3861, 0.0), (3872, 0.0), (3879, 0.0), (3881, 0.0), (3885, 0.0), (3887, 0.0), (3896, 0.0), (3905, 0.0), (3908, 0.0), (3912, 0.0), (3916, 0.0), (3918, 0.0), (3923, 0.0), (3929, 0.0), (3931, 0.0), (3934, 0.0), (3936, 0.0), (3938, 0.0), (3942, 0.0), (3947, 0.0), (3948, 0.0), (3949, 0.0), (3958, 0.0), (3964, 0.0), (3965, 0.0), (3968, 0.0), (3971, 0.0), (3972, 0.0), (3975, 0.0), (3976, 0.0), (3977, 0.0), (3979, 0.0), (3981, 0.0), (3985, 0.0), (3988, 0.0), (3989, 0.0), (3993, 0.0), (3996, 0.0), (3997, 0.0), (4003, 0.0), (4010, 0.0), (4018, 0.0), (4021, 0.0), (4022, 0.0), (4026, 0.0), (4027, 0.0), (4028, 0.0), (4029, 0.0), (4034, 0.0), (4037, 0.0), (4039, 0.0), (4041, 0.0), (4043, 0.0), (4044, 0.0), (4050, 0.0), (4063, 0.0), (4065, 0.0), (4067, 0.0), (4072, 0.0), (4073, 0.0), (4078, 0.0), (4084, 0.0), (4086, 0.0), (4090, 0.0), (4093, 0.0), (4096, 0.0), (4100, 0.0), (4103, 0.0), (4105, 0.0), (4125, 0.0), (4127, 0.0), (4128, 0.0), (4131, 0.0), (4144, 0.0), (4146, 0.0), (4148, 0.0), (4153, 0.0), (4159, 0.0), (4162, 0.0), (4166, 0.0), (4167, 0.0), (4168, 0.0), (4170, 0.0), (4177, 0.0), (4179, 0.0), (4191, 0.0), (4193, 0.0), (4195, 0.0), (4204, 0.0), (4207, 0.0), (4208, 0.0), (4211, 0.0), (4212, 0.0), (4215, 0.0), (4216, 0.0), (4219, 0.0), (4224, 0.0), (4227, 0.0), (4229, 0.0), (4233, 0.0), (4234, 0.0), (4235, 0.0), (4238, 0.0), (4248, 0.0), (4250, 0.0), (4251, 0.0), (4253, 0.0), (4258, 0.0), (4261, 0.0), (4264, 0.0), (4270, 0.0), (4274, 0.0), (4275, 0.0), (4276, 0.0), (4278, 0.0), (4285, 0.0), (4289, 0.0), (4291, 0.0), (4294, 0.0), (4302, 0.0), (4305, 0.0), (4307, 0.0), (4310, 0.0), (4313, 0.0), (4315, 0.0), (4316, 0.0), (4317, 0.0), (4324, 0.0), (4329, 0.0), (4331, 0.0), (4341, 0.0), (4352, 0.0), (4358, 0.0), (4360, 0.0), (4365, 0.0), (4370, 0.0), (4372, 0.0), (4375, 0.0), (4377, 0.0), (4378, 0.0), (4380, 0.0), (4383, 0.0), (4389, 0.0), (4390, 0.0), (4392, 0.0), (4393, 0.0), (4405, 0.0), (4410, 0.0), (4413, 0.0), (4415, 0.0), (4417, 0.0), (4421, 0.0), (4424, 0.0), (4425, 0.0), (4433, 0.0), (4434, 0.0), (4437, 0.0), (4447, 0.0), (4451, 0.0), (4452, 0.0), (4453, 0.0), (4455, 0.0), (4456, 0.0), (4457, 0.0), (4463, 0.0), (4464, 0.0), (4466, 0.0), (4468, 0.0), (4478, 0.0), (4480, 0.0), (4485, 0.0), (4488, 0.0), (4493, 0.0), (4498, 0.0), (4499, 0.0), (4500, 0.0), (4506, 0.0), (4508, 0.0), (4509, 0.0), (4513, 0.0), (4514, 0.0), (4519, 0.0), (4525, 0.0), (4526, 0.0), (4527, 0.0), (4534, 0.0), (4537, 0.0), (4538, 0.0), (4539, 0.0), (4543, 0.0), (4547, 0.0), (4552, 0.0), (4553, 0.0), (4556, 0.0), (4557, 0.0), (4558, 0.0), (4559, 0.0), (4560, 0.0), (4561, 0.0), (4565, 0.0), (4569, 0.0), (4570, 0.0), (4577, 0.0), (4578, 0.0), (4580, 0.0), (4581, 0.0), (4583, 0.0), (4585, 0.0), (4588, 0.0), (4595, 0.0), (4597, 0.0), (4599, 0.0), (4609, 0.0), (4615, 0.0), (4618, 0.0), (4622, 0.0), (4623, 0.0), (4630, 0.0), (4631, 0.0), (4639, 0.0), (4642, 0.0), (4644, 0.0), (4645, 0.0), (4648, 0.0), (4651, 0.0), (4654, 0.0), (4655, 0.0), (4656, 0.0), (4662, 0.0), (4663, 0.0), (4664, 0.0), (4665, 0.0), (4667, 0.0), (4671, 0.0), (4672, 0.0), (4676, 0.0), (4678, 0.0), (4681, 0.0), (4683, 0.0), (4684, 0.0), (4688, 0.0), (4691, 0.0), (4697, 0.0), (4698, 0.0), (4707, 0.0), (4708, 0.0), (4711, 0.0), (4720, 0.0), (4725, 0.0), (4736, 0.0), (4737, 0.0), (4741, 0.0), (4742, 0.0), (4745, 0.0), (4746, 0.0), (4750, 0.0), (4751, 0.0), (4754, 0.0), (4758, 0.0), (4759, 0.0)]\n"
          ]
        }
      ]
    },
    {
      "cell_type": "code",
      "source": [
        "print('Top 30 Movies Suggested for you: \\n')\n",
        "\n",
        "i = 1\n",
        "\n",
        "for movie in Sorted_Similar_Movies:\n",
        "  index = movie[0]\n",
        "  title_from_index = df[df.index==index]['Movie_Title'].values[0]\n",
        "  if (i<31):\n",
        "    print(i, '.',title_from_index)\n",
        "    i+=1"
      ],
      "metadata": {
        "colab": {
          "base_uri": "https://localhost:8080/"
        },
        "id": "2O2qXJtWWc2f",
        "outputId": "c81dcd18-8a09-44f4-e209-7d9031522652"
      },
      "execution_count": 50,
      "outputs": [
        {
          "output_type": "stream",
          "name": "stdout",
          "text": [
            "Top 30 Movies Suggested for you: \n",
            "\n",
            "1 . 12 Years a Slave\n",
            "2 . Dirty Pretty Things\n",
            "3 . Black Mass\n",
            "4 . The Imitation Game\n",
            "5 . Hoop Dreams\n",
            "6 . Shame\n",
            "7 . Salt\n",
            "8 . Children of Men\n",
            "9 . Slow Burn\n",
            "10 . Secret in Their Eyes\n",
            "11 . Triple 9\n",
            "12 . Free State of Jones\n",
            "13 . American Gangster\n",
            "14 . The Fifth Estate\n",
            "15 . Night at the Museum\n",
            "16 . Tinker Tailor Soldier Spy\n",
            "17 . Prisoners\n",
            "18 . The Blind Side\n",
            "19 . My Life Without Me\n",
            "20 . Getaway\n",
            "21 . Redbelt\n",
            "22 . War Horse\n",
            "23 . Little Miss Sunshine\n",
            "24 . The Great Escape\n",
            "25 . Steve Jobs\n",
            "26 . Taxi Driver\n",
            "27 . Ray\n",
            "28 . Freeheld\n",
            "29 . Night at the Museum: Secret of the Tomb\n",
            "30 . Indiana Jones and the Kingdom of the Crystal Skull\n"
          ]
        }
      ]
    },
    {
      "cell_type": "markdown",
      "source": [
        "# Top 10 Movie Recommendation System"
      ],
      "metadata": {
        "id": "Nb5x4Y9UXLeP"
      }
    },
    {
      "cell_type": "code",
      "source": [
        "Movie_Name = input(' Enter your favourite movie name: ')\n",
        "List_Close_Match= difflib.get_close_matches(Movie_Name, All_Movie_Title_List)\n",
        "Close_Match = List_Close_Match[0]\n",
        "Index_of_Movie = df[df.Movie_Title == Close_Match]['Movie_ID'].values[0]\n",
        "Recommendation_Score = list(enumerate(Similarity_score[Index_of_Movie]))\n",
        "Sorted_Similar_Movies = sorted(Recommendation_Score, key = lambda x:x[1], reverse = True)\n",
        "print('Top 10 Movies suggested for you: \\n')\n",
        "i = 1\n",
        "for movie in Sorted_Similar_Movies:\n",
        "  index = movie[0]\n",
        "  title_from_index = df[df.Movie_ID==index]['Movie_Title'].values\n",
        "  if (i<11):\n",
        "    print(i, '.', title_from_index)\n",
        "    i+=1\n"
      ],
      "metadata": {
        "colab": {
          "base_uri": "https://localhost:8080/"
        },
        "id": "YeQqup6ZWomQ",
        "outputId": "27d63be1-fd03-4bc4-bb4c-536328daee8a"
      },
      "execution_count": 52,
      "outputs": [
        {
          "output_type": "stream",
          "name": "stdout",
          "text": [
            " Enter your favourite movie name: night at musium\n",
            "Top 10 Movies suggested for you: \n",
            "\n",
            "1 . ['Night at the Museum']\n",
            "2 . ['Pink Flamingos']\n",
            "3 . ['The Trials Of Darryl Hunt']\n",
            "4 . ['Legion']\n",
            "5 . ['Sugar Hill']\n",
            "6 . ['The Prince of Egypt']\n",
            "7 . ['Sleep Tight']\n",
            "8 . ['The Boss']\n",
            "9 . ['Crocodile Dundee II']\n",
            "10 . ['Mission: Impossible - Rogue Nation']\n"
          ]
        }
      ]
    },
    {
      "cell_type": "markdown",
      "source": [
        "**Explaination:- as shown above it takes the user's favourite movie name and show the top 10 movies suggested for the user by sorting similar types of movies which are close to there favourite in one way or the other and placeing them in 1-10 format from closest to the name to movies u might like**"
      ],
      "metadata": {
        "id": "LrEIRCfUvFsI"
      }
    }
  ]
}